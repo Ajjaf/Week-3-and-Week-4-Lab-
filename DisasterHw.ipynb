{
 "cells": [
  {
   "cell_type": "markdown",
   "id": "c8a39f75-3304-47fb-91aa-84fb2bbb5234",
   "metadata": {},
   "source": [
    "# Disaster Dataset"
   ]
  },
  {
   "cell_type": "code",
   "execution_count": 98,
   "id": "ea8b573f-74af-4dae-8b70-d7ec829b83e0",
   "metadata": {},
   "outputs": [],
   "source": [
    "import os\n",
    "import pandas as pd\n",
    "import numpy as np\n",
    "import seaborn as sns\n",
    "import matplotlib.pyplot as plt\n",
    "import plotly.express as px\n",
    "from sklearn.preprocessing import OrdinalEncoder, OneHotEncoder"
   ]
  },
  {
   "cell_type": "markdown",
   "id": "acfcd8a6-763e-4ea0-a09e-baea4c82c8f6",
   "metadata": {},
   "source": [
    "### Environment set-up"
   ]
  },
  {
   "cell_type": "code",
   "execution_count": 47,
   "id": "7c8f3032-70ec-4061-b5f2-2acab05a794b",
   "metadata": {},
   "outputs": [],
   "source": [
    "df = pd.read_excel(\"/Users/jafar/Downloads/cis 490/public_emdat_project.xlsx\")"
   ]
  },
  {
   "cell_type": "code",
   "execution_count": 48,
   "id": "54253c87-c8cd-4c6a-a59e-7e9450f7492e",
   "metadata": {},
   "outputs": [
    {
     "data": {
      "text/html": [
       "<div>\n",
       "<style scoped>\n",
       "    .dataframe tbody tr th:only-of-type {\n",
       "        vertical-align: middle;\n",
       "    }\n",
       "\n",
       "    .dataframe tbody tr th {\n",
       "        vertical-align: top;\n",
       "    }\n",
       "\n",
       "    .dataframe thead th {\n",
       "        text-align: right;\n",
       "    }\n",
       "</style>\n",
       "<table border=\"1\" class=\"dataframe\">\n",
       "  <thead>\n",
       "    <tr style=\"text-align: right;\">\n",
       "      <th></th>\n",
       "      <th>DisNo.</th>\n",
       "      <th>Historic</th>\n",
       "      <th>Classification Key</th>\n",
       "      <th>Disaster Group</th>\n",
       "      <th>Disaster Subgroup</th>\n",
       "      <th>Disaster Type</th>\n",
       "      <th>Disaster Subtype</th>\n",
       "      <th>External IDs</th>\n",
       "      <th>Event Name</th>\n",
       "      <th>ISO</th>\n",
       "      <th>...</th>\n",
       "      <th>Reconstruction Costs ('000 US$)</th>\n",
       "      <th>Reconstruction Costs, Adjusted ('000 US$)</th>\n",
       "      <th>Insured Damage ('000 US$)</th>\n",
       "      <th>Insured Damage, Adjusted ('000 US$)</th>\n",
       "      <th>Total Damage ('000 US$)</th>\n",
       "      <th>Total Damage, Adjusted ('000 US$)</th>\n",
       "      <th>CPI</th>\n",
       "      <th>Admin Units</th>\n",
       "      <th>Entry Date</th>\n",
       "      <th>Last Update</th>\n",
       "    </tr>\n",
       "  </thead>\n",
       "  <tbody>\n",
       "    <tr>\n",
       "      <th>0</th>\n",
       "      <td>1999-9388-DJI</td>\n",
       "      <td>No</td>\n",
       "      <td>nat-cli-dro-dro</td>\n",
       "      <td>Natural</td>\n",
       "      <td>Climatological</td>\n",
       "      <td>Drought</td>\n",
       "      <td>Drought</td>\n",
       "      <td>NaN</td>\n",
       "      <td>NaN</td>\n",
       "      <td>DJI</td>\n",
       "      <td>...</td>\n",
       "      <td>NaN</td>\n",
       "      <td>NaN</td>\n",
       "      <td>NaN</td>\n",
       "      <td>NaN</td>\n",
       "      <td>NaN</td>\n",
       "      <td>NaN</td>\n",
       "      <td>58.111</td>\n",
       "      <td>[{\"adm1_code\":1093,\"adm1_name\":\"Ali Sabieh\"},{...</td>\n",
       "      <td>2006-03-01</td>\n",
       "      <td>2023-09-25</td>\n",
       "    </tr>\n",
       "    <tr>\n",
       "      <th>1</th>\n",
       "      <td>1999-9388-SDN</td>\n",
       "      <td>No</td>\n",
       "      <td>nat-cli-dro-dro</td>\n",
       "      <td>Natural</td>\n",
       "      <td>Climatological</td>\n",
       "      <td>Drought</td>\n",
       "      <td>Drought</td>\n",
       "      <td>NaN</td>\n",
       "      <td>NaN</td>\n",
       "      <td>SDN</td>\n",
       "      <td>...</td>\n",
       "      <td>NaN</td>\n",
       "      <td>NaN</td>\n",
       "      <td>NaN</td>\n",
       "      <td>NaN</td>\n",
       "      <td>NaN</td>\n",
       "      <td>NaN</td>\n",
       "      <td>56.514</td>\n",
       "      <td>[{\"adm1_code\":2757,\"adm1_name\":\"Northern Darfu...</td>\n",
       "      <td>2006-03-08</td>\n",
       "      <td>2023-09-25</td>\n",
       "    </tr>\n",
       "    <tr>\n",
       "      <th>2</th>\n",
       "      <td>1999-9388-SOM</td>\n",
       "      <td>No</td>\n",
       "      <td>nat-cli-dro-dro</td>\n",
       "      <td>Natural</td>\n",
       "      <td>Climatological</td>\n",
       "      <td>Drought</td>\n",
       "      <td>Drought</td>\n",
       "      <td>NaN</td>\n",
       "      <td>NaN</td>\n",
       "      <td>SOM</td>\n",
       "      <td>...</td>\n",
       "      <td>NaN</td>\n",
       "      <td>NaN</td>\n",
       "      <td>NaN</td>\n",
       "      <td>NaN</td>\n",
       "      <td>NaN</td>\n",
       "      <td>NaN</td>\n",
       "      <td>56.514</td>\n",
       "      <td>[{\"adm1_code\":2691,\"adm1_name\":\"Bay\"},{\"adm1_c...</td>\n",
       "      <td>2006-03-08</td>\n",
       "      <td>2023-09-25</td>\n",
       "    </tr>\n",
       "    <tr>\n",
       "      <th>3</th>\n",
       "      <td>2000-0001-AGO</td>\n",
       "      <td>No</td>\n",
       "      <td>tec-tra-roa-roa</td>\n",
       "      <td>Technological</td>\n",
       "      <td>Transport</td>\n",
       "      <td>Road</td>\n",
       "      <td>Road</td>\n",
       "      <td>NaN</td>\n",
       "      <td>NaN</td>\n",
       "      <td>AGO</td>\n",
       "      <td>...</td>\n",
       "      <td>NaN</td>\n",
       "      <td>NaN</td>\n",
       "      <td>NaN</td>\n",
       "      <td>NaN</td>\n",
       "      <td>NaN</td>\n",
       "      <td>NaN</td>\n",
       "      <td>56.514</td>\n",
       "      <td>NaN</td>\n",
       "      <td>2004-10-27</td>\n",
       "      <td>2023-09-25</td>\n",
       "    </tr>\n",
       "    <tr>\n",
       "      <th>4</th>\n",
       "      <td>2000-0002-AGO</td>\n",
       "      <td>No</td>\n",
       "      <td>nat-hyd-flo-riv</td>\n",
       "      <td>Natural</td>\n",
       "      <td>Hydrological</td>\n",
       "      <td>Flood</td>\n",
       "      <td>Riverine flood</td>\n",
       "      <td>NaN</td>\n",
       "      <td>NaN</td>\n",
       "      <td>AGO</td>\n",
       "      <td>...</td>\n",
       "      <td>NaN</td>\n",
       "      <td>NaN</td>\n",
       "      <td>NaN</td>\n",
       "      <td>NaN</td>\n",
       "      <td>10000.000</td>\n",
       "      <td>17695.000</td>\n",
       "      <td>56.514</td>\n",
       "      <td>[{\"adm2_code\":4214,\"adm2_name\":\"Baia Farta\"},{...</td>\n",
       "      <td>2005-02-03</td>\n",
       "      <td>2023-09-25</td>\n",
       "    </tr>\n",
       "  </tbody>\n",
       "</table>\n",
       "<p>5 rows × 46 columns</p>\n",
       "</div>"
      ],
      "text/plain": [
       "          DisNo. Historic Classification Key Disaster Group Disaster Subgroup  \\\n",
       "0  1999-9388-DJI       No    nat-cli-dro-dro        Natural    Climatological   \n",
       "1  1999-9388-SDN       No    nat-cli-dro-dro        Natural    Climatological   \n",
       "2  1999-9388-SOM       No    nat-cli-dro-dro        Natural    Climatological   \n",
       "3  2000-0001-AGO       No    tec-tra-roa-roa  Technological         Transport   \n",
       "4  2000-0002-AGO       No    nat-hyd-flo-riv        Natural      Hydrological   \n",
       "\n",
       "  Disaster Type Disaster Subtype External IDs Event Name  ISO  ...  \\\n",
       "0       Drought          Drought          NaN        NaN  DJI  ...   \n",
       "1       Drought          Drought          NaN        NaN  SDN  ...   \n",
       "2       Drought          Drought          NaN        NaN  SOM  ...   \n",
       "3          Road             Road          NaN        NaN  AGO  ...   \n",
       "4         Flood   Riverine flood          NaN        NaN  AGO  ...   \n",
       "\n",
       "  Reconstruction Costs ('000 US$) Reconstruction Costs, Adjusted ('000 US$)  \\\n",
       "0                             NaN                                       NaN   \n",
       "1                             NaN                                       NaN   \n",
       "2                             NaN                                       NaN   \n",
       "3                             NaN                                       NaN   \n",
       "4                             NaN                                       NaN   \n",
       "\n",
       "  Insured Damage ('000 US$) Insured Damage, Adjusted ('000 US$)  \\\n",
       "0                       NaN                                 NaN   \n",
       "1                       NaN                                 NaN   \n",
       "2                       NaN                                 NaN   \n",
       "3                       NaN                                 NaN   \n",
       "4                       NaN                                 NaN   \n",
       "\n",
       "  Total Damage ('000 US$) Total Damage, Adjusted ('000 US$)    CPI  \\\n",
       "0                     NaN                               NaN 58.111   \n",
       "1                     NaN                               NaN 56.514   \n",
       "2                     NaN                               NaN 56.514   \n",
       "3                     NaN                               NaN 56.514   \n",
       "4               10000.000                         17695.000 56.514   \n",
       "\n",
       "                                         Admin Units Entry Date  Last Update  \n",
       "0  [{\"adm1_code\":1093,\"adm1_name\":\"Ali Sabieh\"},{... 2006-03-01   2023-09-25  \n",
       "1  [{\"adm1_code\":2757,\"adm1_name\":\"Northern Darfu... 2006-03-08   2023-09-25  \n",
       "2  [{\"adm1_code\":2691,\"adm1_name\":\"Bay\"},{\"adm1_c... 2006-03-08   2023-09-25  \n",
       "3                                                NaN 2004-10-27   2023-09-25  \n",
       "4  [{\"adm2_code\":4214,\"adm2_name\":\"Baia Farta\"},{... 2005-02-03   2023-09-25  \n",
       "\n",
       "[5 rows x 46 columns]"
      ]
     },
     "execution_count": 48,
     "metadata": {},
     "output_type": "execute_result"
    }
   ],
   "source": [
    "df.head()"
   ]
  },
  {
   "cell_type": "markdown",
   "id": "9571b999-4828-4c4f-b7ab-ba546e355dad",
   "metadata": {},
   "source": [
    "### Perform EDA on the Disasters dataset "
   ]
  },
  {
   "cell_type": "code",
   "execution_count": 49,
   "id": "f56a4a5b-c4ca-4dcd-a743-3175c7b5a0bc",
   "metadata": {},
   "outputs": [
    {
     "name": "stdout",
     "output_type": "stream",
     "text": [
      "<class 'pandas.core.frame.DataFrame'>\n",
      "RangeIndex: 15784 entries, 0 to 15783\n",
      "Data columns (total 46 columns):\n",
      " #   Column                                     Non-Null Count  Dtype         \n",
      "---  ------                                     --------------  -----         \n",
      " 0   DisNo.                                     15784 non-null  object        \n",
      " 1   Historic                                   15784 non-null  object        \n",
      " 2   Classification Key                         15784 non-null  object        \n",
      " 3   Disaster Group                             15784 non-null  object        \n",
      " 4   Disaster Subgroup                          15784 non-null  object        \n",
      " 5   Disaster Type                              15784 non-null  object        \n",
      " 6   Disaster Subtype                           15784 non-null  object        \n",
      " 7   External IDs                               2405 non-null   object        \n",
      " 8   Event Name                                 4955 non-null   object        \n",
      " 9   ISO                                        15784 non-null  object        \n",
      " 10  Country                                    15784 non-null  object        \n",
      " 11  Subregion                                  15784 non-null  object        \n",
      " 12  Region                                     15784 non-null  object        \n",
      " 13  Location                                   15136 non-null  object        \n",
      " 14  Origin                                     3955 non-null   object        \n",
      " 15  Associated Types                           3296 non-null   object        \n",
      " 16  OFDA/BHA Response                          15784 non-null  object        \n",
      " 17  Appeal                                     15784 non-null  object        \n",
      " 18  Declaration                                15784 non-null  object        \n",
      " 19  AID Contribution ('000 US$)                490 non-null    float64       \n",
      " 20  Magnitude                                  3378 non-null   float64       \n",
      " 21  Magnitude Scale                            9892 non-null   object        \n",
      " 22  Latitude                                   1815 non-null   float64       \n",
      " 23  Longitude                                  1815 non-null   float64       \n",
      " 24  River Basin                                1212 non-null   object        \n",
      " 25  Start Year                                 15784 non-null  int64         \n",
      " 26  Start Month                                15715 non-null  float64       \n",
      " 27  Start Day                                  14275 non-null  float64       \n",
      " 28  End Year                                   15784 non-null  int64         \n",
      " 29  End Month                                  15622 non-null  float64       \n",
      " 30  End Day                                    14342 non-null  float64       \n",
      " 31  Total Deaths                               12655 non-null  float64       \n",
      " 32  No. Injured                                5790 non-null   float64       \n",
      " 33  No. Affected                               7172 non-null   float64       \n",
      " 34  No. Homeless                               1324 non-null   float64       \n",
      " 35  Total Affected                             11682 non-null  float64       \n",
      " 36  Reconstruction Costs ('000 US$)            33 non-null     float64       \n",
      " 37  Reconstruction Costs, Adjusted ('000 US$)  33 non-null     float64       \n",
      " 38  Insured Damage ('000 US$)                  695 non-null    float64       \n",
      " 39  Insured Damage, Adjusted ('000 US$)        694 non-null    float64       \n",
      " 40  Total Damage ('000 US$)                    3126 non-null   float64       \n",
      " 41  Total Damage, Adjusted ('000 US$)          3111 non-null   float64       \n",
      " 42  CPI                                        15621 non-null  float64       \n",
      " 43  Admin Units                                8498 non-null   object        \n",
      " 44  Entry Date                                 15784 non-null  datetime64[ns]\n",
      " 45  Last Update                                15784 non-null  datetime64[ns]\n",
      "dtypes: datetime64[ns](2), float64(20), int64(2), object(22)\n",
      "memory usage: 5.5+ MB\n"
     ]
    }
   ],
   "source": [
    "# Display information of the dataset using df.info()\n",
    "df.info()"
   ]
  },
  {
   "cell_type": "markdown",
   "id": "9fcf5472-60d0-4e36-a501-5983c1fd7f39",
   "metadata": {},
   "source": [
    "##### Count how many null values are present in each column and display those counts"
   ]
  },
  {
   "cell_type": "code",
   "execution_count": 50,
   "id": "7882313b-892e-44e2-b038-8afd3f5ee9e3",
   "metadata": {},
   "outputs": [
    {
     "name": "stdout",
     "output_type": "stream",
     "text": [
      "DisNo.                                           0\n",
      "Historic                                         0\n",
      "Classification Key                               0\n",
      "Disaster Group                                   0\n",
      "Disaster Subgroup                                0\n",
      "Disaster Type                                    0\n",
      "Disaster Subtype                                 0\n",
      "External IDs                                 13379\n",
      "Event Name                                   10829\n",
      "ISO                                              0\n",
      "Country                                          0\n",
      "Subregion                                        0\n",
      "Region                                           0\n",
      "Location                                       648\n",
      "Origin                                       11829\n",
      "Associated Types                             12488\n",
      "OFDA/BHA Response                                0\n",
      "Appeal                                           0\n",
      "Declaration                                      0\n",
      "AID Contribution ('000 US$)                  15294\n",
      "Magnitude                                    12406\n",
      "Magnitude Scale                               5892\n",
      "Latitude                                     13969\n",
      "Longitude                                    13969\n",
      "River Basin                                  14572\n",
      "Start Year                                       0\n",
      "Start Month                                     69\n",
      "Start Day                                     1509\n",
      "End Year                                         0\n",
      "End Month                                      162\n",
      "End Day                                       1442\n",
      "Total Deaths                                  3129\n",
      "No. Injured                                   9994\n",
      "No. Affected                                  8612\n",
      "No. Homeless                                 14460\n",
      "Total Affected                                4102\n",
      "Reconstruction Costs ('000 US$)              15751\n",
      "Reconstruction Costs, Adjusted ('000 US$)    15751\n",
      "Insured Damage ('000 US$)                    15089\n",
      "Insured Damage, Adjusted ('000 US$)          15090\n",
      "Total Damage ('000 US$)                      12658\n",
      "Total Damage, Adjusted ('000 US$)            12673\n",
      "CPI                                            163\n",
      "Admin Units                                   7286\n",
      "Entry Date                                       0\n",
      "Last Update                                      0\n",
      "dtype: int64\n"
     ]
    }
   ],
   "source": [
    "print(df.isnull().sum())"
   ]
  },
  {
   "cell_type": "markdown",
   "id": "83a72e2f-bb5c-4801-aa97-24adf13f495d",
   "metadata": {},
   "source": [
    "##### Print the summary statistics for the entire data frame"
   ]
  },
  {
   "cell_type": "code",
   "execution_count": 51,
   "id": "1c40b369-3563-4a73-8474-8235d906fa83",
   "metadata": {},
   "outputs": [
    {
     "data": {
      "text/html": [
       "<div>\n",
       "<style scoped>\n",
       "    .dataframe tbody tr th:only-of-type {\n",
       "        vertical-align: middle;\n",
       "    }\n",
       "\n",
       "    .dataframe tbody tr th {\n",
       "        vertical-align: top;\n",
       "    }\n",
       "\n",
       "    .dataframe thead th {\n",
       "        text-align: right;\n",
       "    }\n",
       "</style>\n",
       "<table border=\"1\" class=\"dataframe\">\n",
       "  <thead>\n",
       "    <tr style=\"text-align: right;\">\n",
       "      <th></th>\n",
       "      <th>count</th>\n",
       "      <th>mean</th>\n",
       "      <th>std</th>\n",
       "      <th>min</th>\n",
       "      <th>25%</th>\n",
       "      <th>50%</th>\n",
       "      <th>75%</th>\n",
       "      <th>max</th>\n",
       "    </tr>\n",
       "  </thead>\n",
       "  <tbody>\n",
       "    <tr>\n",
       "      <th>AID Contribution ('000 US$)</th>\n",
       "      <td>490.000</td>\n",
       "      <td>28510.700</td>\n",
       "      <td>211681.558</td>\n",
       "      <td>3.000</td>\n",
       "      <td>166.000</td>\n",
       "      <td>766.500</td>\n",
       "      <td>4951.000</td>\n",
       "      <td>3518530.000</td>\n",
       "    </tr>\n",
       "    <tr>\n",
       "      <th>Magnitude</th>\n",
       "      <td>3378.000</td>\n",
       "      <td>60061.246</td>\n",
       "      <td>741225.204</td>\n",
       "      <td>-57.000</td>\n",
       "      <td>7.600</td>\n",
       "      <td>190.000</td>\n",
       "      <td>20497.500</td>\n",
       "      <td>40000000.000</td>\n",
       "    </tr>\n",
       "    <tr>\n",
       "      <th>Latitude</th>\n",
       "      <td>1815.000</td>\n",
       "      <td>16.464</td>\n",
       "      <td>21.776</td>\n",
       "      <td>-72.640</td>\n",
       "      <td>1.103</td>\n",
       "      <td>18.590</td>\n",
       "      <td>34.817</td>\n",
       "      <td>67.930</td>\n",
       "    </tr>\n",
       "    <tr>\n",
       "      <th>Longitude</th>\n",
       "      <td>1815.000</td>\n",
       "      <td>42.140</td>\n",
       "      <td>75.535</td>\n",
       "      <td>-172.095</td>\n",
       "      <td>0.859</td>\n",
       "      <td>54.448</td>\n",
       "      <td>103.099</td>\n",
       "      <td>179.650</td>\n",
       "    </tr>\n",
       "    <tr>\n",
       "      <th>Start Year</th>\n",
       "      <td>15784.000</td>\n",
       "      <td>2010.590</td>\n",
       "      <td>7.131</td>\n",
       "      <td>2000.000</td>\n",
       "      <td>2004.000</td>\n",
       "      <td>2010.000</td>\n",
       "      <td>2017.000</td>\n",
       "      <td>2024.000</td>\n",
       "    </tr>\n",
       "    <tr>\n",
       "      <th>Start Month</th>\n",
       "      <td>15715.000</td>\n",
       "      <td>6.449</td>\n",
       "      <td>3.421</td>\n",
       "      <td>1.000</td>\n",
       "      <td>4.000</td>\n",
       "      <td>7.000</td>\n",
       "      <td>9.000</td>\n",
       "      <td>12.000</td>\n",
       "    </tr>\n",
       "    <tr>\n",
       "      <th>Start Day</th>\n",
       "      <td>14275.000</td>\n",
       "      <td>15.361</td>\n",
       "      <td>8.973</td>\n",
       "      <td>1.000</td>\n",
       "      <td>7.000</td>\n",
       "      <td>15.000</td>\n",
       "      <td>23.000</td>\n",
       "      <td>31.000</td>\n",
       "    </tr>\n",
       "    <tr>\n",
       "      <th>End Year</th>\n",
       "      <td>15784.000</td>\n",
       "      <td>2010.622</td>\n",
       "      <td>7.135</td>\n",
       "      <td>2000.000</td>\n",
       "      <td>2004.000</td>\n",
       "      <td>2010.000</td>\n",
       "      <td>2017.000</td>\n",
       "      <td>2024.000</td>\n",
       "    </tr>\n",
       "    <tr>\n",
       "      <th>End Month</th>\n",
       "      <td>15622.000</td>\n",
       "      <td>6.573</td>\n",
       "      <td>3.398</td>\n",
       "      <td>1.000</td>\n",
       "      <td>4.000</td>\n",
       "      <td>7.000</td>\n",
       "      <td>9.000</td>\n",
       "      <td>12.000</td>\n",
       "    </tr>\n",
       "    <tr>\n",
       "      <th>End Day</th>\n",
       "      <td>14342.000</td>\n",
       "      <td>15.800</td>\n",
       "      <td>8.894</td>\n",
       "      <td>1.000</td>\n",
       "      <td>8.000</td>\n",
       "      <td>16.000</td>\n",
       "      <td>24.000</td>\n",
       "      <td>31.000</td>\n",
       "    </tr>\n",
       "    <tr>\n",
       "      <th>Total Deaths</th>\n",
       "      <td>12655.000</td>\n",
       "      <td>135.977</td>\n",
       "      <td>3088.333</td>\n",
       "      <td>0.000</td>\n",
       "      <td>9.000</td>\n",
       "      <td>16.000</td>\n",
       "      <td>32.000</td>\n",
       "      <td>222570.000</td>\n",
       "    </tr>\n",
       "    <tr>\n",
       "      <th>No. Injured</th>\n",
       "      <td>5790.000</td>\n",
       "      <td>1268.207</td>\n",
       "      <td>26384.471</td>\n",
       "      <td>1.000</td>\n",
       "      <td>10.000</td>\n",
       "      <td>25.000</td>\n",
       "      <td>79.000</td>\n",
       "      <td>1800000.000</td>\n",
       "    </tr>\n",
       "    <tr>\n",
       "      <th>No. Affected</th>\n",
       "      <td>7172.000</td>\n",
       "      <td>637314.681</td>\n",
       "      <td>6794416.586</td>\n",
       "      <td>1.000</td>\n",
       "      <td>600.000</td>\n",
       "      <td>6370.000</td>\n",
       "      <td>60000.000</td>\n",
       "      <td>330000000.000</td>\n",
       "    </tr>\n",
       "    <tr>\n",
       "      <th>No. Homeless</th>\n",
       "      <td>1324.000</td>\n",
       "      <td>31786.348</td>\n",
       "      <td>215056.964</td>\n",
       "      <td>3.000</td>\n",
       "      <td>347.250</td>\n",
       "      <td>2000.000</td>\n",
       "      <td>7351.500</td>\n",
       "      <td>5000000.000</td>\n",
       "    </tr>\n",
       "    <tr>\n",
       "      <th>Total Affected</th>\n",
       "      <td>11682.000</td>\n",
       "      <td>395501.535</td>\n",
       "      <td>5334026.398</td>\n",
       "      <td>1.000</td>\n",
       "      <td>40.000</td>\n",
       "      <td>957.000</td>\n",
       "      <td>16687.000</td>\n",
       "      <td>330000000.000</td>\n",
       "    </tr>\n",
       "    <tr>\n",
       "      <th>Reconstruction Costs ('000 US$)</th>\n",
       "      <td>33.000</td>\n",
       "      <td>5687263.788</td>\n",
       "      <td>17452321.114</td>\n",
       "      <td>84.000</td>\n",
       "      <td>100000.000</td>\n",
       "      <td>565000.000</td>\n",
       "      <td>3344000.000</td>\n",
       "      <td>100000000.000</td>\n",
       "    </tr>\n",
       "    <tr>\n",
       "      <th>Reconstruction Costs, Adjusted ('000 US$)</th>\n",
       "      <td>33.000</td>\n",
       "      <td>6357118.242</td>\n",
       "      <td>17603434.724</td>\n",
       "      <td>131.000</td>\n",
       "      <td>100000.000</td>\n",
       "      <td>702336.000</td>\n",
       "      <td>4245383.000</td>\n",
       "      <td>100000000.000</td>\n",
       "    </tr>\n",
       "    <tr>\n",
       "      <th>Insured Damage ('000 US$)</th>\n",
       "      <td>695.000</td>\n",
       "      <td>1291425.080</td>\n",
       "      <td>4578385.099</td>\n",
       "      <td>34.000</td>\n",
       "      <td>74000.000</td>\n",
       "      <td>250000.000</td>\n",
       "      <td>800000.000</td>\n",
       "      <td>60000000.000</td>\n",
       "    </tr>\n",
       "    <tr>\n",
       "      <th>Insured Damage, Adjusted ('000 US$)</th>\n",
       "      <td>694.000</td>\n",
       "      <td>1699765.061</td>\n",
       "      <td>5954430.126</td>\n",
       "      <td>48.000</td>\n",
       "      <td>99170.500</td>\n",
       "      <td>349124.500</td>\n",
       "      <td>1117445.000</td>\n",
       "      <td>93614347.000</td>\n",
       "    </tr>\n",
       "    <tr>\n",
       "      <th>Total Damage ('000 US$)</th>\n",
       "      <td>3126.000</td>\n",
       "      <td>1127098.180</td>\n",
       "      <td>6237978.748</td>\n",
       "      <td>0.000</td>\n",
       "      <td>15000.000</td>\n",
       "      <td>100000.000</td>\n",
       "      <td>540000.000</td>\n",
       "      <td>210000000.000</td>\n",
       "    </tr>\n",
       "    <tr>\n",
       "      <th>Total Damage, Adjusted ('000 US$)</th>\n",
       "      <td>3111.000</td>\n",
       "      <td>1471953.341</td>\n",
       "      <td>8311406.193</td>\n",
       "      <td>0.000</td>\n",
       "      <td>21234.000</td>\n",
       "      <td>140878.000</td>\n",
       "      <td>714589.000</td>\n",
       "      <td>284465151.000</td>\n",
       "    </tr>\n",
       "    <tr>\n",
       "      <th>CPI</th>\n",
       "      <td>15621.000</td>\n",
       "      <td>72.702</td>\n",
       "      <td>11.517</td>\n",
       "      <td>56.514</td>\n",
       "      <td>61.990</td>\n",
       "      <td>71.564</td>\n",
       "      <td>78.768</td>\n",
       "      <td>100.000</td>\n",
       "    </tr>\n",
       "  </tbody>\n",
       "</table>\n",
       "</div>"
      ],
      "text/plain": [
       "                                              count        mean          std  \\\n",
       "AID Contribution ('000 US$)                 490.000   28510.700   211681.558   \n",
       "Magnitude                                  3378.000   60061.246   741225.204   \n",
       "Latitude                                   1815.000      16.464       21.776   \n",
       "Longitude                                  1815.000      42.140       75.535   \n",
       "Start Year                                15784.000    2010.590        7.131   \n",
       "Start Month                               15715.000       6.449        3.421   \n",
       "Start Day                                 14275.000      15.361        8.973   \n",
       "End Year                                  15784.000    2010.622        7.135   \n",
       "End Month                                 15622.000       6.573        3.398   \n",
       "End Day                                   14342.000      15.800        8.894   \n",
       "Total Deaths                              12655.000     135.977     3088.333   \n",
       "No. Injured                                5790.000    1268.207    26384.471   \n",
       "No. Affected                               7172.000  637314.681  6794416.586   \n",
       "No. Homeless                               1324.000   31786.348   215056.964   \n",
       "Total Affected                            11682.000  395501.535  5334026.398   \n",
       "Reconstruction Costs ('000 US$)              33.000 5687263.788 17452321.114   \n",
       "Reconstruction Costs, Adjusted ('000 US$)    33.000 6357118.242 17603434.724   \n",
       "Insured Damage ('000 US$)                   695.000 1291425.080  4578385.099   \n",
       "Insured Damage, Adjusted ('000 US$)         694.000 1699765.061  5954430.126   \n",
       "Total Damage ('000 US$)                    3126.000 1127098.180  6237978.748   \n",
       "Total Damage, Adjusted ('000 US$)          3111.000 1471953.341  8311406.193   \n",
       "CPI                                       15621.000      72.702       11.517   \n",
       "\n",
       "                                               min        25%        50%  \\\n",
       "AID Contribution ('000 US$)                  3.000    166.000    766.500   \n",
       "Magnitude                                  -57.000      7.600    190.000   \n",
       "Latitude                                   -72.640      1.103     18.590   \n",
       "Longitude                                 -172.095      0.859     54.448   \n",
       "Start Year                                2000.000   2004.000   2010.000   \n",
       "Start Month                                  1.000      4.000      7.000   \n",
       "Start Day                                    1.000      7.000     15.000   \n",
       "End Year                                  2000.000   2004.000   2010.000   \n",
       "End Month                                    1.000      4.000      7.000   \n",
       "End Day                                      1.000      8.000     16.000   \n",
       "Total Deaths                                 0.000      9.000     16.000   \n",
       "No. Injured                                  1.000     10.000     25.000   \n",
       "No. Affected                                 1.000    600.000   6370.000   \n",
       "No. Homeless                                 3.000    347.250   2000.000   \n",
       "Total Affected                               1.000     40.000    957.000   \n",
       "Reconstruction Costs ('000 US$)             84.000 100000.000 565000.000   \n",
       "Reconstruction Costs, Adjusted ('000 US$)  131.000 100000.000 702336.000   \n",
       "Insured Damage ('000 US$)                   34.000  74000.000 250000.000   \n",
       "Insured Damage, Adjusted ('000 US$)         48.000  99170.500 349124.500   \n",
       "Total Damage ('000 US$)                      0.000  15000.000 100000.000   \n",
       "Total Damage, Adjusted ('000 US$)            0.000  21234.000 140878.000   \n",
       "CPI                                         56.514     61.990     71.564   \n",
       "\n",
       "                                                  75%           max  \n",
       "AID Contribution ('000 US$)                  4951.000   3518530.000  \n",
       "Magnitude                                   20497.500  40000000.000  \n",
       "Latitude                                       34.817        67.930  \n",
       "Longitude                                     103.099       179.650  \n",
       "Start Year                                   2017.000      2024.000  \n",
       "Start Month                                     9.000        12.000  \n",
       "Start Day                                      23.000        31.000  \n",
       "End Year                                     2017.000      2024.000  \n",
       "End Month                                       9.000        12.000  \n",
       "End Day                                        24.000        31.000  \n",
       "Total Deaths                                   32.000    222570.000  \n",
       "No. Injured                                    79.000   1800000.000  \n",
       "No. Affected                                60000.000 330000000.000  \n",
       "No. Homeless                                 7351.500   5000000.000  \n",
       "Total Affected                              16687.000 330000000.000  \n",
       "Reconstruction Costs ('000 US$)           3344000.000 100000000.000  \n",
       "Reconstruction Costs, Adjusted ('000 US$) 4245383.000 100000000.000  \n",
       "Insured Damage ('000 US$)                  800000.000  60000000.000  \n",
       "Insured Damage, Adjusted ('000 US$)       1117445.000  93614347.000  \n",
       "Total Damage ('000 US$)                    540000.000 210000000.000  \n",
       "Total Damage, Adjusted ('000 US$)          714589.000 284465151.000  \n",
       "CPI                                            78.768       100.000  "
      ]
     },
     "execution_count": 51,
     "metadata": {},
     "output_type": "execute_result"
    }
   ],
   "source": [
    "pd.set_option('display.float_format', lambda x: '%.3f' % x) # Remove scientific notation\n",
    "df.describe().T"
   ]
  },
  {
   "cell_type": "markdown",
   "id": "bcea84e4-6848-4bce-87f0-17d210168545",
   "metadata": {},
   "source": [
    "##### Fill in missing values using the median. Show how many null values are present after handling missing values"
   ]
  },
  {
   "cell_type": "code",
   "execution_count": 52,
   "id": "008ddc52-3326-4f94-982b-2456085f0f0b",
   "metadata": {},
   "outputs": [
    {
     "name": "stdout",
     "output_type": "stream",
     "text": [
      "DisNo.                                           0\n",
      "Historic                                         0\n",
      "Classification Key                               0\n",
      "Disaster Group                                   0\n",
      "Disaster Subgroup                                0\n",
      "Disaster Type                                    0\n",
      "Disaster Subtype                                 0\n",
      "External IDs                                 13379\n",
      "Event Name                                   10829\n",
      "ISO                                              0\n",
      "Country                                          0\n",
      "Subregion                                        0\n",
      "Region                                           0\n",
      "Location                                       648\n",
      "Origin                                       11829\n",
      "Associated Types                             12488\n",
      "OFDA/BHA Response                                0\n",
      "Appeal                                           0\n",
      "Declaration                                      0\n",
      "AID Contribution ('000 US$)                      0\n",
      "Magnitude                                        0\n",
      "Magnitude Scale                               5892\n",
      "Latitude                                         0\n",
      "Longitude                                        0\n",
      "River Basin                                  14572\n",
      "Start Year                                       0\n",
      "Start Month                                      0\n",
      "Start Day                                        0\n",
      "End Year                                         0\n",
      "End Month                                        0\n",
      "End Day                                          0\n",
      "Total Deaths                                     0\n",
      "No. Injured                                      0\n",
      "No. Affected                                     0\n",
      "No. Homeless                                     0\n",
      "Total Affected                                   0\n",
      "Reconstruction Costs ('000 US$)                  0\n",
      "Reconstruction Costs, Adjusted ('000 US$)        0\n",
      "Insured Damage ('000 US$)                        0\n",
      "Insured Damage, Adjusted ('000 US$)              0\n",
      "Total Damage ('000 US$)                          0\n",
      "Total Damage, Adjusted ('000 US$)                0\n",
      "CPI                                              0\n",
      "Admin Units                                   7286\n",
      "Entry Date                                       0\n",
      "Last Update                                      0\n",
      "dtype: int64\n"
     ]
    }
   ],
   "source": [
    "df.fillna(df.median(numeric_only = True), inplace  = True)\n",
    "print(df.isnull().sum())"
   ]
  },
  {
   "cell_type": "markdown",
   "id": "31f05764-7e9d-4f98-947b-b1a6ae96ba54",
   "metadata": {},
   "source": [
    "### Visualizations using PLOTLY library"
   ]
  },
  {
   "cell_type": "markdown",
   "id": "9bf60307-bcd6-420d-a043-154e5e78588f",
   "metadata": {},
   "source": [
    "##### Create a visual that shows disaster counts per year"
   ]
  },
  {
   "cell_type": "code",
   "execution_count": 53,
   "id": "e05d11d0-862d-499f-8dba-79fe1f5e9494",
   "metadata": {},
   "outputs": [
    {
     "data": {
      "text/html": [
       "<div>\n",
       "<style scoped>\n",
       "    .dataframe tbody tr th:only-of-type {\n",
       "        vertical-align: middle;\n",
       "    }\n",
       "\n",
       "    .dataframe tbody tr th {\n",
       "        vertical-align: top;\n",
       "    }\n",
       "\n",
       "    .dataframe thead th {\n",
       "        text-align: right;\n",
       "    }\n",
       "</style>\n",
       "<table border=\"1\" class=\"dataframe\">\n",
       "  <thead>\n",
       "    <tr style=\"text-align: right;\">\n",
       "      <th></th>\n",
       "      <th>Start Year</th>\n",
       "      <th>Disaster_Count</th>\n",
       "    </tr>\n",
       "  </thead>\n",
       "  <tbody>\n",
       "    <tr>\n",
       "      <th>0</th>\n",
       "      <td>2000</td>\n",
       "      <td>894</td>\n",
       "    </tr>\n",
       "    <tr>\n",
       "      <th>1</th>\n",
       "      <td>2002</td>\n",
       "      <td>865</td>\n",
       "    </tr>\n",
       "    <tr>\n",
       "      <th>2</th>\n",
       "      <td>2005</td>\n",
       "      <td>854</td>\n",
       "    </tr>\n",
       "    <tr>\n",
       "      <th>3</th>\n",
       "      <td>2001</td>\n",
       "      <td>771</td>\n",
       "    </tr>\n",
       "    <tr>\n",
       "      <th>4</th>\n",
       "      <td>2006</td>\n",
       "      <td>760</td>\n",
       "    </tr>\n",
       "    <tr>\n",
       "      <th>5</th>\n",
       "      <td>2004</td>\n",
       "      <td>755</td>\n",
       "    </tr>\n",
       "    <tr>\n",
       "      <th>6</th>\n",
       "      <td>2003</td>\n",
       "      <td>754</td>\n",
       "    </tr>\n",
       "    <tr>\n",
       "      <th>7</th>\n",
       "      <td>2007</td>\n",
       "      <td>724</td>\n",
       "    </tr>\n",
       "    <tr>\n",
       "      <th>8</th>\n",
       "      <td>2010</td>\n",
       "      <td>670</td>\n",
       "    </tr>\n",
       "    <tr>\n",
       "      <th>9</th>\n",
       "      <td>2008</td>\n",
       "      <td>654</td>\n",
       "    </tr>\n",
       "    <tr>\n",
       "      <th>10</th>\n",
       "      <td>2009</td>\n",
       "      <td>620</td>\n",
       "    </tr>\n",
       "    <tr>\n",
       "      <th>11</th>\n",
       "      <td>2019</td>\n",
       "      <td>607</td>\n",
       "    </tr>\n",
       "    <tr>\n",
       "      <th>12</th>\n",
       "      <td>2015</td>\n",
       "      <td>606</td>\n",
       "    </tr>\n",
       "    <tr>\n",
       "      <th>13</th>\n",
       "      <td>2011</td>\n",
       "      <td>604</td>\n",
       "    </tr>\n",
       "    <tr>\n",
       "      <th>14</th>\n",
       "      <td>2022</td>\n",
       "      <td>595</td>\n",
       "    </tr>\n",
       "    <tr>\n",
       "      <th>15</th>\n",
       "      <td>2021</td>\n",
       "      <td>591</td>\n",
       "    </tr>\n",
       "    <tr>\n",
       "      <th>16</th>\n",
       "      <td>2023</td>\n",
       "      <td>563</td>\n",
       "    </tr>\n",
       "    <tr>\n",
       "      <th>17</th>\n",
       "      <td>2012</td>\n",
       "      <td>561</td>\n",
       "    </tr>\n",
       "    <tr>\n",
       "      <th>18</th>\n",
       "      <td>2014</td>\n",
       "      <td>548</td>\n",
       "    </tr>\n",
       "    <tr>\n",
       "      <th>19</th>\n",
       "      <td>2013</td>\n",
       "      <td>545</td>\n",
       "    </tr>\n",
       "    <tr>\n",
       "      <th>20</th>\n",
       "      <td>2017</td>\n",
       "      <td>542</td>\n",
       "    </tr>\n",
       "    <tr>\n",
       "      <th>21</th>\n",
       "      <td>2016</td>\n",
       "      <td>534</td>\n",
       "    </tr>\n",
       "    <tr>\n",
       "      <th>22</th>\n",
       "      <td>2020</td>\n",
       "      <td>507</td>\n",
       "    </tr>\n",
       "    <tr>\n",
       "      <th>23</th>\n",
       "      <td>2018</td>\n",
       "      <td>497</td>\n",
       "    </tr>\n",
       "    <tr>\n",
       "      <th>24</th>\n",
       "      <td>2024</td>\n",
       "      <td>163</td>\n",
       "    </tr>\n",
       "  </tbody>\n",
       "</table>\n",
       "</div>"
      ],
      "text/plain": [
       "    Start Year  Disaster_Count\n",
       "0         2000             894\n",
       "1         2002             865\n",
       "2         2005             854\n",
       "3         2001             771\n",
       "4         2006             760\n",
       "5         2004             755\n",
       "6         2003             754\n",
       "7         2007             724\n",
       "8         2010             670\n",
       "9         2008             654\n",
       "10        2009             620\n",
       "11        2019             607\n",
       "12        2015             606\n",
       "13        2011             604\n",
       "14        2022             595\n",
       "15        2021             591\n",
       "16        2023             563\n",
       "17        2012             561\n",
       "18        2014             548\n",
       "19        2013             545\n",
       "20        2017             542\n",
       "21        2016             534\n",
       "22        2020             507\n",
       "23        2018             497\n",
       "24        2024             163"
      ]
     },
     "execution_count": 53,
     "metadata": {},
     "output_type": "execute_result"
    }
   ],
   "source": [
    "df[\"Start Year\"] = pd.to_datetime(df[\"Start Year\"], format = \"%Y\")\n",
    "disaster_per_year = df.groupby(\"Start Year\").agg(Disaster_Count = pd.NamedAgg(\"Start Year\", \"count\")).sort_values(\"Disaster_Count\", ascending = False).reset_index(drop = False)\n",
    "disaster_per_year[\"Start Year\"] = disaster_per_year[\"Start Year\"].dt.year\n",
    "disaster_per_year"
   ]
  },
  {
   "cell_type": "code",
   "execution_count": 54,
   "id": "d28d1401-b1ed-4ba9-81b7-0d28e40d5f6f",
   "metadata": {},
   "outputs": [
    {
     "data": {
      "image/png": "[encoded data removed]",
      "text/plain": [
       "<Figure size 1000x600 with 1 Axes>"
      ]
     },
     "metadata": {},
     "output_type": "display_data"
    }
   ],
   "source": [
    "plt.figure(figsize = (10, 6))\n",
    "sns.lineplot(data = disaster_per_year, x = \"Start Year\", y = \"Disaster_Count\", marker = \"o\")\n",
    "plt.title(\"Disasters Timeline\")\n",
    "plt.xlabel(\"Year\")\n",
    "plt.ylabel(\"count of Disasters\")\n",
    "plt.xticks(rotation = 0)\n",
    "plt.show()"
   ]
  },
  {
   "cell_type": "markdown",
   "id": "28343218-1ab1-4733-85b4-ccdee3ab5e49",
   "metadata": {},
   "source": [
    "##### Create a visual that shows the top 10 disasters by total fatalities"
   ]
  },
  {
   "cell_type": "code",
   "execution_count": 55,
   "id": "e3d1583d-15a9-4531-b9ac-b2b903c778ce",
   "metadata": {},
   "outputs": [
    {
     "data": {
      "text/html": [
       "<div>\n",
       "<style scoped>\n",
       "    .dataframe tbody tr th:only-of-type {\n",
       "        vertical-align: middle;\n",
       "    }\n",
       "\n",
       "    .dataframe tbody tr th {\n",
       "        vertical-align: top;\n",
       "    }\n",
       "\n",
       "    .dataframe thead th {\n",
       "        text-align: right;\n",
       "    }\n",
       "</style>\n",
       "<table border=\"1\" class=\"dataframe\">\n",
       "  <thead>\n",
       "    <tr style=\"text-align: right;\">\n",
       "      <th></th>\n",
       "      <th>Disaster Type</th>\n",
       "      <th>Total Deaths</th>\n",
       "    </tr>\n",
       "  </thead>\n",
       "  <tbody>\n",
       "    <tr>\n",
       "      <th>0</th>\n",
       "      <td>Earthquake</td>\n",
       "      <td>792032.000</td>\n",
       "    </tr>\n",
       "    <tr>\n",
       "      <th>1</th>\n",
       "      <td>Extreme temperature</td>\n",
       "      <td>238555.000</td>\n",
       "    </tr>\n",
       "    <tr>\n",
       "      <th>2</th>\n",
       "      <td>Storm</td>\n",
       "      <td>230495.000</td>\n",
       "    </tr>\n",
       "    <tr>\n",
       "      <th>3</th>\n",
       "      <td>Flood</td>\n",
       "      <td>149966.000</td>\n",
       "    </tr>\n",
       "    <tr>\n",
       "      <th>4</th>\n",
       "      <td>Epidemic</td>\n",
       "      <td>120325.000</td>\n",
       "    </tr>\n",
       "    <tr>\n",
       "      <th>5</th>\n",
       "      <td>Water</td>\n",
       "      <td>50416.000</td>\n",
       "    </tr>\n",
       "    <tr>\n",
       "      <th>6</th>\n",
       "      <td>Road</td>\n",
       "      <td>45990.000</td>\n",
       "    </tr>\n",
       "    <tr>\n",
       "      <th>7</th>\n",
       "      <td>Drought</td>\n",
       "      <td>30272.000</td>\n",
       "    </tr>\n",
       "    <tr>\n",
       "      <th>8</th>\n",
       "      <td>Mass movement (wet)</td>\n",
       "      <td>20380.000</td>\n",
       "    </tr>\n",
       "    <tr>\n",
       "      <th>9</th>\n",
       "      <td>Air</td>\n",
       "      <td>16844.000</td>\n",
       "    </tr>\n",
       "  </tbody>\n",
       "</table>\n",
       "</div>"
      ],
      "text/plain": [
       "         Disaster Type  Total Deaths\n",
       "0           Earthquake    792032.000\n",
       "1  Extreme temperature    238555.000\n",
       "2                Storm    230495.000\n",
       "3                Flood    149966.000\n",
       "4             Epidemic    120325.000\n",
       "5                Water     50416.000\n",
       "6                 Road     45990.000\n",
       "7              Drought     30272.000\n",
       "8  Mass movement (wet)     20380.000\n",
       "9                  Air     16844.000"
      ]
     },
     "execution_count": 55,
     "metadata": {},
     "output_type": "execute_result"
    }
   ],
   "source": [
    "disasters = df[['Disaster Type', 'Total Deaths']].groupby('Disaster Type').sum().sort_values(by='Total Deaths', ascending=False).reset_index()\n",
    "top_10_disasters = disasters.head(10)\n",
    "top_10_disasters "
   ]
  },
  {
   "cell_type": "code",
   "execution_count": 80,
   "id": "36b26623-2bda-4ac5-b22f-686908d454a3",
   "metadata": {},
   "outputs": [
    {
     "data": {
      "application/vnd.plotly.v1+json": {
       "config": {
        "plotlyServerURL": "https://plot.ly"
       },
       "data": [
        {
         "alignmentgroup": "True",
         "hovertemplate": "Disaster Type=%{x}<br>Total Deaths=%{y}<extra></extra>",
         "legendgroup": "",
         "marker": {
          "color": "#636efa",
          "pattern": {
           "shape": ""
          }
         },
         "name": "",
         "offsetgroup": "",
         "orientation": "v",
         "showlegend": false,
         "textposition": "auto",
         "type": "bar",
         "x": [
          "Earthquake",
          "Extreme temperature",
          "Storm",
          "Flood",
          "Epidemic",
          "Water",
          "Road",
          "Drought",
          "Mass movement (wet)",
          "Air"
         ],
         "xaxis": "x",
         "y": [
          792032,
          238555,
          230495,
          149966,
          120325,
          50416,
          45990,
          30272,
          20380,
          16844
         ],
         "yaxis": "y"
        }
       ],
       "layout": {
        "barmode": "relative",
        "height": 500,
        "legend": {
         "tracegroupgap": 0
        },
        "template": {
         "data": {
          "bar": [
           {
            "error_x": {
             "color": "#2a3f5f"
            },
            "error_y": {
             "color": "#2a3f5f"
            },
            "marker": {
             "line": {
              "color": "#E5ECF6",
              "width": 0.5
             },
             "pattern": {
              "fillmode": "overlay",
              "size": 10,
              "solidity": 0.2
             }
            },
            "type": "bar"
           }
          ],
          "barpolar": [
           {
            "marker": {
             "line": {
              "color": "#E5ECF6",
              "width": 0.5
             },
             "pattern": {
              "fillmode": "overlay",
              "size": 10,
              "solidity": 0.2
             }
            },
            "type": "barpolar"
           }
          ],
          "carpet": [
           {
            "aaxis": {
             "endlinecolor": "#2a3f5f",
             "gridcolor": "white",
             "linecolor": "white",
             "minorgridcolor": "white",
             "startlinecolor": "#2a3f5f"
            },
            "baxis": {
             "endlinecolor": "#2a3f5f",
             "gridcolor": "white",
             "linecolor": "white",
             "minorgridcolor": "white",
             "startlinecolor": "#2a3f5f"
            },
            "type": "carpet"
           }
          ],
          "choropleth": [
           {
            "colorbar": {
             "outlinewidth": 0,
             "ticks": ""
            },
            "type": "choropleth"
           }
          ],
          "contour": [
           {
            "colorbar": {
             "outlinewidth": 0,
             "ticks": ""
            },
            "colorscale": [
             [
              0,
              "#0d0887"
             ],
             [
              0.1111111111111111,
              "#46039f"
             ],
             [
              0.2222222222222222,
              "#7201a8"
             ],
             [
              0.3333333333333333,
              "#9c179e"
             ],
             [
              0.4444444444444444,
              "#bd3786"
             ],
             [
              0.5555555555555556,
              "#d8576b"
             ],
             [
              0.6666666666666666,
              "#ed7953"
             ],
             [
              0.7777777777777778,
              "#fb9f3a"
             ],
             [
              0.8888888888888888,
              "#fdca26"
             ],
             [
              1,
              "#f0f921"
             ]
            ],
            "type": "contour"
           }
          ],
          "contourcarpet": [
           {
            "colorbar": {
             "outlinewidth": 0,
             "ticks": ""
            },
            "type": "contourcarpet"
           }
          ],
          "heatmap": [
           {
            "colorbar": {
             "outlinewidth": 0,
             "ticks": ""
            },
            "colorscale": [
             [
              0,
              "#0d0887"
             ],
             [
              0.1111111111111111,
              "#46039f"
             ],
             [
              0.2222222222222222,
              "#7201a8"
             ],
             [
              0.3333333333333333,
              "#9c179e"
             ],
             [
              0.4444444444444444,
              "#bd3786"
             ],
             [
              0.5555555555555556,
              "#d8576b"
             ],
             [
              0.6666666666666666,
              "#ed7953"
             ],
             [
              0.7777777777777778,
              "#fb9f3a"
             ],
             [
              0.8888888888888888,
              "#fdca26"
             ],
             [
              1,
              "#f0f921"
             ]
            ],
            "type": "heatmap"
           }
          ],
          "heatmapgl": [
           {
            "colorbar": {
             "outlinewidth": 0,
             "ticks": ""
            },
            "colorscale": [
             [
              0,
              "#0d0887"
             ],
             [
              0.1111111111111111,
              "#46039f"
             ],
             [
              0.2222222222222222,
              "#7201a8"
             ],
             [
              0.3333333333333333,
              "#9c179e"
             ],
             [
              0.4444444444444444,
              "#bd3786"
             ],
             [
              0.5555555555555556,
              "#d8576b"
             ],
             [
              0.6666666666666666,
              "#ed7953"
             ],
             [
              0.7777777777777778,
              "#fb9f3a"
             ],
             [
              0.8888888888888888,
              "#fdca26"
             ],
             [
              1,
              "#f0f921"
             ]
            ],
            "type": "heatmapgl"
           }
          ],
          "histogram": [
           {
            "marker": {
             "pattern": {
              "fillmode": "overlay",
              "size": 10,
              "solidity": 0.2
             }
            },
            "type": "histogram"
           }
          ],
          "histogram2d": [
           {
            "colorbar": {
             "outlinewidth": 0,
             "ticks": ""
            },
            "colorscale": [
             [
              0,
              "#0d0887"
             ],
             [
              0.1111111111111111,
              "#46039f"
             ],
             [
              0.2222222222222222,
              "#7201a8"
             ],
             [
              0.3333333333333333,
              "#9c179e"
             ],
             [
              0.4444444444444444,
              "#bd3786"
             ],
             [
              0.5555555555555556,
              "#d8576b"
             ],
             [
              0.6666666666666666,
              "#ed7953"
             ],
             [
              0.7777777777777778,
              "#fb9f3a"
             ],
             [
              0.8888888888888888,
              "#fdca26"
             ],
             [
              1,
              "#f0f921"
             ]
            ],
            "type": "histogram2d"
           }
          ],
          "histogram2dcontour": [
           {
            "colorbar": {
             "outlinewidth": 0,
             "ticks": ""
            },
            "colorscale": [
             [
              0,
              "#0d0887"
             ],
             [
              0.1111111111111111,
              "#46039f"
             ],
             [
              0.2222222222222222,
              "#7201a8"
             ],
             [
              0.3333333333333333,
              "#9c179e"
             ],
             [
              0.4444444444444444,
              "#bd3786"
             ],
             [
              0.5555555555555556,
              "#d8576b"
             ],
             [
              0.6666666666666666,
              "#ed7953"
             ],
             [
              0.7777777777777778,
              "#fb9f3a"
             ],
             [
              0.8888888888888888,
              "#fdca26"
             ],
             [
              1,
              "#f0f921"
             ]
            ],
            "type": "histogram2dcontour"
           }
          ],
          "mesh3d": [
           {
            "colorbar": {
             "outlinewidth": 0,
             "ticks": ""
            },
            "type": "mesh3d"
           }
          ],
          "parcoords": [
           {
            "line": {
             "colorbar": {
              "outlinewidth": 0,
              "ticks": ""
             }
            },
            "type": "parcoords"
           }
          ],
          "pie": [
           {
            "automargin": true,
            "type": "pie"
           }
          ],
          "scatter": [
           {
            "fillpattern": {
             "fillmode": "overlay",
             "size": 10,
             "solidity": 0.2
            },
            "type": "scatter"
           }
          ],
          "scatter3d": [
           {
            "line": {
             "colorbar": {
              "outlinewidth": 0,
              "ticks": ""
             }
            },
            "marker": {
             "colorbar": {
              "outlinewidth": 0,
              "ticks": ""
             }
            },
            "type": "scatter3d"
           }
          ],
          "scattercarpet": [
           {
            "marker": {
             "colorbar": {
              "outlinewidth": 0,
              "ticks": ""
             }
            },
            "type": "scattercarpet"
           }
          ],
          "scattergeo": [
           {
            "marker": {
             "colorbar": {
              "outlinewidth": 0,
              "ticks": ""
             }
            },
            "type": "scattergeo"
           }
          ],
          "scattergl": [
           {
            "marker": {
             "colorbar": {
              "outlinewidth": 0,
              "ticks": ""
             }
            },
            "type": "scattergl"
           }
          ],
          "scattermapbox": [
           {
            "marker": {
             "colorbar": {
              "outlinewidth": 0,
              "ticks": ""
             }
            },
            "type": "scattermapbox"
           }
          ],
          "scatterpolar": [
           {
            "marker": {
             "colorbar": {
              "outlinewidth": 0,
              "ticks": ""
             }
            },
            "type": "scatterpolar"
           }
          ],
          "scatterpolargl": [
           {
            "marker": {
             "colorbar": {
              "outlinewidth": 0,
              "ticks": ""
             }
            },
            "type": "scatterpolargl"
           }
          ],
          "scatterternary": [
           {
            "marker": {
             "colorbar": {
              "outlinewidth": 0,
              "ticks": ""
             }
            },
            "type": "scatterternary"
           }
          ],
          "surface": [
           {
            "colorbar": {
             "outlinewidth": 0,
             "ticks": ""
            },
            "colorscale": [
             [
              0,
              "#0d0887"
             ],
             [
              0.1111111111111111,
              "#46039f"
             ],
             [
              0.2222222222222222,
              "#7201a8"
             ],
             [
              0.3333333333333333,
              "#9c179e"
             ],
             [
              0.4444444444444444,
              "#bd3786"
             ],
             [
              0.5555555555555556,
              "#d8576b"
             ],
             [
              0.6666666666666666,
              "#ed7953"
             ],
             [
              0.7777777777777778,
              "#fb9f3a"
             ],
             [
              0.8888888888888888,
              "#fdca26"
             ],
             [
              1,
              "#f0f921"
             ]
            ],
            "type": "surface"
           }
          ],
          "table": [
           {
            "cells": {
             "fill": {
              "color": "#EBF0F8"
             },
             "line": {
              "color": "white"
             }
            },
            "header": {
             "fill": {
              "color": "#C8D4E3"
             },
             "line": {
              "color": "white"
             }
            },
            "type": "table"
           }
          ]
         },
         "layout": {
          "annotationdefaults": {
           "arrowcolor": "#2a3f5f",
           "arrowhead": 0,
           "arrowwidth": 1
          },
          "autotypenumbers": "strict",
          "coloraxis": {
           "colorbar": {
            "outlinewidth": 0,
            "ticks": ""
           }
          },
          "colorscale": {
           "diverging": [
            [
             0,
             "#8e0152"
            ],
            [
             0.1,
             "#c51b7d"
            ],
            [
             0.2,
             "#de77ae"
            ],
            [
             0.3,
             "#f1b6da"
            ],
            [
             0.4,
             "#fde0ef"
            ],
            [
             0.5,
             "#f7f7f7"
            ],
            [
             0.6,
             "#e6f5d0"
            ],
            [
             0.7,
             "#b8e186"
            ],
            [
             0.8,
             "#7fbc41"
            ],
            [
             0.9,
             "#4d9221"
            ],
            [
             1,
             "#276419"
            ]
           ],
           "sequential": [
            [
             0,
             "#0d0887"
            ],
            [
             0.1111111111111111,
             "#46039f"
            ],
            [
             0.2222222222222222,
             "#7201a8"
            ],
            [
             0.3333333333333333,
             "#9c179e"
            ],
            [
             0.4444444444444444,
             "#bd3786"
            ],
            [
             0.5555555555555556,
             "#d8576b"
            ],
            [
             0.6666666666666666,
             "#ed7953"
            ],
            [
             0.7777777777777778,
             "#fb9f3a"
            ],
            [
             0.8888888888888888,
             "#fdca26"
            ],
            [
             1,
             "#f0f921"
            ]
           ],
           "sequentialminus": [
            [
             0,
             "#0d0887"
            ],
            [
             0.1111111111111111,
             "#46039f"
            ],
            [
             0.2222222222222222,
             "#7201a8"
            ],
            [
             0.3333333333333333,
             "#9c179e"
            ],
            [
             0.4444444444444444,
             "#bd3786"
            ],
            [
             0.5555555555555556,
             "#d8576b"
            ],
            [
             0.6666666666666666,
             "#ed7953"
            ],
            [
             0.7777777777777778,
             "#fb9f3a"
            ],
            [
             0.8888888888888888,
             "#fdca26"
            ],
            [
             1,
             "#f0f921"
            ]
           ]
          },
          "colorway": [
           "#636efa",
           "#EF553B",
           "#00cc96",
           "#ab63fa",
           "#FFA15A",
           "#19d3f3",
           "#FF6692",
           "#B6E880",
           "#FF97FF",
           "#FECB52"
          ],
          "font": {
           "color": "#2a3f5f"
          },
          "geo": {
           "bgcolor": "white",
           "lakecolor": "white",
           "landcolor": "#E5ECF6",
           "showlakes": true,
           "showland": true,
           "subunitcolor": "white"
          },
          "hoverlabel": {
           "align": "left"
          },
          "hovermode": "closest",
          "mapbox": {
           "style": "light"
          },
          "paper_bgcolor": "white",
          "plot_bgcolor": "#E5ECF6",
          "polar": {
           "angularaxis": {
            "gridcolor": "white",
            "linecolor": "white",
            "ticks": ""
           },
           "bgcolor": "#E5ECF6",
           "radialaxis": {
            "gridcolor": "white",
            "linecolor": "white",
            "ticks": ""
           }
          },
          "scene": {
           "xaxis": {
            "backgroundcolor": "#E5ECF6",
            "gridcolor": "white",
            "gridwidth": 2,
            "linecolor": "white",
            "showbackground": true,
            "ticks": "",
            "zerolinecolor": "white"
           },
           "yaxis": {
            "backgroundcolor": "#E5ECF6",
            "gridcolor": "white",
            "gridwidth": 2,
            "linecolor": "white",
            "showbackground": true,
            "ticks": "",
            "zerolinecolor": "white"
           },
           "zaxis": {
            "backgroundcolor": "#E5ECF6",
            "gridcolor": "white",
            "gridwidth": 2,
            "linecolor": "white",
            "showbackground": true,
            "ticks": "",
            "zerolinecolor": "white"
           }
          },
          "shapedefaults": {
           "line": {
            "color": "#2a3f5f"
           }
          },
          "ternary": {
           "aaxis": {
            "gridcolor": "white",
            "linecolor": "white",
            "ticks": ""
           },
           "baxis": {
            "gridcolor": "white",
            "linecolor": "white",
            "ticks": ""
           },
           "bgcolor": "#E5ECF6",
           "caxis": {
            "gridcolor": "white",
            "linecolor": "white",
            "ticks": ""
           }
          },
          "title": {
           "x": 0.05
          },
          "xaxis": {
           "automargin": true,
           "gridcolor": "white",
           "linecolor": "white",
           "ticks": "",
           "title": {
            "standoff": 15
           },
           "zerolinecolor": "white",
           "zerolinewidth": 2
          },
          "yaxis": {
           "automargin": true,
           "gridcolor": "white",
           "linecolor": "white",
           "ticks": "",
           "title": {
            "standoff": 15
           },
           "zerolinecolor": "white",
           "zerolinewidth": 2
          }
         }
        },
        "title": {
         "text": "Top 10 Disasters by Total Fatalities"
        },
        "width": 500,
        "xaxis": {
         "anchor": "y",
         "autorange": true,
         "domain": [
          0,
          1
         ],
         "range": [
          -0.5,
          9.5
         ],
         "tickangle": -90,
         "title": {
          "text": "Disaster Type"
         },
         "type": "category"
        },
        "yaxis": {
         "anchor": "x",
         "autorange": true,
         "domain": [
          0,
          1
         ],
         "range": [
          0,
          833717.8947368421
         ],
         "title": {
          "text": "Total Deaths"
         },
         "type": "linear"
        }
       }
      },
      "image/png": "[encoded data removed]",
      "text/html": [
       "<div>                            <div id=\"49010f4f-f198-451f-a634-7f208c7241a3\" class=\"plotly-graph-div\" style=\"height:500px; width:500px;\"></div>            <script type=\"text/javascript\">                require([\"plotly\"], function(Plotly) {                    window.PLOTLYENV=window.PLOTLYENV || {};                                    if (document.getElementById(\"49010f4f-f198-451f-a634-7f208c7241a3\")) {                    Plotly.newPlot(                        \"49010f4f-f198-451f-a634-7f208c7241a3\",                        [{\"alignmentgroup\":\"True\",\"hovertemplate\":\"Disaster Type=%{x}<br>Total Deaths=%{y}<extra></extra>\",\"legendgroup\":\"\",\"marker\":{\"color\":\"#636efa\",\"pattern\":{\"shape\":\"\"}},\"name\":\"\",\"offsetgroup\":\"\",\"orientation\":\"v\",\"showlegend\":false,\"textposition\":\"auto\",\"x\":[\"Earthquake\",\"Extreme temperature\",\"Storm\",\"Flood\",\"Epidemic\",\"Water\",\"Road\",\"Drought\",\"Mass movement (wet)\",\"Air\"],\"xaxis\":\"x\",\"y\":[792032.0,238555.0,230495.0,149966.0,120325.0,50416.0,45990.0,30272.0,20380.0,16844.0],\"yaxis\":\"y\",\"type\":\"bar\"}],                        {\"template\":{\"data\":{\"histogram2dcontour\":[{\"type\":\"histogram2dcontour\",\"colorbar\":{\"outlinewidth\":0,\"ticks\":\"\"},\"colorscale\":[[0.0,\"#0d0887\"],[0.1111111111111111,\"#46039f\"],[0.2222222222222222,\"#7201a8\"],[0.3333333333333333,\"#9c179e\"],[0.4444444444444444,\"#bd3786\"],[0.5555555555555556,\"#d8576b\"],[0.6666666666666666,\"#ed7953\"],[0.7777777777777778,\"#fb9f3a\"],[0.8888888888888888,\"#fdca26\"],[1.0,\"#f0f921\"]]}],\"choropleth\":[{\"type\":\"choropleth\",\"colorbar\":{\"outlinewidth\":0,\"ticks\":\"\"}}],\"histogram2d\":[{\"type\":\"histogram2d\",\"colorbar\":{\"outlinewidth\":0,\"ticks\":\"\"},\"colorscale\":[[0.0,\"#0d0887\"],[0.1111111111111111,\"#46039f\"],[0.2222222222222222,\"#7201a8\"],[0.3333333333333333,\"#9c179e\"],[0.4444444444444444,\"#bd3786\"],[0.5555555555555556,\"#d8576b\"],[0.6666666666666666,\"#ed7953\"],[0.7777777777777778,\"#fb9f3a\"],[0.8888888888888888,\"#fdca26\"],[1.0,\"#f0f921\"]]}],\"heatmap\":[{\"type\":\"heatmap\",\"colorbar\":{\"outlinewidth\":0,\"ticks\":\"\"},\"colorscale\":[[0.0,\"#0d0887\"],[0.1111111111111111,\"#46039f\"],[0.2222222222222222,\"#7201a8\"],[0.3333333333333333,\"#9c179e\"],[0.4444444444444444,\"#bd3786\"],[0.5555555555555556,\"#d8576b\"],[0.6666666666666666,\"#ed7953\"],[0.7777777777777778,\"#fb9f3a\"],[0.8888888888888888,\"#fdca26\"],[1.0,\"#f0f921\"]]}],\"heatmapgl\":[{\"type\":\"heatmapgl\",\"colorbar\":{\"outlinewidth\":0,\"ticks\":\"\"},\"colorscale\":[[0.0,\"#0d0887\"],[0.1111111111111111,\"#46039f\"],[0.2222222222222222,\"#7201a8\"],[0.3333333333333333,\"#9c179e\"],[0.4444444444444444,\"#bd3786\"],[0.5555555555555556,\"#d8576b\"],[0.6666666666666666,\"#ed7953\"],[0.7777777777777778,\"#fb9f3a\"],[0.8888888888888888,\"#fdca26\"],[1.0,\"#f0f921\"]]}],\"contourcarpet\":[{\"type\":\"contourcarpet\",\"colorbar\":{\"outlinewidth\":0,\"ticks\":\"\"}}],\"contour\":[{\"type\":\"contour\",\"colorbar\":{\"outlinewidth\":0,\"ticks\":\"\"},\"colorscale\":[[0.0,\"#0d0887\"],[0.1111111111111111,\"#46039f\"],[0.2222222222222222,\"#7201a8\"],[0.3333333333333333,\"#9c179e\"],[0.4444444444444444,\"#bd3786\"],[0.5555555555555556,\"#d8576b\"],[0.6666666666666666,\"#ed7953\"],[0.7777777777777778,\"#fb9f3a\"],[0.8888888888888888,\"#fdca26\"],[1.0,\"#f0f921\"]]}],\"surface\":[{\"type\":\"surface\",\"colorbar\":{\"outlinewidth\":0,\"ticks\":\"\"},\"colorscale\":[[0.0,\"#0d0887\"],[0.1111111111111111,\"#46039f\"],[0.2222222222222222,\"#7201a8\"],[0.3333333333333333,\"#9c179e\"],[0.4444444444444444,\"#bd3786\"],[0.5555555555555556,\"#d8576b\"],[0.6666666666666666,\"#ed7953\"],[0.7777777777777778,\"#fb9f3a\"],[0.8888888888888888,\"#fdca26\"],[1.0,\"#f0f921\"]]}],\"mesh3d\":[{\"type\":\"mesh3d\",\"colorbar\":{\"outlinewidth\":0,\"ticks\":\"\"}}],\"scatter\":[{\"fillpattern\":{\"fillmode\":\"overlay\",\"size\":10,\"solidity\":0.2},\"type\":\"scatter\"}],\"parcoords\":[{\"type\":\"parcoords\",\"line\":{\"colorbar\":{\"outlinewidth\":0,\"ticks\":\"\"}}}],\"scatterpolargl\":[{\"type\":\"scatterpolargl\",\"marker\":{\"colorbar\":{\"outlinewidth\":0,\"ticks\":\"\"}}}],\"bar\":[{\"error_x\":{\"color\":\"#2a3f5f\"},\"error_y\":{\"color\":\"#2a3f5f\"},\"marker\":{\"line\":{\"color\":\"#E5ECF6\",\"width\":0.5},\"pattern\":{\"fillmode\":\"overlay\",\"size\":10,\"solidity\":0.2}},\"type\":\"bar\"}],\"scattergeo\":[{\"type\":\"scattergeo\",\"marker\":{\"colorbar\":{\"outlinewidth\":0,\"ticks\":\"\"}}}],\"scatterpolar\":[{\"type\":\"scatterpolar\",\"marker\":{\"colorbar\":{\"outlinewidth\":0,\"ticks\":\"\"}}}],\"histogram\":[{\"marker\":{\"pattern\":{\"fillmode\":\"overlay\",\"size\":10,\"solidity\":0.2}},\"type\":\"histogram\"}],\"scattergl\":[{\"type\":\"scattergl\",\"marker\":{\"colorbar\":{\"outlinewidth\":0,\"ticks\":\"\"}}}],\"scatter3d\":[{\"type\":\"scatter3d\",\"line\":{\"colorbar\":{\"outlinewidth\":0,\"ticks\":\"\"}},\"marker\":{\"colorbar\":{\"outlinewidth\":0,\"ticks\":\"\"}}}],\"scattermapbox\":[{\"type\":\"scattermapbox\",\"marker\":{\"colorbar\":{\"outlinewidth\":0,\"ticks\":\"\"}}}],\"scatterternary\":[{\"type\":\"scatterternary\",\"marker\":{\"colorbar\":{\"outlinewidth\":0,\"ticks\":\"\"}}}],\"scattercarpet\":[{\"type\":\"scattercarpet\",\"marker\":{\"colorbar\":{\"outlinewidth\":0,\"ticks\":\"\"}}}],\"carpet\":[{\"aaxis\":{\"endlinecolor\":\"#2a3f5f\",\"gridcolor\":\"white\",\"linecolor\":\"white\",\"minorgridcolor\":\"white\",\"startlinecolor\":\"#2a3f5f\"},\"baxis\":{\"endlinecolor\":\"#2a3f5f\",\"gridcolor\":\"white\",\"linecolor\":\"white\",\"minorgridcolor\":\"white\",\"startlinecolor\":\"#2a3f5f\"},\"type\":\"carpet\"}],\"table\":[{\"cells\":{\"fill\":{\"color\":\"#EBF0F8\"},\"line\":{\"color\":\"white\"}},\"header\":{\"fill\":{\"color\":\"#C8D4E3\"},\"line\":{\"color\":\"white\"}},\"type\":\"table\"}],\"barpolar\":[{\"marker\":{\"line\":{\"color\":\"#E5ECF6\",\"width\":0.5},\"pattern\":{\"fillmode\":\"overlay\",\"size\":10,\"solidity\":0.2}},\"type\":\"barpolar\"}],\"pie\":[{\"automargin\":true,\"type\":\"pie\"}]},\"layout\":{\"autotypenumbers\":\"strict\",\"colorway\":[\"#636efa\",\"#EF553B\",\"#00cc96\",\"#ab63fa\",\"#FFA15A\",\"#19d3f3\",\"#FF6692\",\"#B6E880\",\"#FF97FF\",\"#FECB52\"],\"font\":{\"color\":\"#2a3f5f\"},\"hovermode\":\"closest\",\"hoverlabel\":{\"align\":\"left\"},\"paper_bgcolor\":\"white\",\"plot_bgcolor\":\"#E5ECF6\",\"polar\":{\"bgcolor\":\"#E5ECF6\",\"angularaxis\":{\"gridcolor\":\"white\",\"linecolor\":\"white\",\"ticks\":\"\"},\"radialaxis\":{\"gridcolor\":\"white\",\"linecolor\":\"white\",\"ticks\":\"\"}},\"ternary\":{\"bgcolor\":\"#E5ECF6\",\"aaxis\":{\"gridcolor\":\"white\",\"linecolor\":\"white\",\"ticks\":\"\"},\"baxis\":{\"gridcolor\":\"white\",\"linecolor\":\"white\",\"ticks\":\"\"},\"caxis\":{\"gridcolor\":\"white\",\"linecolor\":\"white\",\"ticks\":\"\"}},\"coloraxis\":{\"colorbar\":{\"outlinewidth\":0,\"ticks\":\"\"}},\"colorscale\":{\"sequential\":[[0.0,\"#0d0887\"],[0.1111111111111111,\"#46039f\"],[0.2222222222222222,\"#7201a8\"],[0.3333333333333333,\"#9c179e\"],[0.4444444444444444,\"#bd3786\"],[0.5555555555555556,\"#d8576b\"],[0.6666666666666666,\"#ed7953\"],[0.7777777777777778,\"#fb9f3a\"],[0.8888888888888888,\"#fdca26\"],[1.0,\"#f0f921\"]],\"sequentialminus\":[[0.0,\"#0d0887\"],[0.1111111111111111,\"#46039f\"],[0.2222222222222222,\"#7201a8\"],[0.3333333333333333,\"#9c179e\"],[0.4444444444444444,\"#bd3786\"],[0.5555555555555556,\"#d8576b\"],[0.6666666666666666,\"#ed7953\"],[0.7777777777777778,\"#fb9f3a\"],[0.8888888888888888,\"#fdca26\"],[1.0,\"#f0f921\"]],\"diverging\":[[0,\"#8e0152\"],[0.1,\"#c51b7d\"],[0.2,\"#de77ae\"],[0.3,\"#f1b6da\"],[0.4,\"#fde0ef\"],[0.5,\"#f7f7f7\"],[0.6,\"#e6f5d0\"],[0.7,\"#b8e186\"],[0.8,\"#7fbc41\"],[0.9,\"#4d9221\"],[1,\"#276419\"]]},\"xaxis\":{\"gridcolor\":\"white\",\"linecolor\":\"white\",\"ticks\":\"\",\"title\":{\"standoff\":15},\"zerolinecolor\":\"white\",\"automargin\":true,\"zerolinewidth\":2},\"yaxis\":{\"gridcolor\":\"white\",\"linecolor\":\"white\",\"ticks\":\"\",\"title\":{\"standoff\":15},\"zerolinecolor\":\"white\",\"automargin\":true,\"zerolinewidth\":2},\"scene\":{\"xaxis\":{\"backgroundcolor\":\"#E5ECF6\",\"gridcolor\":\"white\",\"linecolor\":\"white\",\"showbackground\":true,\"ticks\":\"\",\"zerolinecolor\":\"white\",\"gridwidth\":2},\"yaxis\":{\"backgroundcolor\":\"#E5ECF6\",\"gridcolor\":\"white\",\"linecolor\":\"white\",\"showbackground\":true,\"ticks\":\"\",\"zerolinecolor\":\"white\",\"gridwidth\":2},\"zaxis\":{\"backgroundcolor\":\"#E5ECF6\",\"gridcolor\":\"white\",\"linecolor\":\"white\",\"showbackground\":true,\"ticks\":\"\",\"zerolinecolor\":\"white\",\"gridwidth\":2}},\"shapedefaults\":{\"line\":{\"color\":\"#2a3f5f\"}},\"annotationdefaults\":{\"arrowcolor\":\"#2a3f5f\",\"arrowhead\":0,\"arrowwidth\":1},\"geo\":{\"bgcolor\":\"white\",\"landcolor\":\"#E5ECF6\",\"subunitcolor\":\"white\",\"showland\":true,\"showlakes\":true,\"lakecolor\":\"white\"},\"title\":{\"x\":0.05},\"mapbox\":{\"style\":\"light\"}}},\"xaxis\":{\"anchor\":\"y\",\"domain\":[0.0,1.0],\"title\":{\"text\":\"Disaster Type\"},\"tickangle\":-90},\"yaxis\":{\"anchor\":\"x\",\"domain\":[0.0,1.0],\"title\":{\"text\":\"Total Deaths\"}},\"legend\":{\"tracegroupgap\":0},\"title\":{\"text\":\"Top 10 Disasters by Total Fatalities\"},\"barmode\":\"relative\",\"width\":500,\"height\":500},                        {\"responsive\": true}                    ).then(function(){\n",
       "                            \n",
       "var gd = document.getElementById('49010f4f-f198-451f-a634-7f208c7241a3');\n",
       "var x = new MutationObserver(function (mutations, observer) {{\n",
       "        var display = window.getComputedStyle(gd).display;\n",
       "        if (!display || display === 'none') {{\n",
       "            console.log([gd, 'removed!']);\n",
       "            Plotly.purge(gd);\n",
       "            observer.disconnect();\n",
       "        }}\n",
       "}});\n",
       "\n",
       "// Listen for the removal of the full notebook cells\n",
       "var notebookContainer = gd.closest('#notebook-container');\n",
       "if (notebookContainer) {{\n",
       "    x.observe(notebookContainer, {childList: true});\n",
       "}}\n",
       "\n",
       "// Listen for the clearing of the current output cell\n",
       "var outputEl = gd.closest('.output');\n",
       "if (outputEl) {{\n",
       "    x.observe(outputEl, {childList: true});\n",
       "}}\n",
       "\n",
       "                        })                };                });            </script>        </div>"
      ]
     },
     "metadata": {},
     "output_type": "display_data"
    }
   ],
   "source": [
    "fig = px.bar(top_10_disasters, \n",
    "             x='Disaster Type', \n",
    "             y='Total Deaths', \n",
    "             title='Top 10 Disasters by Total Fatalities',\n",
    "             labels={'Disaster Type': 'Disaster Type', 'Total Deaths': 'Total Deaths'})\n",
    "\n",
    "fig.update_layout(xaxis_title=\"Disaster Type\", \n",
    "                  yaxis_title=\"Total Deaths\",\n",
    "                  xaxis_tickangle=-90,\n",
    "                  width=500, \n",
    "                  height=500)"
   ]
  },
  {
   "cell_type": "markdown",
   "id": "f760f542-3361-4cf1-9c17-24a16135a9eb",
   "metadata": {},
   "source": [
    "##### Create a correlation matrix heatmap"
   ]
  },
  {
   "cell_type": "code",
   "execution_count": 77,
   "id": "ba3a7932-d34a-47fa-91e7-a87e969c0215",
   "metadata": {},
   "outputs": [
    {
     "data": {
      "image/png": "[encoded data removed]",
      "text/plain": [
       "<Figure size 1500x600 with 2 Axes>"
      ]
     },
     "metadata": {},
     "output_type": "display_data"
    }
   ],
   "source": [
    "numerical_df = df.select_dtypes(include = [\"number\"])\n",
    "numerical_cor = numerical_df.corr()\n",
    "\n",
    "plt.figure(figsize = (15, 6))\n",
    "sns.heatmap(data = numerical_cor, annot = True, cmap = \"coolwarm\", fmt = \".2f\", linewidth = 0.5)\n",
    "plt.title(\"Correlation\")\n",
    "plt.show()"
   ]
  },
  {
   "cell_type": "markdown",
   "id": "bd01b063-d57c-4718-8fa3-9beb584b01cc",
   "metadata": {},
   "source": [
    "1. The correlation between Total Deaths and Total Damage is quite low, suggesting that disasters with high economic impacts do not necessarily cause a large number of fatalities.\n",
    "2. There is a strong positive correlation between Total Damage and Total Damage, Adjusted, indicating that higher raw damages generally align with higher adjusted damages.\n",
    "3. There's a moderate positive correlation between Total Deaths and Total Affected, which suggests that disasters that result in more deaths also tend to affect a larger number of people."
   ]
  },
  {
   "cell_type": "markdown",
   "id": "4a69539d-31d9-48af-8d1c-9bd847f327bf",
   "metadata": {},
   "source": [
    "##### Create a treemap using hierarchical columns you would like to explore"
   ]
  },
  {
   "cell_type": "code",
   "execution_count": 69,
   "id": "1ce7da32-1d54-4a55-aaa1-218b91d1b429",
   "metadata": {},
   "outputs": [
    {
     "data": {
      "text/plain": [
       "(878, 46)"
      ]
     },
     "execution_count": 69,
     "metadata": {},
     "output_type": "execute_result"
    }
   ],
   "source": [
    "year_filter = df[df[\"End Year\"] == 2000]\n",
    "year_filter.shape"
   ]
  },
  {
   "cell_type": "code",
   "execution_count": 92,
   "id": "0545d8e1-0fb3-4930-92c7-d4a078184abe",
   "metadata": {},
   "outputs": [
    {
     "data": {
      "text/html": [
       "<div>\n",
       "<style scoped>\n",
       "    .dataframe tbody tr th:only-of-type {\n",
       "        vertical-align: middle;\n",
       "    }\n",
       "\n",
       "    .dataframe tbody tr th {\n",
       "        vertical-align: top;\n",
       "    }\n",
       "\n",
       "    .dataframe thead th {\n",
       "        text-align: right;\n",
       "    }\n",
       "</style>\n",
       "<table border=\"1\" class=\"dataframe\">\n",
       "  <thead>\n",
       "    <tr style=\"text-align: right;\">\n",
       "      <th></th>\n",
       "      <th>Disaster Subgroup</th>\n",
       "      <th>Region</th>\n",
       "      <th>Total Deaths</th>\n",
       "      <th>Group_Count</th>\n",
       "    </tr>\n",
       "  </thead>\n",
       "  <tbody>\n",
       "    <tr>\n",
       "      <th>0</th>\n",
       "      <td>Hydrological</td>\n",
       "      <td>Europe</td>\n",
       "      <td>16.000</td>\n",
       "      <td>22</td>\n",
       "    </tr>\n",
       "    <tr>\n",
       "      <th>1</th>\n",
       "      <td>Hydrological</td>\n",
       "      <td>Africa</td>\n",
       "      <td>16.000</td>\n",
       "      <td>16</td>\n",
       "    </tr>\n",
       "    <tr>\n",
       "      <th>2</th>\n",
       "      <td>Meteorological</td>\n",
       "      <td>Asia</td>\n",
       "      <td>16.000</td>\n",
       "      <td>14</td>\n",
       "    </tr>\n",
       "    <tr>\n",
       "      <th>3</th>\n",
       "      <td>Climatological</td>\n",
       "      <td>Americas</td>\n",
       "      <td>16.000</td>\n",
       "      <td>12</td>\n",
       "    </tr>\n",
       "    <tr>\n",
       "      <th>4</th>\n",
       "      <td>Geophysical</td>\n",
       "      <td>Asia</td>\n",
       "      <td>16.000</td>\n",
       "      <td>11</td>\n",
       "    </tr>\n",
       "    <tr>\n",
       "      <th>...</th>\n",
       "      <td>...</td>\n",
       "      <td>...</td>\n",
       "      <td>...</td>\n",
       "      <td>...</td>\n",
       "    </tr>\n",
       "    <tr>\n",
       "      <th>462</th>\n",
       "      <td>Meteorological</td>\n",
       "      <td>Africa</td>\n",
       "      <td>130.000</td>\n",
       "      <td>1</td>\n",
       "    </tr>\n",
       "    <tr>\n",
       "      <th>463</th>\n",
       "      <td>Meteorological</td>\n",
       "      <td>Africa</td>\n",
       "      <td>23.000</td>\n",
       "      <td>1</td>\n",
       "    </tr>\n",
       "    <tr>\n",
       "      <th>464</th>\n",
       "      <td>Meteorological</td>\n",
       "      <td>Africa</td>\n",
       "      <td>17.000</td>\n",
       "      <td>1</td>\n",
       "    </tr>\n",
       "    <tr>\n",
       "      <th>465</th>\n",
       "      <td>Hydrological</td>\n",
       "      <td>Africa</td>\n",
       "      <td>2.000</td>\n",
       "      <td>1</td>\n",
       "    </tr>\n",
       "    <tr>\n",
       "      <th>466</th>\n",
       "      <td>Transport</td>\n",
       "      <td>Oceania</td>\n",
       "      <td>163.000</td>\n",
       "      <td>1</td>\n",
       "    </tr>\n",
       "  </tbody>\n",
       "</table>\n",
       "<p>467 rows × 4 columns</p>\n",
       "</div>"
      ],
      "text/plain": [
       "    Disaster Subgroup    Region  Total Deaths  Group_Count\n",
       "0        Hydrological    Europe        16.000           22\n",
       "1        Hydrological    Africa        16.000           16\n",
       "2      Meteorological      Asia        16.000           14\n",
       "3      Climatological  Americas        16.000           12\n",
       "4         Geophysical      Asia        16.000           11\n",
       "..                ...       ...           ...          ...\n",
       "462    Meteorological    Africa       130.000            1\n",
       "463    Meteorological    Africa        23.000            1\n",
       "464    Meteorological    Africa        17.000            1\n",
       "465      Hydrological    Africa         2.000            1\n",
       "466         Transport   Oceania       163.000            1\n",
       "\n",
       "[467 rows x 4 columns]"
      ]
     },
     "execution_count": 92,
     "metadata": {},
     "output_type": "execute_result"
    }
   ],
   "source": [
    "year_filter_grouped = year_filter.groupby([\"Disaster Subgroup\", \"Region\", \"Total Deaths\"]).agg(Group_Count = pd.NamedAgg(\"Disaster Group\", \"size\")).sort_values(\"Group_Count\", ascending = False).reset_index(drop = False)\n",
    "year_filter_grouped"
   ]
  },
  {
   "cell_type": "code",
   "execution_count": 94,
   "id": "aa2d24e9-9eac-40ba-b0e1-8af497e731ce",
   "metadata": {},
   "outputs": [
    {
     "data": {
      "application/vnd.plotly.v1+json": {
       "config": {
        "plotlyServerURL": "https://plot.ly"
       },
       "data": [
        {
         "branchvalues": "total",
         "domain": {
          "x": [
           0,
           1
          ],
          "y": [
           0,
           1
          ]
         },
         "hovertemplate": "labels=%{label}<br>Group_Count=%{value}<br>parent=%{parent}<br>id=%{id}<extra></extra>",
         "ids": [
          "All Groups/Asia/Biological/1.0",
          "All Groups/Europe/Climatological/1.0",
          "All Groups/Africa/Geophysical/1.0",
          "All Groups/Asia/Geophysical/1.0",
          "All Groups/Africa/Hydrological/1.0",
          "All Groups/Americas/Hydrological/1.0",
          "All Groups/Asia/Hydrological/1.0",
          "All Groups/Europe/Hydrological/1.0",
          "All Groups/Asia/Industrial accident/1.0",
          "All Groups/Africa/Meteorological/1.0",
          "All Groups/Americas/Meteorological/1.0",
          "All Groups/Europe/Meteorological/1.0",
          "All Groups/Oceania/Meteorological/1.0",
          "All Groups/Africa/Miscellaneous accident/1.0",
          "All Groups/Americas/Miscellaneous accident/1.0",
          "All Groups/Asia/Biological/2.0",
          "All Groups/Europe/Biological/2.0",
          "All Groups/Asia/Climatological/2.0",
          "All Groups/Europe/Climatological/2.0",
          "All Groups/Americas/Geophysical/2.0",
          "All Groups/Asia/Geophysical/2.0",
          "All Groups/Oceania/Geophysical/2.0",
          "All Groups/Africa/Hydrological/2.0",
          "All Groups/Americas/Hydrological/2.0",
          "All Groups/Asia/Hydrological/2.0",
          "All Groups/Europe/Hydrological/2.0",
          "All Groups/Africa/Meteorological/2.0",
          "All Groups/Americas/Meteorological/2.0",
          "All Groups/Asia/Meteorological/2.0",
          "All Groups/Europe/Meteorological/2.0",
          "All Groups/Africa/Miscellaneous accident/2.0",
          "All Groups/Africa/Biological/3.0",
          "All Groups/Africa/Hydrological/3.0",
          "All Groups/Americas/Hydrological/3.0",
          "All Groups/Asia/Hydrological/3.0",
          "All Groups/Africa/Meteorological/3.0",
          "All Groups/Asia/Meteorological/3.0",
          "All Groups/Europe/Meteorological/3.0",
          "All Groups/Africa/Biological/4.0",
          "All Groups/Asia/Biological/4.0",
          "All Groups/Africa/Hydrological/4.0",
          "All Groups/Americas/Hydrological/4.0",
          "All Groups/Asia/Hydrological/4.0",
          "All Groups/Oceania/Hydrological/4.0",
          "All Groups/Africa/Meteorological/4.0",
          "All Groups/Americas/Meteorological/4.0",
          "All Groups/Asia/Meteorological/4.0",
          "All Groups/Europe/Meteorological/4.0",
          "All Groups/Africa/Transport/4.0",
          "All Groups/Americas/Hydrological/5.0",
          "All Groups/Asia/Hydrological/5.0",
          "All Groups/Europe/Hydrological/5.0",
          "All Groups/Africa/Meteorological/5.0",
          "All Groups/Americas/Meteorological/5.0",
          "All Groups/Asia/Meteorological/5.0",
          "All Groups/Oceania/Biological/6.0",
          "All Groups/Europe/Climatological/6.0",
          "All Groups/Africa/Hydrological/6.0",
          "All Groups/Americas/Hydrological/6.0",
          "All Groups/Asia/Hydrological/6.0",
          "All Groups/Europe/Hydrological/6.0",
          "All Groups/Americas/Meteorological/6.0",
          "All Groups/Asia/Meteorological/6.0",
          "All Groups/Europe/Meteorological/6.0",
          "All Groups/Americas/Miscellaneous accident/6.0",
          "All Groups/Africa/Biological/7.0",
          "All Groups/Europe/Climatological/7.0",
          "All Groups/Americas/Geophysical/7.0",
          "All Groups/Asia/Geophysical/7.0",
          "All Groups/Africa/Hydrological/7.0",
          "All Groups/Americas/Hydrological/7.0",
          "All Groups/Asia/Hydrological/7.0",
          "All Groups/Europe/Hydrological/7.0",
          "All Groups/Americas/Meteorological/7.0",
          "All Groups/Europe/Meteorological/7.0",
          "All Groups/Africa/Biological/8.0",
          "All Groups/Americas/Biological/8.0",
          "All Groups/Americas/Climatological/8.0",
          "All Groups/Americas/Hydrological/8.0",
          "All Groups/Asia/Hydrological/8.0",
          "All Groups/Europe/Hydrological/8.0",
          "All Groups/Americas/Meteorological/8.0",
          "All Groups/Asia/Meteorological/8.0",
          "All Groups/Asia/Miscellaneous accident/8.0",
          "All Groups/Africa/Biological/9.0",
          "All Groups/Africa/Hydrological/9.0",
          "All Groups/Americas/Hydrological/9.0",
          "All Groups/Asia/Hydrological/9.0",
          "All Groups/Europe/Hydrological/9.0",
          "All Groups/Africa/Meteorological/9.0",
          "All Groups/Asia/Meteorological/9.0",
          "All Groups/Europe/Meteorological/9.0",
          "All Groups/Europe/Transport/9.0",
          "All Groups/Africa/Biological/10.0",
          "All Groups/Asia/Biological/10.0",
          "All Groups/Americas/Hydrological/10.0",
          "All Groups/Asia/Hydrological/10.0",
          "All Groups/Asia/Industrial accident/10.0",
          "All Groups/Asia/Meteorological/10.0",
          "All Groups/Africa/Miscellaneous accident/10.0",
          "All Groups/Americas/Miscellaneous accident/10.0",
          "All Groups/Asia/Miscellaneous accident/10.0",
          "All Groups/Europe/Miscellaneous accident/10.0",
          "All Groups/Africa/Transport/10.0",
          "All Groups/Americas/Transport/10.0",
          "All Groups/Asia/Transport/10.0",
          "All Groups/Europe/Transport/10.0",
          "All Groups/Africa/Biological/11.0",
          "All Groups/Asia/Geophysical/11.0",
          "All Groups/Africa/Hydrological/11.0",
          "All Groups/Americas/Hydrological/11.0",
          "All Groups/Asia/Hydrological/11.0",
          "All Groups/Africa/Industrial accident/11.0",
          "All Groups/Asia/Industrial accident/11.0",
          "All Groups/Americas/Meteorological/11.0",
          "All Groups/Asia/Meteorological/11.0",
          "All Groups/Asia/Miscellaneous accident/11.0",
          "All Groups/Europe/Miscellaneous accident/11.0",
          "All Groups/Africa/Transport/11.0",
          "All Groups/Americas/Transport/11.0",
          "All Groups/Asia/Transport/11.0",
          "All Groups/Europe/Transport/11.0",
          "All Groups/Africa/Biological/12.0",
          "All Groups/Asia/Biological/12.0",
          "All Groups/Americas/Hydrological/12.0",
          "All Groups/Asia/Hydrological/12.0",
          "All Groups/Asia/Industrial accident/12.0",
          "All Groups/Europe/Industrial accident/12.0",
          "All Groups/Americas/Meteorological/12.0",
          "All Groups/Asia/Meteorological/12.0",
          "All Groups/Europe/Meteorological/12.0",
          "All Groups/Americas/Miscellaneous accident/12.0",
          "All Groups/Asia/Miscellaneous accident/12.0",
          "All Groups/Africa/Transport/12.0",
          "All Groups/Americas/Transport/12.0",
          "All Groups/Asia/Transport/12.0",
          "All Groups/Africa/Biological/13.0",
          "All Groups/Asia/Biological/13.0",
          "All Groups/Africa/Hydrological/13.0",
          "All Groups/Americas/Hydrological/13.0",
          "All Groups/Asia/Hydrological/13.0",
          "All Groups/Europe/Hydrological/13.0",
          "All Groups/Europe/Meteorological/13.0",
          "All Groups/Africa/Miscellaneous accident/13.0",
          "All Groups/Asia/Miscellaneous accident/13.0",
          "All Groups/Europe/Miscellaneous accident/13.0",
          "All Groups/Africa/Transport/13.0",
          "All Groups/Americas/Transport/13.0",
          "All Groups/Asia/Transport/13.0",
          "All Groups/Europe/Transport/13.0",
          "All Groups/Africa/Biological/14.0",
          "All Groups/Asia/Biological/14.0",
          "All Groups/Americas/Climatological/14.0",
          "All Groups/Americas/Hydrological/14.0",
          "All Groups/Asia/Hydrological/14.0",
          "All Groups/Asia/Industrial accident/14.0",
          "All Groups/Americas/Meteorological/14.0",
          "All Groups/Asia/Meteorological/14.0",
          "All Groups/Europe/Meteorological/14.0",
          "All Groups/Africa/Miscellaneous accident/14.0",
          "All Groups/Africa/Transport/14.0",
          "All Groups/Americas/Transport/14.0",
          "All Groups/Asia/Transport/14.0",
          "All Groups/Africa/Biological/15.0",
          "All Groups/Asia/Biological/15.0",
          "All Groups/Africa/Hydrological/15.0",
          "All Groups/Americas/Hydrological/15.0",
          "All Groups/Asia/Hydrological/15.0",
          "All Groups/Asia/Industrial accident/15.0",
          "All Groups/Americas/Meteorological/15.0",
          "All Groups/Asia/Meteorological/15.0",
          "All Groups/Asia/Miscellaneous accident/15.0",
          "All Groups/Africa/Transport/15.0",
          "All Groups/Americas/Transport/15.0",
          "All Groups/Asia/Transport/15.0",
          "All Groups/Africa/Biological/16.0",
          "All Groups/Americas/Biological/16.0",
          "All Groups/Asia/Biological/16.0",
          "All Groups/Europe/Biological/16.0",
          "All Groups/Oceania/Biological/16.0",
          "All Groups/Africa/Climatological/16.0",
          "All Groups/Americas/Climatological/16.0",
          "All Groups/Asia/Climatological/16.0",
          "All Groups/Europe/Climatological/16.0",
          "All Groups/Oceania/Climatological/16.0",
          "All Groups/Americas/Geophysical/16.0",
          "All Groups/Asia/Geophysical/16.0",
          "All Groups/Europe/Geophysical/16.0",
          "All Groups/Africa/Hydrological/16.0",
          "All Groups/Americas/Hydrological/16.0",
          "All Groups/Asia/Hydrological/16.0",
          "All Groups/Europe/Hydrological/16.0",
          "All Groups/Oceania/Hydrological/16.0",
          "All Groups/Africa/Industrial accident/16.0",
          "All Groups/Americas/Industrial accident/16.0",
          "All Groups/Asia/Industrial accident/16.0",
          "All Groups/Europe/Industrial accident/16.0",
          "All Groups/Africa/Meteorological/16.0",
          "All Groups/Americas/Meteorological/16.0",
          "All Groups/Asia/Meteorological/16.0",
          "All Groups/Europe/Meteorological/16.0",
          "All Groups/Oceania/Meteorological/16.0",
          "All Groups/Africa/Miscellaneous accident/16.0",
          "All Groups/Americas/Miscellaneous accident/16.0",
          "All Groups/Asia/Miscellaneous accident/16.0",
          "All Groups/Europe/Miscellaneous accident/16.0",
          "All Groups/Africa/Transport/16.0",
          "All Groups/Americas/Transport/16.0",
          "All Groups/Asia/Transport/16.0",
          "All Groups/Africa/Hydrological/17.0",
          "All Groups/Africa/Industrial accident/17.0",
          "All Groups/Asia/Industrial accident/17.0",
          "All Groups/Africa/Meteorological/17.0",
          "All Groups/Americas/Miscellaneous accident/17.0",
          "All Groups/Africa/Transport/17.0",
          "All Groups/Americas/Transport/17.0",
          "All Groups/Asia/Transport/17.0",
          "All Groups/Africa/Biological/18.0",
          "All Groups/Asia/Hydrological/18.0",
          "All Groups/Africa/Industrial accident/18.0",
          "All Groups/Asia/Miscellaneous accident/18.0",
          "All Groups/Oceania/Miscellaneous accident/18.0",
          "All Groups/Africa/Transport/18.0",
          "All Groups/Americas/Transport/18.0",
          "All Groups/Asia/Transport/18.0",
          "All Groups/Africa/Biological/19.0",
          "All Groups/Asia/Biological/19.0",
          "All Groups/Oceania/Biological/19.0",
          "All Groups/Africa/Industrial accident/19.0",
          "All Groups/Asia/Meteorological/19.0",
          "All Groups/Africa/Transport/19.0",
          "All Groups/Americas/Transport/19.0",
          "All Groups/Asia/Transport/19.0",
          "All Groups/Europe/Transport/19.0",
          "All Groups/Americas/Hydrological/20.0",
          "All Groups/Asia/Hydrological/20.0",
          "All Groups/Europe/Hydrological/20.0",
          "All Groups/Asia/Meteorological/20.0",
          "All Groups/Africa/Miscellaneous accident/20.0",
          "All Groups/Americas/Miscellaneous accident/20.0",
          "All Groups/Africa/Transport/20.0",
          "All Groups/Asia/Transport/20.0",
          "All Groups/Asia/Biological/21.0",
          "All Groups/Asia/Industrial accident/21.0",
          "All Groups/Africa/Transport/21.0",
          "All Groups/Asia/Transport/21.0",
          "All Groups/Africa/Biological/22.0",
          "All Groups/Americas/Hydrological/22.0",
          "All Groups/Asia/Industrial accident/22.0",
          "All Groups/Americas/Meteorological/22.0",
          "All Groups/Africa/Transport/22.0",
          "All Groups/Americas/Transport/22.0",
          "All Groups/Asia/Transport/22.0",
          "All Groups/Europe/Transport/22.0",
          "All Groups/Africa/Meteorological/23.0",
          "All Groups/Americas/Meteorological/23.0",
          "All Groups/Africa/Transport/23.0",
          "All Groups/Asia/Transport/23.0",
          "All Groups/Africa/Biological/24.0",
          "All Groups/Americas/Biological/24.0",
          "All Groups/Asia/Meteorological/24.0",
          "All Groups/Europe/Miscellaneous accident/24.0",
          "All Groups/Africa/Transport/24.0",
          "All Groups/Asia/Transport/24.0",
          "All Groups/Europe/Transport/24.0",
          "All Groups/Europe/Hydrological/25.0",
          "All Groups/Asia/Industrial accident/25.0",
          "All Groups/Asia/Meteorological/25.0",
          "All Groups/Asia/Miscellaneous accident/25.0",
          "All Groups/Europe/Miscellaneous accident/25.0",
          "All Groups/Africa/Transport/25.0",
          "All Groups/Americas/Transport/25.0",
          "All Groups/Asia/Transport/25.0",
          "All Groups/Americas/Hydrological/26.0",
          "All Groups/Asia/Meteorological/26.0",
          "All Groups/Americas/Transport/26.0",
          "All Groups/Asia/Transport/26.0",
          "All Groups/Africa/Biological/27.0",
          "All Groups/Asia/Biological/27.0",
          "All Groups/Asia/Industrial accident/27.0",
          "All Groups/Europe/Meteorological/27.0",
          "All Groups/Africa/Transport/27.0",
          "All Groups/Americas/Transport/27.0",
          "All Groups/Asia/Transport/27.0",
          "All Groups/Europe/Transport/27.0",
          "All Groups/Africa/Biological/28.0",
          "All Groups/Africa/Hydrological/28.0",
          "All Groups/Asia/Meteorological/28.0",
          "All Groups/Africa/Transport/28.0",
          "All Groups/Asia/Miscellaneous accident/29.0",
          "All Groups/Americas/Transport/29.0",
          "All Groups/Asia/Transport/29.0",
          "All Groups/Americas/Hydrological/30.0",
          "All Groups/Africa/Transport/30.0",
          "All Groups/Asia/Transport/30.0",
          "All Groups/Asia/Geophysical/31.0",
          "All Groups/Africa/Hydrological/31.0",
          "All Groups/Asia/Hydrological/31.0",
          "All Groups/Asia/Industrial accident/31.0",
          "All Groups/Asia/Miscellaneous accident/31.0",
          "All Groups/Americas/Transport/31.0",
          "All Groups/Asia/Transport/31.0",
          "All Groups/Africa/Biological/32.0",
          "All Groups/Asia/Biological/32.0",
          "All Groups/Africa/Transport/32.0",
          "All Groups/Asia/Transport/32.0",
          "All Groups/Asia/Hydrological/33.0",
          "All Groups/Asia/Industrial accident/33.0",
          "All Groups/Asia/Meteorological/33.0",
          "All Groups/Africa/Miscellaneous accident/33.0",
          "All Groups/Asia/Biological/34.0",
          "All Groups/Americas/Hydrological/34.0",
          "All Groups/Asia/Hydrological/34.0",
          "All Groups/Africa/Transport/34.0",
          "All Groups/Asia/Transport/34.0",
          "All Groups/Americas/Meteorological/35.0",
          "All Groups/Africa/Transport/35.0",
          "All Groups/Africa/Biological/36.0",
          "All Groups/Africa/Hydrological/36.0",
          "All Groups/Asia/Hydrological/36.0",
          "All Groups/Asia/Meteorological/36.0",
          "All Groups/Asia/Transport/36.0",
          "All Groups/Africa/Transport/37.0",
          "All Groups/Americas/Transport/37.0",
          "All Groups/Africa/Biological/38.0",
          "All Groups/Asia/Hydrological/38.0",
          "All Groups/Asia/Industrial accident/38.0",
          "All Groups/Asia/Miscellaneous accident/38.0",
          "All Groups/Asia/Transport/38.0",
          "All Groups/Africa/Transport/39.0",
          "All Groups/Africa/Biological/40.0",
          "All Groups/Asia/Hydrological/40.0",
          "All Groups/Africa/Industrial accident/40.0",
          "All Groups/Europe/Meteorological/40.0",
          "All Groups/Asia/Miscellaneous accident/40.0",
          "All Groups/Africa/Transport/40.0",
          "All Groups/Americas/Transport/40.0",
          "All Groups/Asia/Transport/40.0",
          "All Groups/Africa/Transport/41.0",
          "All Groups/Asia/Transport/41.0",
          "All Groups/Americas/Transport/42.0",
          "All Groups/Asia/Transport/42.0",
          "All Groups/Asia/Hydrological/43.0",
          "All Groups/Asia/Industrial accident/43.0",
          "All Groups/Americas/Transport/43.0",
          "All Groups/Asia/Biological/44.0",
          "All Groups/Asia/Transport/44.0",
          "All Groups/Europe/Transport/44.0",
          "All Groups/Asia/Geophysical/45.0",
          "All Groups/Africa/Transport/45.0",
          "All Groups/Asia/Industrial accident/46.0",
          "All Groups/Asia/Meteorological/46.0",
          "All Groups/Africa/Transport/46.0",
          "All Groups/Asia/Transport/46.0",
          "All Groups/Africa/Biological/47.0",
          "All Groups/Asia/Hydrological/47.0",
          "All Groups/Asia/Meteorological/47.0",
          "All Groups/Asia/Meteorological/48.0",
          "All Groups/Africa/Transport/48.0",
          "All Groups/Asia/Meteorological/49.0",
          "All Groups/Asia/Hydrological/50.0",
          "All Groups/Africa/Industrial accident/50.0",
          "All Groups/Africa/Transport/50.0",
          "All Groups/Asia/Transport/50.0",
          "All Groups/Africa/Biological/51.0",
          "All Groups/Asia/Biological/51.0",
          "All Groups/Asia/Hydrological/51.0",
          "All Groups/Asia/Industrial accident/51.0",
          "All Groups/Africa/Transport/51.0",
          "All Groups/Asia/Hydrological/52.0",
          "All Groups/Asia/Transport/53.0",
          "All Groups/Africa/Biological/54.0",
          "All Groups/Asia/Hydrological/54.0",
          "All Groups/Asia/Transport/55.0",
          "All Groups/Asia/Transport/56.0",
          "All Groups/Asia/Biological/57.0",
          "All Groups/Americas/Meteorological/57.0",
          "All Groups/Africa/Transport/57.0",
          "All Groups/Asia/Transport/57.0",
          "All Groups/Asia/Hydrological/58.0",
          "All Groups/Africa/Biological/60.0",
          "All Groups/Africa/Hydrological/60.0",
          "All Groups/Americas/Hydrological/60.0",
          "All Groups/Africa/Industrial accident/60.0",
          "All Groups/Americas/Miscellaneous accident/60.0",
          "All Groups/Asia/Miscellaneous accident/60.0",
          "All Groups/Africa/Transport/60.0",
          "All Groups/Africa/Transport/62.0",
          "All Groups/Asia/Transport/65.0",
          "All Groups/Asia/Industrial accident/66.0",
          "All Groups/Americas/Meteorological/66.0",
          "All Groups/Asia/Biological/69.0",
          "All Groups/Africa/Hydrological/70.0",
          "All Groups/Asia/Hydrological/71.0",
          "All Groups/Asia/Miscellaneous accident/74.0",
          "All Groups/Asia/Meteorological/75.0",
          "All Groups/Asia/Biological/76.0",
          "All Groups/Europe/Transport/76.0",
          "All Groups/Europe/Industrial accident/80.0",
          "All Groups/Asia/Transport/82.0",
          "All Groups/Africa/Biological/83.0",
          "All Groups/Africa/Hydrological/83.0",
          "All Groups/Asia/Biological/84.0",
          "All Groups/Europe/Meteorological/84.0",
          "All Groups/Asia/Hydrological/86.0",
          "All Groups/Americas/Transport/88.0",
          "All Groups/Asia/Biological/89.0",
          "All Groups/Asia/Meteorological/89.0",
          "All Groups/Asia/Industrial accident/91.0",
          "All Groups/Africa/Biological/93.0",
          "All Groups/Asia/Meteorological/94.0",
          "All Groups/Asia/Biological/95.0",
          "All Groups/Asia/Transport/95.0",
          "All Groups/Americas/Hydrological/96.0",
          "All Groups/Asia/Hydrological/100.0",
          "All Groups/Africa/Industrial accident/100.0",
          "All Groups/Africa/Transport/101.0",
          "All Groups/Asia/Geophysical/103.0",
          "All Groups/Africa/Biological/108.0",
          "All Groups/Europe/Transport/108.0",
          "All Groups/Africa/Miscellaneous accident/109.0",
          "All Groups/Europe/Transport/114.0",
          "All Groups/Asia/Industrial accident/115.0",
          "All Groups/Americas/Hydrological/120.0",
          "All Groups/Americas/Miscellaneous accident/120.0",
          "All Groups/Africa/Transport/124.0",
          "All Groups/Asia/Hydrological/126.0",
          "All Groups/Africa/Biological/128.0",
          "All Groups/Asia/Hydrological/130.0",
          "All Groups/Africa/Meteorological/130.0",
          "All Groups/Asia/Transport/131.0",
          "All Groups/Asia/Transport/134.0",
          "All Groups/Asia/Transport/143.0",
          "All Groups/Asia/Hydrological/144.0",
          "All Groups/Africa/Industrial accident/150.0",
          "All Groups/Africa/Transport/150.0",
          "All Groups/Asia/Meteorological/154.0",
          "All Groups/Europe/Transport/155.0",
          "All Groups/Asia/Transport/157.0",
          "All Groups/Asia/Industrial accident/159.0",
          "All Groups/Africa/Biological/163.0",
          "All Groups/Oceania/Transport/163.0",
          "All Groups/Africa/Transport/169.0",
          "All Groups/Asia/Hydrological/179.0",
          "All Groups/Africa/Biological/186.0",
          "All Groups/Africa/Biological/190.0",
          "All Groups/Asia/Hydrological/200.0",
          "All Groups/Asia/Hydrological/203.0",
          "All Groups/Africa/Biological/230.0",
          "All Groups/Europe/Meteorological/232.0",
          "All Groups/Asia/Biological/250.0",
          "All Groups/Africa/Industrial accident/260.0",
          "All Groups/Asia/Meteorological/275.0",
          "All Groups/Asia/Hydrological/287.0",
          "All Groups/Africa/Biological/300.0",
          "All Groups/Africa/Biological/308.0",
          "All Groups/Asia/Miscellaneous accident/309.0",
          "All Groups/Africa/Biological/311.0",
          "All Groups/Asia/Hydrological/347.0",
          "All Groups/Africa/Biological/390.0",
          "All Groups/Asia/Hydrological/460.0",
          "All Groups/Asia/Transport/481.0",
          "All Groups/Asia/Biological/507.0",
          "All Groups/Africa/Biological/602.0",
          "All Groups/Africa/Hydrological/800.0",
          "All Groups/Asia/Hydrological/867.0",
          "All Groups/Asia/Hydrological/884.0",
          "All Groups/Africa/Biological",
          "All Groups/Americas/Biological",
          "All Groups/Asia/Biological",
          "All Groups/Europe/Biological",
          "All Groups/Oceania/Biological",
          "All Groups/Africa/Climatological",
          "All Groups/Americas/Climatological",
          "All Groups/Asia/Climatological",
          "All Groups/Europe/Climatological",
          "All Groups/Oceania/Climatological",
          "All Groups/Africa/Geophysical",
          "All Groups/Americas/Geophysical",
          "All Groups/Asia/Geophysical",
          "All Groups/Europe/Geophysical",
          "All Groups/Oceania/Geophysical",
          "All Groups/Africa/Hydrological",
          "All Groups/Americas/Hydrological",
          "All Groups/Asia/Hydrological",
          "All Groups/Europe/Hydrological",
          "All Groups/Oceania/Hydrological",
          "All Groups/Africa/Industrial accident",
          "All Groups/Americas/Industrial accident",
          "All Groups/Asia/Industrial accident",
          "All Groups/Europe/Industrial accident",
          "All Groups/Africa/Meteorological",
          "All Groups/Americas/Meteorological",
          "All Groups/Asia/Meteorological",
          "All Groups/Europe/Meteorological",
          "All Groups/Oceania/Meteorological",
          "All Groups/Africa/Miscellaneous accident",
          "All Groups/Americas/Miscellaneous accident",
          "All Groups/Asia/Miscellaneous accident",
          "All Groups/Europe/Miscellaneous accident",
          "All Groups/Oceania/Miscellaneous accident",
          "All Groups/Africa/Transport",
          "All Groups/Americas/Transport",
          "All Groups/Asia/Transport",
          "All Groups/Europe/Transport",
          "All Groups/Oceania/Transport",
          "All Groups/Africa",
          "All Groups/Americas",
          "All Groups/Asia",
          "All Groups/Europe",
          "All Groups/Oceania",
          "All Groups"
         ],
         "labels": [
          "1.0",
          "1.0",
          "1.0",
          "1.0",
          "1.0",
          "1.0",
          "1.0",
          "1.0",
          "1.0",
          "1.0",
          "1.0",
          "1.0",
          "1.0",
          "1.0",
          "1.0",
          "2.0",
          "2.0",
          "2.0",
          "2.0",
          "2.0",
          "2.0",
          "2.0",
          "2.0",
          "2.0",
          "2.0",
          "2.0",
          "2.0",
          "2.0",
          "2.0",
          "2.0",
          "2.0",
          "3.0",
          "3.0",
          "3.0",
          "3.0",
          "3.0",
          "3.0",
          "3.0",
          "4.0",
          "4.0",
          "4.0",
          "4.0",
          "4.0",
          "4.0",
          "4.0",
          "4.0",
          "4.0",
          "4.0",
          "4.0",
          "5.0",
          "5.0",
          "5.0",
          "5.0",
          "5.0",
          "5.0",
          "6.0",
          "6.0",
          "6.0",
          "6.0",
          "6.0",
          "6.0",
          "6.0",
          "6.0",
          "6.0",
          "6.0",
          "7.0",
          "7.0",
          "7.0",
          "7.0",
          "7.0",
          "7.0",
          "7.0",
          "7.0",
          "7.0",
          "7.0",
          "8.0",
          "8.0",
          "8.0",
          "8.0",
          "8.0",
          "8.0",
          "8.0",
          "8.0",
          "8.0",
          "9.0",
          "9.0",
          "9.0",
          "9.0",
          "9.0",
          "9.0",
          "9.0",
          "9.0",
          "9.0",
          "10.0",
          "10.0",
          "10.0",
          "10.0",
          "10.0",
          "10.0",
          "10.0",
          "10.0",
          "10.0",
          "10.0",
          "10.0",
          "10.0",
          "10.0",
          "10.0",
          "11.0",
          "11.0",
          "11.0",
          "11.0",
          "11.0",
          "11.0",
          "11.0",
          "11.0",
          "11.0",
          "11.0",
          "11.0",
          "11.0",
          "11.0",
          "11.0",
          "11.0",
          "12.0",
          "12.0",
          "12.0",
          "12.0",
          "12.0",
          "12.0",
          "12.0",
          "12.0",
          "12.0",
          "12.0",
          "12.0",
          "12.0",
          "12.0",
          "12.0",
          "13.0",
          "13.0",
          "13.0",
          "13.0",
          "13.0",
          "13.0",
          "13.0",
          "13.0",
          "13.0",
          "13.0",
          "13.0",
          "13.0",
          "13.0",
          "13.0",
          "14.0",
          "14.0",
          "14.0",
          "14.0",
          "14.0",
          "14.0",
          "14.0",
          "14.0",
          "14.0",
          "14.0",
          "14.0",
          "14.0",
          "14.0",
          "15.0",
          "15.0",
          "15.0",
          "15.0",
          "15.0",
          "15.0",
          "15.0",
          "15.0",
          "15.0",
          "15.0",
          "15.0",
          "15.0",
          "16.0",
          "16.0",
          "16.0",
          "16.0",
          "16.0",
          "16.0",
          "16.0",
          "16.0",
          "16.0",
          "16.0",
          "16.0",
          "16.0",
          "16.0",
          "16.0",
          "16.0",
          "16.0",
          "16.0",
          "16.0",
          "16.0",
          "16.0",
          "16.0",
          "16.0",
          "16.0",
          "16.0",
          "16.0",
          "16.0",
          "16.0",
          "16.0",
          "16.0",
          "16.0",
          "16.0",
          "16.0",
          "16.0",
          "16.0",
          "17.0",
          "17.0",
          "17.0",
          "17.0",
          "17.0",
          "17.0",
          "17.0",
          "17.0",
          "18.0",
          "18.0",
          "18.0",
          "18.0",
          "18.0",
          "18.0",
          "18.0",
          "18.0",
          "19.0",
          "19.0",
          "19.0",
          "19.0",
          "19.0",
          "19.0",
          "19.0",
          "19.0",
          "19.0",
          "20.0",
          "20.0",
          "20.0",
          "20.0",
          "20.0",
          "20.0",
          "20.0",
          "20.0",
          "21.0",
          "21.0",
          "21.0",
          "21.0",
          "22.0",
          "22.0",
          "22.0",
          "22.0",
          "22.0",
          "22.0",
          "22.0",
          "22.0",
          "23.0",
          "23.0",
          "23.0",
          "23.0",
          "24.0",
          "24.0",
          "24.0",
          "24.0",
          "24.0",
          "24.0",
          "24.0",
          "25.0",
          "25.0",
          "25.0",
          "25.0",
          "25.0",
          "25.0",
          "25.0",
          "25.0",
          "26.0",
          "26.0",
          "26.0",
          "26.0",
          "27.0",
          "27.0",
          "27.0",
          "27.0",
          "27.0",
          "27.0",
          "27.0",
          "27.0",
          "28.0",
          "28.0",
          "28.0",
          "28.0",
          "29.0",
          "29.0",
          "29.0",
          "30.0",
          "30.0",
          "30.0",
          "31.0",
          "31.0",
          "31.0",
          "31.0",
          "31.0",
          "31.0",
          "31.0",
          "32.0",
          "32.0",
          "32.0",
          "32.0",
          "33.0",
          "33.0",
          "33.0",
          "33.0",
          "34.0",
          "34.0",
          "34.0",
          "34.0",
          "34.0",
          "35.0",
          "35.0",
          "36.0",
          "36.0",
          "36.0",
          "36.0",
          "36.0",
          "37.0",
          "37.0",
          "38.0",
          "38.0",
          "38.0",
          "38.0",
          "38.0",
          "39.0",
          "40.0",
          "40.0",
          "40.0",
          "40.0",
          "40.0",
          "40.0",
          "40.0",
          "40.0",
          "41.0",
          "41.0",
          "42.0",
          "42.0",
          "43.0",
          "43.0",
          "43.0",
          "44.0",
          "44.0",
          "44.0",
          "45.0",
          "45.0",
          "46.0",
          "46.0",
          "46.0",
          "46.0",
          "47.0",
          "47.0",
          "47.0",
          "48.0",
          "48.0",
          "49.0",
          "50.0",
          "50.0",
          "50.0",
          "50.0",
          "51.0",
          "51.0",
          "51.0",
          "51.0",
          "51.0",
          "52.0",
          "53.0",
          "54.0",
          "54.0",
          "55.0",
          "56.0",
          "57.0",
          "57.0",
          "57.0",
          "57.0",
          "58.0",
          "60.0",
          "60.0",
          "60.0",
          "60.0",
          "60.0",
          "60.0",
          "60.0",
          "62.0",
          "65.0",
          "66.0",
          "66.0",
          "69.0",
          "70.0",
          "71.0",
          "74.0",
          "75.0",
          "76.0",
          "76.0",
          "80.0",
          "82.0",
          "83.0",
          "83.0",
          "84.0",
          "84.0",
          "86.0",
          "88.0",
          "89.0",
          "89.0",
          "91.0",
          "93.0",
          "94.0",
          "95.0",
          "95.0",
          "96.0",
          "100.0",
          "100.0",
          "101.0",
          "103.0",
          "108.0",
          "108.0",
          "109.0",
          "114.0",
          "115.0",
          "120.0",
          "120.0",
          "124.0",
          "126.0",
          "128.0",
          "130.0",
          "130.0",
          "131.0",
          "134.0",
          "143.0",
          "144.0",
          "150.0",
          "150.0",
          "154.0",
          "155.0",
          "157.0",
          "159.0",
          "163.0",
          "163.0",
          "169.0",
          "179.0",
          "186.0",
          "190.0",
          "200.0",
          "203.0",
          "230.0",
          "232.0",
          "250.0",
          "260.0",
          "275.0",
          "287.0",
          "300.0",
          "308.0",
          "309.0",
          "311.0",
          "347.0",
          "390.0",
          "460.0",
          "481.0",
          "507.0",
          "602.0",
          "800.0",
          "867.0",
          "884.0",
          "Biological",
          "Biological",
          "Biological",
          "Biological",
          "Biological",
          "Climatological",
          "Climatological",
          "Climatological",
          "Climatological",
          "Climatological",
          "Geophysical",
          "Geophysical",
          "Geophysical",
          "Geophysical",
          "Geophysical",
          "Hydrological",
          "Hydrological",
          "Hydrological",
          "Hydrological",
          "Hydrological",
          "Industrial accident",
          "Industrial accident",
          "Industrial accident",
          "Industrial accident",
          "Meteorological",
          "Meteorological",
          "Meteorological",
          "Meteorological",
          "Meteorological",
          "Miscellaneous accident",
          "Miscellaneous accident",
          "Miscellaneous accident",
          "Miscellaneous accident",
          "Miscellaneous accident",
          "Transport",
          "Transport",
          "Transport",
          "Transport",
          "Transport",
          "Africa",
          "Americas",
          "Asia",
          "Europe",
          "Oceania",
          "All Groups"
         ],
         "level": "All Groups",
         "name": "",
         "parents": [
          "All Groups/Asia/Biological",
          "All Groups/Europe/Climatological",
          "All Groups/Africa/Geophysical",
          "All Groups/Asia/Geophysical",
          "All Groups/Africa/Hydrological",
          "All Groups/Americas/Hydrological",
          "All Groups/Asia/Hydrological",
          "All Groups/Europe/Hydrological",
          "All Groups/Asia/Industrial accident",
          "All Groups/Africa/Meteorological",
          "All Groups/Americas/Meteorological",
          "All Groups/Europe/Meteorological",
          "All Groups/Oceania/Meteorological",
          "All Groups/Africa/Miscellaneous accident",
          "All Groups/Americas/Miscellaneous accident",
          "All Groups/Asia/Biological",
          "All Groups/Europe/Biological",
          "All Groups/Asia/Climatological",
          "All Groups/Europe/Climatological",
          "All Groups/Americas/Geophysical",
          "All Groups/Asia/Geophysical",
          "All Groups/Oceania/Geophysical",
          "All Groups/Africa/Hydrological",
          "All Groups/Americas/Hydrological",
          "All Groups/Asia/Hydrological",
          "All Groups/Europe/Hydrological",
          "All Groups/Africa/Meteorological",
          "All Groups/Americas/Meteorological",
          "All Groups/Asia/Meteorological",
          "All Groups/Europe/Meteorological",
          "All Groups/Africa/Miscellaneous accident",
          "All Groups/Africa/Biological",
          "All Groups/Africa/Hydrological",
          "All Groups/Americas/Hydrological",
          "All Groups/Asia/Hydrological",
          "All Groups/Africa/Meteorological",
          "All Groups/Asia/Meteorological",
          "All Groups/Europe/Meteorological",
          "All Groups/Africa/Biological",
          "All Groups/Asia/Biological",
          "All Groups/Africa/Hydrological",
          "All Groups/Americas/Hydrological",
          "All Groups/Asia/Hydrological",
          "All Groups/Oceania/Hydrological",
          "All Groups/Africa/Meteorological",
          "All Groups/Americas/Meteorological",
          "All Groups/Asia/Meteorological",
          "All Groups/Europe/Meteorological",
          "All Groups/Africa/Transport",
          "All Groups/Americas/Hydrological",
          "All Groups/Asia/Hydrological",
          "All Groups/Europe/Hydrological",
          "All Groups/Africa/Meteorological",
          "All Groups/Americas/Meteorological",
          "All Groups/Asia/Meteorological",
          "All Groups/Oceania/Biological",
          "All Groups/Europe/Climatological",
          "All Groups/Africa/Hydrological",
          "All Groups/Americas/Hydrological",
          "All Groups/Asia/Hydrological",
          "All Groups/Europe/Hydrological",
          "All Groups/Americas/Meteorological",
          "All Groups/Asia/Meteorological",
          "All Groups/Europe/Meteorological",
          "All Groups/Americas/Miscellaneous accident",
          "All Groups/Africa/Biological",
          "All Groups/Europe/Climatological",
          "All Groups/Americas/Geophysical",
          "All Groups/Asia/Geophysical",
          "All Groups/Africa/Hydrological",
          "All Groups/Americas/Hydrological",
          "All Groups/Asia/Hydrological",
          "All Groups/Europe/Hydrological",
          "All Groups/Americas/Meteorological",
          "All Groups/Europe/Meteorological",
          "All Groups/Africa/Biological",
          "All Groups/Americas/Biological",
          "All Groups/Americas/Climatological",
          "All Groups/Americas/Hydrological",
          "All Groups/Asia/Hydrological",
          "All Groups/Europe/Hydrological",
          "All Groups/Americas/Meteorological",
          "All Groups/Asia/Meteorological",
          "All Groups/Asia/Miscellaneous accident",
          "All Groups/Africa/Biological",
          "All Groups/Africa/Hydrological",
          "All Groups/Americas/Hydrological",
          "All Groups/Asia/Hydrological",
          "All Groups/Europe/Hydrological",
          "All Groups/Africa/Meteorological",
          "All Groups/Asia/Meteorological",
          "All Groups/Europe/Meteorological",
          "All Groups/Europe/Transport",
          "All Groups/Africa/Biological",
          "All Groups/Asia/Biological",
          "All Groups/Americas/Hydrological",
          "All Groups/Asia/Hydrological",
          "All Groups/Asia/Industrial accident",
          "All Groups/Asia/Meteorological",
          "All Groups/Africa/Miscellaneous accident",
          "All Groups/Americas/Miscellaneous accident",
          "All Groups/Asia/Miscellaneous accident",
          "All Groups/Europe/Miscellaneous accident",
          "All Groups/Africa/Transport",
          "All Groups/Americas/Transport",
          "All Groups/Asia/Transport",
          "All Groups/Europe/Transport",
          "All Groups/Africa/Biological",
          "All Groups/Asia/Geophysical",
          "All Groups/Africa/Hydrological",
          "All Groups/Americas/Hydrological",
          "All Groups/Asia/Hydrological",
          "All Groups/Africa/Industrial accident",
          "All Groups/Asia/Industrial accident",
          "All Groups/Americas/Meteorological",
          "All Groups/Asia/Meteorological",
          "All Groups/Asia/Miscellaneous accident",
          "All Groups/Europe/Miscellaneous accident",
          "All Groups/Africa/Transport",
          "All Groups/Americas/Transport",
          "All Groups/Asia/Transport",
          "All Groups/Europe/Transport",
          "All Groups/Africa/Biological",
          "All Groups/Asia/Biological",
          "All Groups/Americas/Hydrological",
          "All Groups/Asia/Hydrological",
          "All Groups/Asia/Industrial accident",
          "All Groups/Europe/Industrial accident",
          "All Groups/Americas/Meteorological",
          "All Groups/Asia/Meteorological",
          "All Groups/Europe/Meteorological",
          "All Groups/Americas/Miscellaneous accident",
          "All Groups/Asia/Miscellaneous accident",
          "All Groups/Africa/Transport",
          "All Groups/Americas/Transport",
          "All Groups/Asia/Transport",
          "All Groups/Africa/Biological",
          "All Groups/Asia/Biological",
          "All Groups/Africa/Hydrological",
          "All Groups/Americas/Hydrological",
          "All Groups/Asia/Hydrological",
          "All Groups/Europe/Hydrological",
          "All Groups/Europe/Meteorological",
          "All Groups/Africa/Miscellaneous accident",
          "All Groups/Asia/Miscellaneous accident",
          "All Groups/Europe/Miscellaneous accident",
          "All Groups/Africa/Transport",
          "All Groups/Americas/Transport",
          "All Groups/Asia/Transport",
          "All Groups/Europe/Transport",
          "All Groups/Africa/Biological",
          "All Groups/Asia/Biological",
          "All Groups/Americas/Climatological",
          "All Groups/Americas/Hydrological",
          "All Groups/Asia/Hydrological",
          "All Groups/Asia/Industrial accident",
          "All Groups/Americas/Meteorological",
          "All Groups/Asia/Meteorological",
          "All Groups/Europe/Meteorological",
          "All Groups/Africa/Miscellaneous accident",
          "All Groups/Africa/Transport",
          "All Groups/Americas/Transport",
          "All Groups/Asia/Transport",
          "All Groups/Africa/Biological",
          "All Groups/Asia/Biological",
          "All Groups/Africa/Hydrological",
          "All Groups/Americas/Hydrological",
          "All Groups/Asia/Hydrological",
          "All Groups/Asia/Industrial accident",
          "All Groups/Americas/Meteorological",
          "All Groups/Asia/Meteorological",
          "All Groups/Asia/Miscellaneous accident",
          "All Groups/Africa/Transport",
          "All Groups/Americas/Transport",
          "All Groups/Asia/Transport",
          "All Groups/Africa/Biological",
          "All Groups/Americas/Biological",
          "All Groups/Asia/Biological",
          "All Groups/Europe/Biological",
          "All Groups/Oceania/Biological",
          "All Groups/Africa/Climatological",
          "All Groups/Americas/Climatological",
          "All Groups/Asia/Climatological",
          "All Groups/Europe/Climatological",
          "All Groups/Oceania/Climatological",
          "All Groups/Americas/Geophysical",
          "All Groups/Asia/Geophysical",
          "All Groups/Europe/Geophysical",
          "All Groups/Africa/Hydrological",
          "All Groups/Americas/Hydrological",
          "All Groups/Asia/Hydrological",
          "All Groups/Europe/Hydrological",
          "All Groups/Oceania/Hydrological",
          "All Groups/Africa/Industrial accident",
          "All Groups/Americas/Industrial accident",
          "All Groups/Asia/Industrial accident",
          "All Groups/Europe/Industrial accident",
          "All Groups/Africa/Meteorological",
          "All Groups/Americas/Meteorological",
          "All Groups/Asia/Meteorological",
          "All Groups/Europe/Meteorological",
          "All Groups/Oceania/Meteorological",
          "All Groups/Africa/Miscellaneous accident",
          "All Groups/Americas/Miscellaneous accident",
          "All Groups/Asia/Miscellaneous accident",
          "All Groups/Europe/Miscellaneous accident",
          "All Groups/Africa/Transport",
          "All Groups/Americas/Transport",
          "All Groups/Asia/Transport",
          "All Groups/Africa/Hydrological",
          "All Groups/Africa/Industrial accident",
          "All Groups/Asia/Industrial accident",
          "All Groups/Africa/Meteorological",
          "All Groups/Americas/Miscellaneous accident",
          "All Groups/Africa/Transport",
          "All Groups/Americas/Transport",
          "All Groups/Asia/Transport",
          "All Groups/Africa/Biological",
          "All Groups/Asia/Hydrological",
          "All Groups/Africa/Industrial accident",
          "All Groups/Asia/Miscellaneous accident",
          "All Groups/Oceania/Miscellaneous accident",
          "All Groups/Africa/Transport",
          "All Groups/Americas/Transport",
          "All Groups/Asia/Transport",
          "All Groups/Africa/Biological",
          "All Groups/Asia/Biological",
          "All Groups/Oceania/Biological",
          "All Groups/Africa/Industrial accident",
          "All Groups/Asia/Meteorological",
          "All Groups/Africa/Transport",
          "All Groups/Americas/Transport",
          "All Groups/Asia/Transport",
          "All Groups/Europe/Transport",
          "All Groups/Americas/Hydrological",
          "All Groups/Asia/Hydrological",
          "All Groups/Europe/Hydrological",
          "All Groups/Asia/Meteorological",
          "All Groups/Africa/Miscellaneous accident",
          "All Groups/Americas/Miscellaneous accident",
          "All Groups/Africa/Transport",
          "All Groups/Asia/Transport",
          "All Groups/Asia/Biological",
          "All Groups/Asia/Industrial accident",
          "All Groups/Africa/Transport",
          "All Groups/Asia/Transport",
          "All Groups/Africa/Biological",
          "All Groups/Americas/Hydrological",
          "All Groups/Asia/Industrial accident",
          "All Groups/Americas/Meteorological",
          "All Groups/Africa/Transport",
          "All Groups/Americas/Transport",
          "All Groups/Asia/Transport",
          "All Groups/Europe/Transport",
          "All Groups/Africa/Meteorological",
          "All Groups/Americas/Meteorological",
          "All Groups/Africa/Transport",
          "All Groups/Asia/Transport",
          "All Groups/Africa/Biological",
          "All Groups/Americas/Biological",
          "All Groups/Asia/Meteorological",
          "All Groups/Europe/Miscellaneous accident",
          "All Groups/Africa/Transport",
          "All Groups/Asia/Transport",
          "All Groups/Europe/Transport",
          "All Groups/Europe/Hydrological",
          "All Groups/Asia/Industrial accident",
          "All Groups/Asia/Meteorological",
          "All Groups/Asia/Miscellaneous accident",
          "All Groups/Europe/Miscellaneous accident",
          "All Groups/Africa/Transport",
          "All Groups/Americas/Transport",
          "All Groups/Asia/Transport",
          "All Groups/Americas/Hydrological",
          "All Groups/Asia/Meteorological",
          "All Groups/Americas/Transport",
          "All Groups/Asia/Transport",
          "All Groups/Africa/Biological",
          "All Groups/Asia/Biological",
          "All Groups/Asia/Industrial accident",
          "All Groups/Europe/Meteorological",
          "All Groups/Africa/Transport",
          "All Groups/Americas/Transport",
          "All Groups/Asia/Transport",
          "All Groups/Europe/Transport",
          "All Groups/Africa/Biological",
          "All Groups/Africa/Hydrological",
          "All Groups/Asia/Meteorological",
          "All Groups/Africa/Transport",
          "All Groups/Asia/Miscellaneous accident",
          "All Groups/Americas/Transport",
          "All Groups/Asia/Transport",
          "All Groups/Americas/Hydrological",
          "All Groups/Africa/Transport",
          "All Groups/Asia/Transport",
          "All Groups/Asia/Geophysical",
          "All Groups/Africa/Hydrological",
          "All Groups/Asia/Hydrological",
          "All Groups/Asia/Industrial accident",
          "All Groups/Asia/Miscellaneous accident",
          "All Groups/Americas/Transport",
          "All Groups/Asia/Transport",
          "All Groups/Africa/Biological",
          "All Groups/Asia/Biological",
          "All Groups/Africa/Transport",
          "All Groups/Asia/Transport",
          "All Groups/Asia/Hydrological",
          "All Groups/Asia/Industrial accident",
          "All Groups/Asia/Meteorological",
          "All Groups/Africa/Miscellaneous accident",
          "All Groups/Asia/Biological",
          "All Groups/Americas/Hydrological",
          "All Groups/Asia/Hydrological",
          "All Groups/Africa/Transport",
          "All Groups/Asia/Transport",
          "All Groups/Americas/Meteorological",
          "All Groups/Africa/Transport",
          "All Groups/Africa/Biological",
          "All Groups/Africa/Hydrological",
          "All Groups/Asia/Hydrological",
          "All Groups/Asia/Meteorological",
          "All Groups/Asia/Transport",
          "All Groups/Africa/Transport",
          "All Groups/Americas/Transport",
          "All Groups/Africa/Biological",
          "All Groups/Asia/Hydrological",
          "All Groups/Asia/Industrial accident",
          "All Groups/Asia/Miscellaneous accident",
          "All Groups/Asia/Transport",
          "All Groups/Africa/Transport",
          "All Groups/Africa/Biological",
          "All Groups/Asia/Hydrological",
          "All Groups/Africa/Industrial accident",
          "All Groups/Europe/Meteorological",
          "All Groups/Asia/Miscellaneous accident",
          "All Groups/Africa/Transport",
          "All Groups/Americas/Transport",
          "All Groups/Asia/Transport",
          "All Groups/Africa/Transport",
          "All Groups/Asia/Transport",
          "All Groups/Americas/Transport",
          "All Groups/Asia/Transport",
          "All Groups/Asia/Hydrological",
          "All Groups/Asia/Industrial accident",
          "All Groups/Americas/Transport",
          "All Groups/Asia/Biological",
          "All Groups/Asia/Transport",
          "All Groups/Europe/Transport",
          "All Groups/Asia/Geophysical",
          "All Groups/Africa/Transport",
          "All Groups/Asia/Industrial accident",
          "All Groups/Asia/Meteorological",
          "All Groups/Africa/Transport",
          "All Groups/Asia/Transport",
          "All Groups/Africa/Biological",
          "All Groups/Asia/Hydrological",
          "All Groups/Asia/Meteorological",
          "All Groups/Asia/Meteorological",
          "All Groups/Africa/Transport",
          "All Groups/Asia/Meteorological",
          "All Groups/Asia/Hydrological",
          "All Groups/Africa/Industrial accident",
          "All Groups/Africa/Transport",
          "All Groups/Asia/Transport",
          "All Groups/Africa/Biological",
          "All Groups/Asia/Biological",
          "All Groups/Asia/Hydrological",
          "All Groups/Asia/Industrial accident",
          "All Groups/Africa/Transport",
          "All Groups/Asia/Hydrological",
          "All Groups/Asia/Transport",
          "All Groups/Africa/Biological",
          "All Groups/Asia/Hydrological",
          "All Groups/Asia/Transport",
          "All Groups/Asia/Transport",
          "All Groups/Asia/Biological",
          "All Groups/Americas/Meteorological",
          "All Groups/Africa/Transport",
          "All Groups/Asia/Transport",
          "All Groups/Asia/Hydrological",
          "All Groups/Africa/Biological",
          "All Groups/Africa/Hydrological",
          "All Groups/Americas/Hydrological",
          "All Groups/Africa/Industrial accident",
          "All Groups/Americas/Miscellaneous accident",
          "All Groups/Asia/Miscellaneous accident",
          "All Groups/Africa/Transport",
          "All Groups/Africa/Transport",
          "All Groups/Asia/Transport",
          "All Groups/Asia/Industrial accident",
          "All Groups/Americas/Meteorological",
          "All Groups/Asia/Biological",
          "All Groups/Africa/Hydrological",
          "All Groups/Asia/Hydrological",
          "All Groups/Asia/Miscellaneous accident",
          "All Groups/Asia/Meteorological",
          "All Groups/Asia/Biological",
          "All Groups/Europe/Transport",
          "All Groups/Europe/Industrial accident",
          "All Groups/Asia/Transport",
          "All Groups/Africa/Biological",
          "All Groups/Africa/Hydrological",
          "All Groups/Asia/Biological",
          "All Groups/Europe/Meteorological",
          "All Groups/Asia/Hydrological",
          "All Groups/Americas/Transport",
          "All Groups/Asia/Biological",
          "All Groups/Asia/Meteorological",
          "All Groups/Asia/Industrial accident",
          "All Groups/Africa/Biological",
          "All Groups/Asia/Meteorological",
          "All Groups/Asia/Biological",
          "All Groups/Asia/Transport",
          "All Groups/Americas/Hydrological",
          "All Groups/Asia/Hydrological",
          "All Groups/Africa/Industrial accident",
          "All Groups/Africa/Transport",
          "All Groups/Asia/Geophysical",
          "All Groups/Africa/Biological",
          "All Groups/Europe/Transport",
          "All Groups/Africa/Miscellaneous accident",
          "All Groups/Europe/Transport",
          "All Groups/Asia/Industrial accident",
          "All Groups/Americas/Hydrological",
          "All Groups/Americas/Miscellaneous accident",
          "All Groups/Africa/Transport",
          "All Groups/Asia/Hydrological",
          "All Groups/Africa/Biological",
          "All Groups/Asia/Hydrological",
          "All Groups/Africa/Meteorological",
          "All Groups/Asia/Transport",
          "All Groups/Asia/Transport",
          "All Groups/Asia/Transport",
          "All Groups/Asia/Hydrological",
          "All Groups/Africa/Industrial accident",
          "All Groups/Africa/Transport",
          "All Groups/Asia/Meteorological",
          "All Groups/Europe/Transport",
          "All Groups/Asia/Transport",
          "All Groups/Asia/Industrial accident",
          "All Groups/Africa/Biological",
          "All Groups/Oceania/Transport",
          "All Groups/Africa/Transport",
          "All Groups/Asia/Hydrological",
          "All Groups/Africa/Biological",
          "All Groups/Africa/Biological",
          "All Groups/Asia/Hydrological",
          "All Groups/Asia/Hydrological",
          "All Groups/Africa/Biological",
          "All Groups/Europe/Meteorological",
          "All Groups/Asia/Biological",
          "All Groups/Africa/Industrial accident",
          "All Groups/Asia/Meteorological",
          "All Groups/Asia/Hydrological",
          "All Groups/Africa/Biological",
          "All Groups/Africa/Biological",
          "All Groups/Asia/Miscellaneous accident",
          "All Groups/Africa/Biological",
          "All Groups/Asia/Hydrological",
          "All Groups/Africa/Biological",
          "All Groups/Asia/Hydrological",
          "All Groups/Asia/Transport",
          "All Groups/Asia/Biological",
          "All Groups/Africa/Biological",
          "All Groups/Africa/Hydrological",
          "All Groups/Asia/Hydrological",
          "All Groups/Asia/Hydrological",
          "All Groups/Africa",
          "All Groups/Americas",
          "All Groups/Asia",
          "All Groups/Europe",
          "All Groups/Oceania",
          "All Groups/Africa",
          "All Groups/Americas",
          "All Groups/Asia",
          "All Groups/Europe",
          "All Groups/Oceania",
          "All Groups/Africa",
          "All Groups/Americas",
          "All Groups/Asia",
          "All Groups/Europe",
          "All Groups/Oceania",
          "All Groups/Africa",
          "All Groups/Americas",
          "All Groups/Asia",
          "All Groups/Europe",
          "All Groups/Oceania",
          "All Groups/Africa",
          "All Groups/Americas",
          "All Groups/Asia",
          "All Groups/Europe",
          "All Groups/Africa",
          "All Groups/Americas",
          "All Groups/Asia",
          "All Groups/Europe",
          "All Groups/Oceania",
          "All Groups/Africa",
          "All Groups/Americas",
          "All Groups/Asia",
          "All Groups/Europe",
          "All Groups/Oceania",
          "All Groups/Africa",
          "All Groups/Americas",
          "All Groups/Asia",
          "All Groups/Europe",
          "All Groups/Oceania",
          "All Groups",
          "All Groups",
          "All Groups",
          "All Groups",
          "All Groups",
          ""
         ],
         "root": {
          "color": "darkgrey"
         },
         "type": "treemap",
         "values": [
          1,
          1,
          1,
          6,
          1,
          3,
          1,
          6,
          1,
          2,
          7,
          1,
          1,
          1,
          1,
          4,
          1,
          1,
          2,
          1,
          1,
          1,
          1,
          6,
          3,
          2,
          1,
          1,
          1,
          1,
          1,
          2,
          4,
          2,
          1,
          1,
          3,
          1,
          2,
          1,
          2,
          2,
          1,
          1,
          2,
          1,
          3,
          4,
          1,
          1,
          1,
          1,
          1,
          1,
          3,
          1,
          1,
          1,
          1,
          1,
          1,
          1,
          1,
          2,
          1,
          1,
          2,
          1,
          1,
          2,
          2,
          1,
          1,
          2,
          3,
          2,
          1,
          1,
          1,
          1,
          1,
          2,
          1,
          1,
          1,
          2,
          1,
          1,
          1,
          1,
          3,
          1,
          1,
          4,
          3,
          1,
          1,
          2,
          1,
          1,
          1,
          4,
          2,
          7,
          3,
          6,
          1,
          2,
          2,
          1,
          1,
          2,
          1,
          1,
          1,
          5,
          1,
          1,
          4,
          3,
          9,
          1,
          1,
          1,
          1,
          1,
          3,
          1,
          1,
          1,
          1,
          1,
          2,
          5,
          1,
          2,
          1,
          1,
          1,
          2,
          1,
          1,
          1,
          1,
          2,
          1,
          9,
          1,
          4,
          2,
          4,
          1,
          1,
          2,
          1,
          1,
          1,
          1,
          1,
          1,
          9,
          1,
          4,
          2,
          2,
          2,
          1,
          2,
          1,
          1,
          2,
          1,
          7,
          2,
          3,
          7,
          2,
          5,
          7,
          1,
          3,
          12,
          11,
          10,
          1,
          4,
          11,
          4,
          16,
          9,
          5,
          22,
          2,
          2,
          1,
          5,
          3,
          4,
          6,
          14,
          7,
          3,
          3,
          4,
          3,
          4,
          4,
          2,
          5,
          1,
          2,
          2,
          1,
          1,
          1,
          5,
          1,
          1,
          1,
          2,
          1,
          2,
          4,
          1,
          4,
          1,
          2,
          1,
          1,
          1,
          2,
          3,
          1,
          2,
          1,
          1,
          1,
          1,
          1,
          1,
          9,
          5,
          1,
          1,
          2,
          5,
          2,
          1,
          1,
          1,
          4,
          2,
          3,
          1,
          1,
          1,
          2,
          1,
          1,
          1,
          1,
          1,
          3,
          2,
          1,
          1,
          1,
          1,
          1,
          1,
          1,
          1,
          4,
          1,
          1,
          2,
          5,
          2,
          1,
          1,
          1,
          2,
          2,
          1,
          1,
          1,
          1,
          1,
          1,
          1,
          2,
          1,
          2,
          4,
          2,
          1,
          1,
          1,
          1,
          1,
          2,
          1,
          1,
          1,
          1,
          1,
          2,
          1,
          1,
          1,
          1,
          1,
          2,
          1,
          1,
          1,
          1,
          1,
          1,
          1,
          1,
          1,
          1,
          1,
          1,
          1,
          1,
          1,
          3,
          1,
          1,
          2,
          2,
          1,
          1,
          4,
          1,
          1,
          1,
          2,
          1,
          2,
          2,
          1,
          2,
          1,
          2,
          1,
          1,
          1,
          1,
          1,
          1,
          1,
          1,
          1,
          1,
          1,
          2,
          1,
          1,
          1,
          3,
          2,
          1,
          1,
          1,
          1,
          1,
          1,
          2,
          1,
          1,
          1,
          1,
          1,
          1,
          1,
          1,
          1,
          1,
          1,
          1,
          1,
          1,
          1,
          1,
          1,
          1,
          1,
          1,
          1,
          1,
          1,
          1,
          1,
          2,
          1,
          1,
          2,
          1,
          1,
          1,
          1,
          1,
          1,
          1,
          1,
          1,
          1,
          1,
          1,
          1,
          1,
          1,
          1,
          1,
          1,
          1,
          1,
          1,
          1,
          1,
          1,
          1,
          1,
          1,
          1,
          1,
          1,
          1,
          1,
          2,
          1,
          1,
          1,
          1,
          1,
          1,
          1,
          1,
          1,
          1,
          1,
          1,
          1,
          1,
          1,
          1,
          1,
          1,
          1,
          1,
          1,
          2,
          1,
          1,
          1,
          1,
          1,
          1,
          1,
          1,
          1,
          1,
          1,
          1,
          59,
          4,
          36,
          8,
          3,
          3,
          14,
          12,
          16,
          1,
          1,
          6,
          24,
          4,
          1,
          41,
          45,
          57,
          38,
          3,
          15,
          1,
          30,
          5,
          15,
          30,
          56,
          27,
          4,
          11,
          12,
          23,
          10,
          2,
          106,
          39,
          100,
          15,
          1,
          251,
          151,
          338,
          123,
          15,
          878
         ]
        }
       ],
       "layout": {
        "autosize": true,
        "font": {
         "color": "white"
        },
        "legend": {
         "tracegroupgap": 0
        },
        "margin": {
         "b": 25,
         "l": 25,
         "r": 25,
         "t": 50
        },
        "template": {
         "data": {
          "bar": [
           {
            "error_x": {
             "color": "#2a3f5f"
            },
            "error_y": {
             "color": "#2a3f5f"
            },
            "marker": {
             "line": {
              "color": "#E5ECF6",
              "width": 0.5
             },
             "pattern": {
              "fillmode": "overlay",
              "size": 10,
              "solidity": 0.2
             }
            },
            "type": "bar"
           }
          ],
          "barpolar": [
           {
            "marker": {
             "line": {
              "color": "#E5ECF6",
              "width": 0.5
             },
             "pattern": {
              "fillmode": "overlay",
              "size": 10,
              "solidity": 0.2
             }
            },
            "type": "barpolar"
           }
          ],
          "carpet": [
           {
            "aaxis": {
             "endlinecolor": "#2a3f5f",
             "gridcolor": "white",
             "linecolor": "white",
             "minorgridcolor": "white",
             "startlinecolor": "#2a3f5f"
            },
            "baxis": {
             "endlinecolor": "#2a3f5f",
             "gridcolor": "white",
             "linecolor": "white",
             "minorgridcolor": "white",
             "startlinecolor": "#2a3f5f"
            },
            "type": "carpet"
           }
          ],
          "choropleth": [
           {
            "colorbar": {
             "outlinewidth": 0,
             "ticks": ""
            },
            "type": "choropleth"
           }
          ],
          "contour": [
           {
            "colorbar": {
             "outlinewidth": 0,
             "ticks": ""
            },
            "colorscale": [
             [
              0,
              "#0d0887"
             ],
             [
              0.1111111111111111,
              "#46039f"
             ],
             [
              0.2222222222222222,
              "#7201a8"
             ],
             [
              0.3333333333333333,
              "#9c179e"
             ],
             [
              0.4444444444444444,
              "#bd3786"
             ],
             [
              0.5555555555555556,
              "#d8576b"
             ],
             [
              0.6666666666666666,
              "#ed7953"
             ],
             [
              0.7777777777777778,
              "#fb9f3a"
             ],
             [
              0.8888888888888888,
              "#fdca26"
             ],
             [
              1,
              "#f0f921"
             ]
            ],
            "type": "contour"
           }
          ],
          "contourcarpet": [
           {
            "colorbar": {
             "outlinewidth": 0,
             "ticks": ""
            },
            "type": "contourcarpet"
           }
          ],
          "heatmap": [
           {
            "colorbar": {
             "outlinewidth": 0,
             "ticks": ""
            },
            "colorscale": [
             [
              0,
              "#0d0887"
             ],
             [
              0.1111111111111111,
              "#46039f"
             ],
             [
              0.2222222222222222,
              "#7201a8"
             ],
             [
              0.3333333333333333,
              "#9c179e"
             ],
             [
              0.4444444444444444,
              "#bd3786"
             ],
             [
              0.5555555555555556,
              "#d8576b"
             ],
             [
              0.6666666666666666,
              "#ed7953"
             ],
             [
              0.7777777777777778,
              "#fb9f3a"
             ],
             [
              0.8888888888888888,
              "#fdca26"
             ],
             [
              1,
              "#f0f921"
             ]
            ],
            "type": "heatmap"
           }
          ],
          "heatmapgl": [
           {
            "colorbar": {
             "outlinewidth": 0,
             "ticks": ""
            },
            "colorscale": [
             [
              0,
              "#0d0887"
             ],
             [
              0.1111111111111111,
              "#46039f"
             ],
             [
              0.2222222222222222,
              "#7201a8"
             ],
             [
              0.3333333333333333,
              "#9c179e"
             ],
             [
              0.4444444444444444,
              "#bd3786"
             ],
             [
              0.5555555555555556,
              "#d8576b"
             ],
             [
              0.6666666666666666,
              "#ed7953"
             ],
             [
              0.7777777777777778,
              "#fb9f3a"
             ],
             [
              0.8888888888888888,
              "#fdca26"
             ],
             [
              1,
              "#f0f921"
             ]
            ],
            "type": "heatmapgl"
           }
          ],
          "histogram": [
           {
            "marker": {
             "pattern": {
              "fillmode": "overlay",
              "size": 10,
              "solidity": 0.2
             }
            },
            "type": "histogram"
           }
          ],
          "histogram2d": [
           {
            "colorbar": {
             "outlinewidth": 0,
             "ticks": ""
            },
            "colorscale": [
             [
              0,
              "#0d0887"
             ],
             [
              0.1111111111111111,
              "#46039f"
             ],
             [
              0.2222222222222222,
              "#7201a8"
             ],
             [
              0.3333333333333333,
              "#9c179e"
             ],
             [
              0.4444444444444444,
              "#bd3786"
             ],
             [
              0.5555555555555556,
              "#d8576b"
             ],
             [
              0.6666666666666666,
              "#ed7953"
             ],
             [
              0.7777777777777778,
              "#fb9f3a"
             ],
             [
              0.8888888888888888,
              "#fdca26"
             ],
             [
              1,
              "#f0f921"
             ]
            ],
            "type": "histogram2d"
           }
          ],
          "histogram2dcontour": [
           {
            "colorbar": {
             "outlinewidth": 0,
             "ticks": ""
            },
            "colorscale": [
             [
              0,
              "#0d0887"
             ],
             [
              0.1111111111111111,
              "#46039f"
             ],
             [
              0.2222222222222222,
              "#7201a8"
             ],
             [
              0.3333333333333333,
              "#9c179e"
             ],
             [
              0.4444444444444444,
              "#bd3786"
             ],
             [
              0.5555555555555556,
              "#d8576b"
             ],
             [
              0.6666666666666666,
              "#ed7953"
             ],
             [
              0.7777777777777778,
              "#fb9f3a"
             ],
             [
              0.8888888888888888,
              "#fdca26"
             ],
             [
              1,
              "#f0f921"
             ]
            ],
            "type": "histogram2dcontour"
           }
          ],
          "mesh3d": [
           {
            "colorbar": {
             "outlinewidth": 0,
             "ticks": ""
            },
            "type": "mesh3d"
           }
          ],
          "parcoords": [
           {
            "line": {
             "colorbar": {
              "outlinewidth": 0,
              "ticks": ""
             }
            },
            "type": "parcoords"
           }
          ],
          "pie": [
           {
            "automargin": true,
            "type": "pie"
           }
          ],
          "scatter": [
           {
            "fillpattern": {
             "fillmode": "overlay",
             "size": 10,
             "solidity": 0.2
            },
            "type": "scatter"
           }
          ],
          "scatter3d": [
           {
            "line": {
             "colorbar": {
              "outlinewidth": 0,
              "ticks": ""
             }
            },
            "marker": {
             "colorbar": {
              "outlinewidth": 0,
              "ticks": ""
             }
            },
            "type": "scatter3d"
           }
          ],
          "scattercarpet": [
           {
            "marker": {
             "colorbar": {
              "outlinewidth": 0,
              "ticks": ""
             }
            },
            "type": "scattercarpet"
           }
          ],
          "scattergeo": [
           {
            "marker": {
             "colorbar": {
              "outlinewidth": 0,
              "ticks": ""
             }
            },
            "type": "scattergeo"
           }
          ],
          "scattergl": [
           {
            "marker": {
             "colorbar": {
              "outlinewidth": 0,
              "ticks": ""
             }
            },
            "type": "scattergl"
           }
          ],
          "scattermapbox": [
           {
            "marker": {
             "colorbar": {
              "outlinewidth": 0,
              "ticks": ""
             }
            },
            "type": "scattermapbox"
           }
          ],
          "scatterpolar": [
           {
            "marker": {
             "colorbar": {
              "outlinewidth": 0,
              "ticks": ""
             }
            },
            "type": "scatterpolar"
           }
          ],
          "scatterpolargl": [
           {
            "marker": {
             "colorbar": {
              "outlinewidth": 0,
              "ticks": ""
             }
            },
            "type": "scatterpolargl"
           }
          ],
          "scatterternary": [
           {
            "marker": {
             "colorbar": {
              "outlinewidth": 0,
              "ticks": ""
             }
            },
            "type": "scatterternary"
           }
          ],
          "surface": [
           {
            "colorbar": {
             "outlinewidth": 0,
             "ticks": ""
            },
            "colorscale": [
             [
              0,
              "#0d0887"
             ],
             [
              0.1111111111111111,
              "#46039f"
             ],
             [
              0.2222222222222222,
              "#7201a8"
             ],
             [
              0.3333333333333333,
              "#9c179e"
             ],
             [
              0.4444444444444444,
              "#bd3786"
             ],
             [
              0.5555555555555556,
              "#d8576b"
             ],
             [
              0.6666666666666666,
              "#ed7953"
             ],
             [
              0.7777777777777778,
              "#fb9f3a"
             ],
             [
              0.8888888888888888,
              "#fdca26"
             ],
             [
              1,
              "#f0f921"
             ]
            ],
            "type": "surface"
           }
          ],
          "table": [
           {
            "cells": {
             "fill": {
              "color": "#EBF0F8"
             },
             "line": {
              "color": "white"
             }
            },
            "header": {
             "fill": {
              "color": "#C8D4E3"
             },
             "line": {
              "color": "white"
             }
            },
            "type": "table"
           }
          ]
         },
         "layout": {
          "annotationdefaults": {
           "arrowcolor": "#2a3f5f",
           "arrowhead": 0,
           "arrowwidth": 1
          },
          "autotypenumbers": "strict",
          "coloraxis": {
           "colorbar": {
            "outlinewidth": 0,
            "ticks": ""
           }
          },
          "colorscale": {
           "diverging": [
            [
             0,
             "#8e0152"
            ],
            [
             0.1,
             "#c51b7d"
            ],
            [
             0.2,
             "#de77ae"
            ],
            [
             0.3,
             "#f1b6da"
            ],
            [
             0.4,
             "#fde0ef"
            ],
            [
             0.5,
             "#f7f7f7"
            ],
            [
             0.6,
             "#e6f5d0"
            ],
            [
             0.7,
             "#b8e186"
            ],
            [
             0.8,
             "#7fbc41"
            ],
            [
             0.9,
             "#4d9221"
            ],
            [
             1,
             "#276419"
            ]
           ],
           "sequential": [
            [
             0,
             "#0d0887"
            ],
            [
             0.1111111111111111,
             "#46039f"
            ],
            [
             0.2222222222222222,
             "#7201a8"
            ],
            [
             0.3333333333333333,
             "#9c179e"
            ],
            [
             0.4444444444444444,
             "#bd3786"
            ],
            [
             0.5555555555555556,
             "#d8576b"
            ],
            [
             0.6666666666666666,
             "#ed7953"
            ],
            [
             0.7777777777777778,
             "#fb9f3a"
            ],
            [
             0.8888888888888888,
             "#fdca26"
            ],
            [
             1,
             "#f0f921"
            ]
           ],
           "sequentialminus": [
            [
             0,
             "#0d0887"
            ],
            [
             0.1111111111111111,
             "#46039f"
            ],
            [
             0.2222222222222222,
             "#7201a8"
            ],
            [
             0.3333333333333333,
             "#9c179e"
            ],
            [
             0.4444444444444444,
             "#bd3786"
            ],
            [
             0.5555555555555556,
             "#d8576b"
            ],
            [
             0.6666666666666666,
             "#ed7953"
            ],
            [
             0.7777777777777778,
             "#fb9f3a"
            ],
            [
             0.8888888888888888,
             "#fdca26"
            ],
            [
             1,
             "#f0f921"
            ]
           ]
          },
          "colorway": [
           "#636efa",
           "#EF553B",
           "#00cc96",
           "#ab63fa",
           "#FFA15A",
           "#19d3f3",
           "#FF6692",
           "#B6E880",
           "#FF97FF",
           "#FECB52"
          ],
          "font": {
           "color": "#2a3f5f"
          },
          "geo": {
           "bgcolor": "white",
           "lakecolor": "white",
           "landcolor": "#E5ECF6",
           "showlakes": true,
           "showland": true,
           "subunitcolor": "white"
          },
          "hoverlabel": {
           "align": "left"
          },
          "hovermode": "closest",
          "mapbox": {
           "style": "light"
          },
          "paper_bgcolor": "white",
          "plot_bgcolor": "#E5ECF6",
          "polar": {
           "angularaxis": {
            "gridcolor": "white",
            "linecolor": "white",
            "ticks": ""
           },
           "bgcolor": "#E5ECF6",
           "radialaxis": {
            "gridcolor": "white",
            "linecolor": "white",
            "ticks": ""
           }
          },
          "scene": {
           "xaxis": {
            "backgroundcolor": "#E5ECF6",
            "gridcolor": "white",
            "gridwidth": 2,
            "linecolor": "white",
            "showbackground": true,
            "ticks": "",
            "zerolinecolor": "white"
           },
           "yaxis": {
            "backgroundcolor": "#E5ECF6",
            "gridcolor": "white",
            "gridwidth": 2,
            "linecolor": "white",
            "showbackground": true,
            "ticks": "",
            "zerolinecolor": "white"
           },
           "zaxis": {
            "backgroundcolor": "#E5ECF6",
            "gridcolor": "white",
            "gridwidth": 2,
            "linecolor": "white",
            "showbackground": true,
            "ticks": "",
            "zerolinecolor": "white"
           }
          },
          "shapedefaults": {
           "line": {
            "color": "#2a3f5f"
           }
          },
          "ternary": {
           "aaxis": {
            "gridcolor": "white",
            "linecolor": "white",
            "ticks": ""
           },
           "baxis": {
            "gridcolor": "white",
            "linecolor": "white",
            "ticks": ""
           },
           "bgcolor": "#E5ECF6",
           "caxis": {
            "gridcolor": "white",
            "linecolor": "white",
            "ticks": ""
           }
          },
          "title": {
           "x": 0.05
          },
          "xaxis": {
           "automargin": true,
           "gridcolor": "white",
           "linecolor": "white",
           "ticks": "",
           "title": {
            "standoff": 15
           },
           "zerolinecolor": "white",
           "zerolinewidth": 2
          },
          "yaxis": {
           "automargin": true,
           "gridcolor": "white",
           "linecolor": "white",
           "ticks": "",
           "title": {
            "standoff": 15
           },
           "zerolinecolor": "white",
           "zerolinewidth": 2
          }
         }
        },
        "treemapcolorway": [
         "lightblue",
         "lightgreen"
        ]
       }
      },
      "image/png": "[encoded data removed]",
      "text/html": [
       "<div>                            <div id=\"43220a4e-7c5f-4842-ab70-f5cf99a87487\" class=\"plotly-graph-div\" style=\"height:525px; width:100%;\"></div>            <script type=\"text/javascript\">                require([\"plotly\"], function(Plotly) {                    window.PLOTLYENV=window.PLOTLYENV || {};                                    if (document.getElementById(\"43220a4e-7c5f-4842-ab70-f5cf99a87487\")) {                    Plotly.newPlot(                        \"43220a4e-7c5f-4842-ab70-f5cf99a87487\",                        [{\"branchvalues\":\"total\",\"domain\":{\"x\":[0.0,1.0],\"y\":[0.0,1.0]},\"hovertemplate\":\"labels=%{label}<br>Group_Count=%{value}<br>parent=%{parent}<br>id=%{id}<extra></extra>\",\"ids\":[\"All Groups/Asia/Biological/1.0\",\"All Groups/Europe/Climatological/1.0\",\"All Groups/Africa/Geophysical/1.0\",\"All Groups/Asia/Geophysical/1.0\",\"All Groups/Africa/Hydrological/1.0\",\"All Groups/Americas/Hydrological/1.0\",\"All Groups/Asia/Hydrological/1.0\",\"All Groups/Europe/Hydrological/1.0\",\"All Groups/Asia/Industrial accident/1.0\",\"All Groups/Africa/Meteorological/1.0\",\"All Groups/Americas/Meteorological/1.0\",\"All Groups/Europe/Meteorological/1.0\",\"All Groups/Oceania/Meteorological/1.0\",\"All Groups/Africa/Miscellaneous accident/1.0\",\"All Groups/Americas/Miscellaneous accident/1.0\",\"All Groups/Asia/Biological/2.0\",\"All Groups/Europe/Biological/2.0\",\"All Groups/Asia/Climatological/2.0\",\"All Groups/Europe/Climatological/2.0\",\"All Groups/Americas/Geophysical/2.0\",\"All Groups/Asia/Geophysical/2.0\",\"All Groups/Oceania/Geophysical/2.0\",\"All Groups/Africa/Hydrological/2.0\",\"All Groups/Americas/Hydrological/2.0\",\"All Groups/Asia/Hydrological/2.0\",\"All Groups/Europe/Hydrological/2.0\",\"All Groups/Africa/Meteorological/2.0\",\"All Groups/Americas/Meteorological/2.0\",\"All Groups/Asia/Meteorological/2.0\",\"All Groups/Europe/Meteorological/2.0\",\"All Groups/Africa/Miscellaneous accident/2.0\",\"All Groups/Africa/Biological/3.0\",\"All Groups/Africa/Hydrological/3.0\",\"All Groups/Americas/Hydrological/3.0\",\"All Groups/Asia/Hydrological/3.0\",\"All Groups/Africa/Meteorological/3.0\",\"All Groups/Asia/Meteorological/3.0\",\"All Groups/Europe/Meteorological/3.0\",\"All Groups/Africa/Biological/4.0\",\"All Groups/Asia/Biological/4.0\",\"All Groups/Africa/Hydrological/4.0\",\"All Groups/Americas/Hydrological/4.0\",\"All Groups/Asia/Hydrological/4.0\",\"All Groups/Oceania/Hydrological/4.0\",\"All Groups/Africa/Meteorological/4.0\",\"All Groups/Americas/Meteorological/4.0\",\"All Groups/Asia/Meteorological/4.0\",\"All Groups/Europe/Meteorological/4.0\",\"All Groups/Africa/Transport/4.0\",\"All Groups/Americas/Hydrological/5.0\",\"All Groups/Asia/Hydrological/5.0\",\"All Groups/Europe/Hydrological/5.0\",\"All Groups/Africa/Meteorological/5.0\",\"All Groups/Americas/Meteorological/5.0\",\"All Groups/Asia/Meteorological/5.0\",\"All Groups/Oceania/Biological/6.0\",\"All Groups/Europe/Climatological/6.0\",\"All Groups/Africa/Hydrological/6.0\",\"All Groups/Americas/Hydrological/6.0\",\"All Groups/Asia/Hydrological/6.0\",\"All Groups/Europe/Hydrological/6.0\",\"All Groups/Americas/Meteorological/6.0\",\"All Groups/Asia/Meteorological/6.0\",\"All Groups/Europe/Meteorological/6.0\",\"All Groups/Americas/Miscellaneous accident/6.0\",\"All Groups/Africa/Biological/7.0\",\"All Groups/Europe/Climatological/7.0\",\"All Groups/Americas/Geophysical/7.0\",\"All Groups/Asia/Geophysical/7.0\",\"All Groups/Africa/Hydrological/7.0\",\"All Groups/Americas/Hydrological/7.0\",\"All Groups/Asia/Hydrological/7.0\",\"All Groups/Europe/Hydrological/7.0\",\"All Groups/Americas/Meteorological/7.0\",\"All Groups/Europe/Meteorological/7.0\",\"All Groups/Africa/Biological/8.0\",\"All Groups/Americas/Biological/8.0\",\"All Groups/Americas/Climatological/8.0\",\"All Groups/Americas/Hydrological/8.0\",\"All Groups/Asia/Hydrological/8.0\",\"All Groups/Europe/Hydrological/8.0\",\"All Groups/Americas/Meteorological/8.0\",\"All Groups/Asia/Meteorological/8.0\",\"All Groups/Asia/Miscellaneous accident/8.0\",\"All Groups/Africa/Biological/9.0\",\"All Groups/Africa/Hydrological/9.0\",\"All Groups/Americas/Hydrological/9.0\",\"All Groups/Asia/Hydrological/9.0\",\"All Groups/Europe/Hydrological/9.0\",\"All Groups/Africa/Meteorological/9.0\",\"All Groups/Asia/Meteorological/9.0\",\"All Groups/Europe/Meteorological/9.0\",\"All Groups/Europe/Transport/9.0\",\"All Groups/Africa/Biological/10.0\",\"All Groups/Asia/Biological/10.0\",\"All Groups/Americas/Hydrological/10.0\",\"All Groups/Asia/Hydrological/10.0\",\"All Groups/Asia/Industrial accident/10.0\",\"All Groups/Asia/Meteorological/10.0\",\"All Groups/Africa/Miscellaneous accident/10.0\",\"All Groups/Americas/Miscellaneous accident/10.0\",\"All Groups/Asia/Miscellaneous accident/10.0\",\"All Groups/Europe/Miscellaneous accident/10.0\",\"All Groups/Africa/Transport/10.0\",\"All Groups/Americas/Transport/10.0\",\"All Groups/Asia/Transport/10.0\",\"All Groups/Europe/Transport/10.0\",\"All Groups/Africa/Biological/11.0\",\"All Groups/Asia/Geophysical/11.0\",\"All Groups/Africa/Hydrological/11.0\",\"All Groups/Americas/Hydrological/11.0\",\"All Groups/Asia/Hydrological/11.0\",\"All Groups/Africa/Industrial accident/11.0\",\"All Groups/Asia/Industrial accident/11.0\",\"All Groups/Americas/Meteorological/11.0\",\"All Groups/Asia/Meteorological/11.0\",\"All Groups/Asia/Miscellaneous accident/11.0\",\"All Groups/Europe/Miscellaneous accident/11.0\",\"All Groups/Africa/Transport/11.0\",\"All Groups/Americas/Transport/11.0\",\"All Groups/Asia/Transport/11.0\",\"All Groups/Europe/Transport/11.0\",\"All Groups/Africa/Biological/12.0\",\"All Groups/Asia/Biological/12.0\",\"All Groups/Americas/Hydrological/12.0\",\"All Groups/Asia/Hydrological/12.0\",\"All Groups/Asia/Industrial accident/12.0\",\"All Groups/Europe/Industrial accident/12.0\",\"All Groups/Americas/Meteorological/12.0\",\"All Groups/Asia/Meteorological/12.0\",\"All Groups/Europe/Meteorological/12.0\",\"All Groups/Americas/Miscellaneous accident/12.0\",\"All Groups/Asia/Miscellaneous accident/12.0\",\"All Groups/Africa/Transport/12.0\",\"All Groups/Americas/Transport/12.0\",\"All Groups/Asia/Transport/12.0\",\"All Groups/Africa/Biological/13.0\",\"All Groups/Asia/Biological/13.0\",\"All Groups/Africa/Hydrological/13.0\",\"All Groups/Americas/Hydrological/13.0\",\"All Groups/Asia/Hydrological/13.0\",\"All Groups/Europe/Hydrological/13.0\",\"All Groups/Europe/Meteorological/13.0\",\"All Groups/Africa/Miscellaneous accident/13.0\",\"All Groups/Asia/Miscellaneous accident/13.0\",\"All Groups/Europe/Miscellaneous accident/13.0\",\"All Groups/Africa/Transport/13.0\",\"All Groups/Americas/Transport/13.0\",\"All Groups/Asia/Transport/13.0\",\"All Groups/Europe/Transport/13.0\",\"All Groups/Africa/Biological/14.0\",\"All Groups/Asia/Biological/14.0\",\"All Groups/Americas/Climatological/14.0\",\"All Groups/Americas/Hydrological/14.0\",\"All Groups/Asia/Hydrological/14.0\",\"All Groups/Asia/Industrial accident/14.0\",\"All Groups/Americas/Meteorological/14.0\",\"All Groups/Asia/Meteorological/14.0\",\"All Groups/Europe/Meteorological/14.0\",\"All Groups/Africa/Miscellaneous accident/14.0\",\"All Groups/Africa/Transport/14.0\",\"All Groups/Americas/Transport/14.0\",\"All Groups/Asia/Transport/14.0\",\"All Groups/Africa/Biological/15.0\",\"All Groups/Asia/Biological/15.0\",\"All Groups/Africa/Hydrological/15.0\",\"All Groups/Americas/Hydrological/15.0\",\"All Groups/Asia/Hydrological/15.0\",\"All Groups/Asia/Industrial accident/15.0\",\"All Groups/Americas/Meteorological/15.0\",\"All Groups/Asia/Meteorological/15.0\",\"All Groups/Asia/Miscellaneous accident/15.0\",\"All Groups/Africa/Transport/15.0\",\"All Groups/Americas/Transport/15.0\",\"All Groups/Asia/Transport/15.0\",\"All Groups/Africa/Biological/16.0\",\"All Groups/Americas/Biological/16.0\",\"All Groups/Asia/Biological/16.0\",\"All Groups/Europe/Biological/16.0\",\"All Groups/Oceania/Biological/16.0\",\"All Groups/Africa/Climatological/16.0\",\"All Groups/Americas/Climatological/16.0\",\"All Groups/Asia/Climatological/16.0\",\"All Groups/Europe/Climatological/16.0\",\"All Groups/Oceania/Climatological/16.0\",\"All Groups/Americas/Geophysical/16.0\",\"All Groups/Asia/Geophysical/16.0\",\"All Groups/Europe/Geophysical/16.0\",\"All Groups/Africa/Hydrological/16.0\",\"All Groups/Americas/Hydrological/16.0\",\"All Groups/Asia/Hydrological/16.0\",\"All Groups/Europe/Hydrological/16.0\",\"All Groups/Oceania/Hydrological/16.0\",\"All Groups/Africa/Industrial accident/16.0\",\"All Groups/Americas/Industrial accident/16.0\",\"All Groups/Asia/Industrial accident/16.0\",\"All Groups/Europe/Industrial accident/16.0\",\"All Groups/Africa/Meteorological/16.0\",\"All Groups/Americas/Meteorological/16.0\",\"All Groups/Asia/Meteorological/16.0\",\"All Groups/Europe/Meteorological/16.0\",\"All Groups/Oceania/Meteorological/16.0\",\"All Groups/Africa/Miscellaneous accident/16.0\",\"All Groups/Americas/Miscellaneous accident/16.0\",\"All Groups/Asia/Miscellaneous accident/16.0\",\"All Groups/Europe/Miscellaneous accident/16.0\",\"All Groups/Africa/Transport/16.0\",\"All Groups/Americas/Transport/16.0\",\"All Groups/Asia/Transport/16.0\",\"All Groups/Africa/Hydrological/17.0\",\"All Groups/Africa/Industrial accident/17.0\",\"All Groups/Asia/Industrial accident/17.0\",\"All Groups/Africa/Meteorological/17.0\",\"All Groups/Americas/Miscellaneous accident/17.0\",\"All Groups/Africa/Transport/17.0\",\"All Groups/Americas/Transport/17.0\",\"All Groups/Asia/Transport/17.0\",\"All Groups/Africa/Biological/18.0\",\"All Groups/Asia/Hydrological/18.0\",\"All Groups/Africa/Industrial accident/18.0\",\"All Groups/Asia/Miscellaneous accident/18.0\",\"All Groups/Oceania/Miscellaneous accident/18.0\",\"All Groups/Africa/Transport/18.0\",\"All Groups/Americas/Transport/18.0\",\"All Groups/Asia/Transport/18.0\",\"All Groups/Africa/Biological/19.0\",\"All Groups/Asia/Biological/19.0\",\"All Groups/Oceania/Biological/19.0\",\"All Groups/Africa/Industrial accident/19.0\",\"All Groups/Asia/Meteorological/19.0\",\"All Groups/Africa/Transport/19.0\",\"All Groups/Americas/Transport/19.0\",\"All Groups/Asia/Transport/19.0\",\"All Groups/Europe/Transport/19.0\",\"All Groups/Americas/Hydrological/20.0\",\"All Groups/Asia/Hydrological/20.0\",\"All Groups/Europe/Hydrological/20.0\",\"All Groups/Asia/Meteorological/20.0\",\"All Groups/Africa/Miscellaneous accident/20.0\",\"All Groups/Americas/Miscellaneous accident/20.0\",\"All Groups/Africa/Transport/20.0\",\"All Groups/Asia/Transport/20.0\",\"All Groups/Asia/Biological/21.0\",\"All Groups/Asia/Industrial accident/21.0\",\"All Groups/Africa/Transport/21.0\",\"All Groups/Asia/Transport/21.0\",\"All Groups/Africa/Biological/22.0\",\"All Groups/Americas/Hydrological/22.0\",\"All Groups/Asia/Industrial accident/22.0\",\"All Groups/Americas/Meteorological/22.0\",\"All Groups/Africa/Transport/22.0\",\"All Groups/Americas/Transport/22.0\",\"All Groups/Asia/Transport/22.0\",\"All Groups/Europe/Transport/22.0\",\"All Groups/Africa/Meteorological/23.0\",\"All Groups/Americas/Meteorological/23.0\",\"All Groups/Africa/Transport/23.0\",\"All Groups/Asia/Transport/23.0\",\"All Groups/Africa/Biological/24.0\",\"All Groups/Americas/Biological/24.0\",\"All Groups/Asia/Meteorological/24.0\",\"All Groups/Europe/Miscellaneous accident/24.0\",\"All Groups/Africa/Transport/24.0\",\"All Groups/Asia/Transport/24.0\",\"All Groups/Europe/Transport/24.0\",\"All Groups/Europe/Hydrological/25.0\",\"All Groups/Asia/Industrial accident/25.0\",\"All Groups/Asia/Meteorological/25.0\",\"All Groups/Asia/Miscellaneous accident/25.0\",\"All Groups/Europe/Miscellaneous accident/25.0\",\"All Groups/Africa/Transport/25.0\",\"All Groups/Americas/Transport/25.0\",\"All Groups/Asia/Transport/25.0\",\"All Groups/Americas/Hydrological/26.0\",\"All Groups/Asia/Meteorological/26.0\",\"All Groups/Americas/Transport/26.0\",\"All Groups/Asia/Transport/26.0\",\"All Groups/Africa/Biological/27.0\",\"All Groups/Asia/Biological/27.0\",\"All Groups/Asia/Industrial accident/27.0\",\"All Groups/Europe/Meteorological/27.0\",\"All Groups/Africa/Transport/27.0\",\"All Groups/Americas/Transport/27.0\",\"All Groups/Asia/Transport/27.0\",\"All Groups/Europe/Transport/27.0\",\"All Groups/Africa/Biological/28.0\",\"All Groups/Africa/Hydrological/28.0\",\"All Groups/Asia/Meteorological/28.0\",\"All Groups/Africa/Transport/28.0\",\"All Groups/Asia/Miscellaneous accident/29.0\",\"All Groups/Americas/Transport/29.0\",\"All Groups/Asia/Transport/29.0\",\"All Groups/Americas/Hydrological/30.0\",\"All Groups/Africa/Transport/30.0\",\"All Groups/Asia/Transport/30.0\",\"All Groups/Asia/Geophysical/31.0\",\"All Groups/Africa/Hydrological/31.0\",\"All Groups/Asia/Hydrological/31.0\",\"All Groups/Asia/Industrial accident/31.0\",\"All Groups/Asia/Miscellaneous accident/31.0\",\"All Groups/Americas/Transport/31.0\",\"All Groups/Asia/Transport/31.0\",\"All Groups/Africa/Biological/32.0\",\"All Groups/Asia/Biological/32.0\",\"All Groups/Africa/Transport/32.0\",\"All Groups/Asia/Transport/32.0\",\"All Groups/Asia/Hydrological/33.0\",\"All Groups/Asia/Industrial accident/33.0\",\"All Groups/Asia/Meteorological/33.0\",\"All Groups/Africa/Miscellaneous accident/33.0\",\"All Groups/Asia/Biological/34.0\",\"All Groups/Americas/Hydrological/34.0\",\"All Groups/Asia/Hydrological/34.0\",\"All Groups/Africa/Transport/34.0\",\"All Groups/Asia/Transport/34.0\",\"All Groups/Americas/Meteorological/35.0\",\"All Groups/Africa/Transport/35.0\",\"All Groups/Africa/Biological/36.0\",\"All Groups/Africa/Hydrological/36.0\",\"All Groups/Asia/Hydrological/36.0\",\"All Groups/Asia/Meteorological/36.0\",\"All Groups/Asia/Transport/36.0\",\"All Groups/Africa/Transport/37.0\",\"All Groups/Americas/Transport/37.0\",\"All Groups/Africa/Biological/38.0\",\"All Groups/Asia/Hydrological/38.0\",\"All Groups/Asia/Industrial accident/38.0\",\"All Groups/Asia/Miscellaneous accident/38.0\",\"All Groups/Asia/Transport/38.0\",\"All Groups/Africa/Transport/39.0\",\"All Groups/Africa/Biological/40.0\",\"All Groups/Asia/Hydrological/40.0\",\"All Groups/Africa/Industrial accident/40.0\",\"All Groups/Europe/Meteorological/40.0\",\"All Groups/Asia/Miscellaneous accident/40.0\",\"All Groups/Africa/Transport/40.0\",\"All Groups/Americas/Transport/40.0\",\"All Groups/Asia/Transport/40.0\",\"All Groups/Africa/Transport/41.0\",\"All Groups/Asia/Transport/41.0\",\"All Groups/Americas/Transport/42.0\",\"All Groups/Asia/Transport/42.0\",\"All Groups/Asia/Hydrological/43.0\",\"All Groups/Asia/Industrial accident/43.0\",\"All Groups/Americas/Transport/43.0\",\"All Groups/Asia/Biological/44.0\",\"All Groups/Asia/Transport/44.0\",\"All Groups/Europe/Transport/44.0\",\"All Groups/Asia/Geophysical/45.0\",\"All Groups/Africa/Transport/45.0\",\"All Groups/Asia/Industrial accident/46.0\",\"All Groups/Asia/Meteorological/46.0\",\"All Groups/Africa/Transport/46.0\",\"All Groups/Asia/Transport/46.0\",\"All Groups/Africa/Biological/47.0\",\"All Groups/Asia/Hydrological/47.0\",\"All Groups/Asia/Meteorological/47.0\",\"All Groups/Asia/Meteorological/48.0\",\"All Groups/Africa/Transport/48.0\",\"All Groups/Asia/Meteorological/49.0\",\"All Groups/Asia/Hydrological/50.0\",\"All Groups/Africa/Industrial accident/50.0\",\"All Groups/Africa/Transport/50.0\",\"All Groups/Asia/Transport/50.0\",\"All Groups/Africa/Biological/51.0\",\"All Groups/Asia/Biological/51.0\",\"All Groups/Asia/Hydrological/51.0\",\"All Groups/Asia/Industrial accident/51.0\",\"All Groups/Africa/Transport/51.0\",\"All Groups/Asia/Hydrological/52.0\",\"All Groups/Asia/Transport/53.0\",\"All Groups/Africa/Biological/54.0\",\"All Groups/Asia/Hydrological/54.0\",\"All Groups/Asia/Transport/55.0\",\"All Groups/Asia/Transport/56.0\",\"All Groups/Asia/Biological/57.0\",\"All Groups/Americas/Meteorological/57.0\",\"All Groups/Africa/Transport/57.0\",\"All Groups/Asia/Transport/57.0\",\"All Groups/Asia/Hydrological/58.0\",\"All Groups/Africa/Biological/60.0\",\"All Groups/Africa/Hydrological/60.0\",\"All Groups/Americas/Hydrological/60.0\",\"All Groups/Africa/Industrial accident/60.0\",\"All Groups/Americas/Miscellaneous accident/60.0\",\"All Groups/Asia/Miscellaneous accident/60.0\",\"All Groups/Africa/Transport/60.0\",\"All Groups/Africa/Transport/62.0\",\"All Groups/Asia/Transport/65.0\",\"All Groups/Asia/Industrial accident/66.0\",\"All Groups/Americas/Meteorological/66.0\",\"All Groups/Asia/Biological/69.0\",\"All Groups/Africa/Hydrological/70.0\",\"All Groups/Asia/Hydrological/71.0\",\"All Groups/Asia/Miscellaneous accident/74.0\",\"All Groups/Asia/Meteorological/75.0\",\"All Groups/Asia/Biological/76.0\",\"All Groups/Europe/Transport/76.0\",\"All Groups/Europe/Industrial accident/80.0\",\"All Groups/Asia/Transport/82.0\",\"All Groups/Africa/Biological/83.0\",\"All Groups/Africa/Hydrological/83.0\",\"All Groups/Asia/Biological/84.0\",\"All Groups/Europe/Meteorological/84.0\",\"All Groups/Asia/Hydrological/86.0\",\"All Groups/Americas/Transport/88.0\",\"All Groups/Asia/Biological/89.0\",\"All Groups/Asia/Meteorological/89.0\",\"All Groups/Asia/Industrial accident/91.0\",\"All Groups/Africa/Biological/93.0\",\"All Groups/Asia/Meteorological/94.0\",\"All Groups/Asia/Biological/95.0\",\"All Groups/Asia/Transport/95.0\",\"All Groups/Americas/Hydrological/96.0\",\"All Groups/Asia/Hydrological/100.0\",\"All Groups/Africa/Industrial accident/100.0\",\"All Groups/Africa/Transport/101.0\",\"All Groups/Asia/Geophysical/103.0\",\"All Groups/Africa/Biological/108.0\",\"All Groups/Europe/Transport/108.0\",\"All Groups/Africa/Miscellaneous accident/109.0\",\"All Groups/Europe/Transport/114.0\",\"All Groups/Asia/Industrial accident/115.0\",\"All Groups/Americas/Hydrological/120.0\",\"All Groups/Americas/Miscellaneous accident/120.0\",\"All Groups/Africa/Transport/124.0\",\"All Groups/Asia/Hydrological/126.0\",\"All Groups/Africa/Biological/128.0\",\"All Groups/Asia/Hydrological/130.0\",\"All Groups/Africa/Meteorological/130.0\",\"All Groups/Asia/Transport/131.0\",\"All Groups/Asia/Transport/134.0\",\"All Groups/Asia/Transport/143.0\",\"All Groups/Asia/Hydrological/144.0\",\"All Groups/Africa/Industrial accident/150.0\",\"All Groups/Africa/Transport/150.0\",\"All Groups/Asia/Meteorological/154.0\",\"All Groups/Europe/Transport/155.0\",\"All Groups/Asia/Transport/157.0\",\"All Groups/Asia/Industrial accident/159.0\",\"All Groups/Africa/Biological/163.0\",\"All Groups/Oceania/Transport/163.0\",\"All Groups/Africa/Transport/169.0\",\"All Groups/Asia/Hydrological/179.0\",\"All Groups/Africa/Biological/186.0\",\"All Groups/Africa/Biological/190.0\",\"All Groups/Asia/Hydrological/200.0\",\"All Groups/Asia/Hydrological/203.0\",\"All Groups/Africa/Biological/230.0\",\"All Groups/Europe/Meteorological/232.0\",\"All Groups/Asia/Biological/250.0\",\"All Groups/Africa/Industrial accident/260.0\",\"All Groups/Asia/Meteorological/275.0\",\"All Groups/Asia/Hydrological/287.0\",\"All Groups/Africa/Biological/300.0\",\"All Groups/Africa/Biological/308.0\",\"All Groups/Asia/Miscellaneous accident/309.0\",\"All Groups/Africa/Biological/311.0\",\"All Groups/Asia/Hydrological/347.0\",\"All Groups/Africa/Biological/390.0\",\"All Groups/Asia/Hydrological/460.0\",\"All Groups/Asia/Transport/481.0\",\"All Groups/Asia/Biological/507.0\",\"All Groups/Africa/Biological/602.0\",\"All Groups/Africa/Hydrological/800.0\",\"All Groups/Asia/Hydrological/867.0\",\"All Groups/Asia/Hydrological/884.0\",\"All Groups/Africa/Biological\",\"All Groups/Americas/Biological\",\"All Groups/Asia/Biological\",\"All Groups/Europe/Biological\",\"All Groups/Oceania/Biological\",\"All Groups/Africa/Climatological\",\"All Groups/Americas/Climatological\",\"All Groups/Asia/Climatological\",\"All Groups/Europe/Climatological\",\"All Groups/Oceania/Climatological\",\"All Groups/Africa/Geophysical\",\"All Groups/Americas/Geophysical\",\"All Groups/Asia/Geophysical\",\"All Groups/Europe/Geophysical\",\"All Groups/Oceania/Geophysical\",\"All Groups/Africa/Hydrological\",\"All Groups/Americas/Hydrological\",\"All Groups/Asia/Hydrological\",\"All Groups/Europe/Hydrological\",\"All Groups/Oceania/Hydrological\",\"All Groups/Africa/Industrial accident\",\"All Groups/Americas/Industrial accident\",\"All Groups/Asia/Industrial accident\",\"All Groups/Europe/Industrial accident\",\"All Groups/Africa/Meteorological\",\"All Groups/Americas/Meteorological\",\"All Groups/Asia/Meteorological\",\"All Groups/Europe/Meteorological\",\"All Groups/Oceania/Meteorological\",\"All Groups/Africa/Miscellaneous accident\",\"All Groups/Americas/Miscellaneous accident\",\"All Groups/Asia/Miscellaneous accident\",\"All Groups/Europe/Miscellaneous accident\",\"All Groups/Oceania/Miscellaneous accident\",\"All Groups/Africa/Transport\",\"All Groups/Americas/Transport\",\"All Groups/Asia/Transport\",\"All Groups/Europe/Transport\",\"All Groups/Oceania/Transport\",\"All Groups/Africa\",\"All Groups/Americas\",\"All Groups/Asia\",\"All Groups/Europe\",\"All Groups/Oceania\",\"All Groups\"],\"labels\":[\"1.0\",\"1.0\",\"1.0\",\"1.0\",\"1.0\",\"1.0\",\"1.0\",\"1.0\",\"1.0\",\"1.0\",\"1.0\",\"1.0\",\"1.0\",\"1.0\",\"1.0\",\"2.0\",\"2.0\",\"2.0\",\"2.0\",\"2.0\",\"2.0\",\"2.0\",\"2.0\",\"2.0\",\"2.0\",\"2.0\",\"2.0\",\"2.0\",\"2.0\",\"2.0\",\"2.0\",\"3.0\",\"3.0\",\"3.0\",\"3.0\",\"3.0\",\"3.0\",\"3.0\",\"4.0\",\"4.0\",\"4.0\",\"4.0\",\"4.0\",\"4.0\",\"4.0\",\"4.0\",\"4.0\",\"4.0\",\"4.0\",\"5.0\",\"5.0\",\"5.0\",\"5.0\",\"5.0\",\"5.0\",\"6.0\",\"6.0\",\"6.0\",\"6.0\",\"6.0\",\"6.0\",\"6.0\",\"6.0\",\"6.0\",\"6.0\",\"7.0\",\"7.0\",\"7.0\",\"7.0\",\"7.0\",\"7.0\",\"7.0\",\"7.0\",\"7.0\",\"7.0\",\"8.0\",\"8.0\",\"8.0\",\"8.0\",\"8.0\",\"8.0\",\"8.0\",\"8.0\",\"8.0\",\"9.0\",\"9.0\",\"9.0\",\"9.0\",\"9.0\",\"9.0\",\"9.0\",\"9.0\",\"9.0\",\"10.0\",\"10.0\",\"10.0\",\"10.0\",\"10.0\",\"10.0\",\"10.0\",\"10.0\",\"10.0\",\"10.0\",\"10.0\",\"10.0\",\"10.0\",\"10.0\",\"11.0\",\"11.0\",\"11.0\",\"11.0\",\"11.0\",\"11.0\",\"11.0\",\"11.0\",\"11.0\",\"11.0\",\"11.0\",\"11.0\",\"11.0\",\"11.0\",\"11.0\",\"12.0\",\"12.0\",\"12.0\",\"12.0\",\"12.0\",\"12.0\",\"12.0\",\"12.0\",\"12.0\",\"12.0\",\"12.0\",\"12.0\",\"12.0\",\"12.0\",\"13.0\",\"13.0\",\"13.0\",\"13.0\",\"13.0\",\"13.0\",\"13.0\",\"13.0\",\"13.0\",\"13.0\",\"13.0\",\"13.0\",\"13.0\",\"13.0\",\"14.0\",\"14.0\",\"14.0\",\"14.0\",\"14.0\",\"14.0\",\"14.0\",\"14.0\",\"14.0\",\"14.0\",\"14.0\",\"14.0\",\"14.0\",\"15.0\",\"15.0\",\"15.0\",\"15.0\",\"15.0\",\"15.0\",\"15.0\",\"15.0\",\"15.0\",\"15.0\",\"15.0\",\"15.0\",\"16.0\",\"16.0\",\"16.0\",\"16.0\",\"16.0\",\"16.0\",\"16.0\",\"16.0\",\"16.0\",\"16.0\",\"16.0\",\"16.0\",\"16.0\",\"16.0\",\"16.0\",\"16.0\",\"16.0\",\"16.0\",\"16.0\",\"16.0\",\"16.0\",\"16.0\",\"16.0\",\"16.0\",\"16.0\",\"16.0\",\"16.0\",\"16.0\",\"16.0\",\"16.0\",\"16.0\",\"16.0\",\"16.0\",\"16.0\",\"17.0\",\"17.0\",\"17.0\",\"17.0\",\"17.0\",\"17.0\",\"17.0\",\"17.0\",\"18.0\",\"18.0\",\"18.0\",\"18.0\",\"18.0\",\"18.0\",\"18.0\",\"18.0\",\"19.0\",\"19.0\",\"19.0\",\"19.0\",\"19.0\",\"19.0\",\"19.0\",\"19.0\",\"19.0\",\"20.0\",\"20.0\",\"20.0\",\"20.0\",\"20.0\",\"20.0\",\"20.0\",\"20.0\",\"21.0\",\"21.0\",\"21.0\",\"21.0\",\"22.0\",\"22.0\",\"22.0\",\"22.0\",\"22.0\",\"22.0\",\"22.0\",\"22.0\",\"23.0\",\"23.0\",\"23.0\",\"23.0\",\"24.0\",\"24.0\",\"24.0\",\"24.0\",\"24.0\",\"24.0\",\"24.0\",\"25.0\",\"25.0\",\"25.0\",\"25.0\",\"25.0\",\"25.0\",\"25.0\",\"25.0\",\"26.0\",\"26.0\",\"26.0\",\"26.0\",\"27.0\",\"27.0\",\"27.0\",\"27.0\",\"27.0\",\"27.0\",\"27.0\",\"27.0\",\"28.0\",\"28.0\",\"28.0\",\"28.0\",\"29.0\",\"29.0\",\"29.0\",\"30.0\",\"30.0\",\"30.0\",\"31.0\",\"31.0\",\"31.0\",\"31.0\",\"31.0\",\"31.0\",\"31.0\",\"32.0\",\"32.0\",\"32.0\",\"32.0\",\"33.0\",\"33.0\",\"33.0\",\"33.0\",\"34.0\",\"34.0\",\"34.0\",\"34.0\",\"34.0\",\"35.0\",\"35.0\",\"36.0\",\"36.0\",\"36.0\",\"36.0\",\"36.0\",\"37.0\",\"37.0\",\"38.0\",\"38.0\",\"38.0\",\"38.0\",\"38.0\",\"39.0\",\"40.0\",\"40.0\",\"40.0\",\"40.0\",\"40.0\",\"40.0\",\"40.0\",\"40.0\",\"41.0\",\"41.0\",\"42.0\",\"42.0\",\"43.0\",\"43.0\",\"43.0\",\"44.0\",\"44.0\",\"44.0\",\"45.0\",\"45.0\",\"46.0\",\"46.0\",\"46.0\",\"46.0\",\"47.0\",\"47.0\",\"47.0\",\"48.0\",\"48.0\",\"49.0\",\"50.0\",\"50.0\",\"50.0\",\"50.0\",\"51.0\",\"51.0\",\"51.0\",\"51.0\",\"51.0\",\"52.0\",\"53.0\",\"54.0\",\"54.0\",\"55.0\",\"56.0\",\"57.0\",\"57.0\",\"57.0\",\"57.0\",\"58.0\",\"60.0\",\"60.0\",\"60.0\",\"60.0\",\"60.0\",\"60.0\",\"60.0\",\"62.0\",\"65.0\",\"66.0\",\"66.0\",\"69.0\",\"70.0\",\"71.0\",\"74.0\",\"75.0\",\"76.0\",\"76.0\",\"80.0\",\"82.0\",\"83.0\",\"83.0\",\"84.0\",\"84.0\",\"86.0\",\"88.0\",\"89.0\",\"89.0\",\"91.0\",\"93.0\",\"94.0\",\"95.0\",\"95.0\",\"96.0\",\"100.0\",\"100.0\",\"101.0\",\"103.0\",\"108.0\",\"108.0\",\"109.0\",\"114.0\",\"115.0\",\"120.0\",\"120.0\",\"124.0\",\"126.0\",\"128.0\",\"130.0\",\"130.0\",\"131.0\",\"134.0\",\"143.0\",\"144.0\",\"150.0\",\"150.0\",\"154.0\",\"155.0\",\"157.0\",\"159.0\",\"163.0\",\"163.0\",\"169.0\",\"179.0\",\"186.0\",\"190.0\",\"200.0\",\"203.0\",\"230.0\",\"232.0\",\"250.0\",\"260.0\",\"275.0\",\"287.0\",\"300.0\",\"308.0\",\"309.0\",\"311.0\",\"347.0\",\"390.0\",\"460.0\",\"481.0\",\"507.0\",\"602.0\",\"800.0\",\"867.0\",\"884.0\",\"Biological\",\"Biological\",\"Biological\",\"Biological\",\"Biological\",\"Climatological\",\"Climatological\",\"Climatological\",\"Climatological\",\"Climatological\",\"Geophysical\",\"Geophysical\",\"Geophysical\",\"Geophysical\",\"Geophysical\",\"Hydrological\",\"Hydrological\",\"Hydrological\",\"Hydrological\",\"Hydrological\",\"Industrial accident\",\"Industrial accident\",\"Industrial accident\",\"Industrial accident\",\"Meteorological\",\"Meteorological\",\"Meteorological\",\"Meteorological\",\"Meteorological\",\"Miscellaneous accident\",\"Miscellaneous accident\",\"Miscellaneous accident\",\"Miscellaneous accident\",\"Miscellaneous accident\",\"Transport\",\"Transport\",\"Transport\",\"Transport\",\"Transport\",\"Africa\",\"Americas\",\"Asia\",\"Europe\",\"Oceania\",\"All Groups\"],\"name\":\"\",\"parents\":[\"All Groups/Asia/Biological\",\"All Groups/Europe/Climatological\",\"All Groups/Africa/Geophysical\",\"All Groups/Asia/Geophysical\",\"All Groups/Africa/Hydrological\",\"All Groups/Americas/Hydrological\",\"All Groups/Asia/Hydrological\",\"All Groups/Europe/Hydrological\",\"All Groups/Asia/Industrial accident\",\"All Groups/Africa/Meteorological\",\"All Groups/Americas/Meteorological\",\"All Groups/Europe/Meteorological\",\"All Groups/Oceania/Meteorological\",\"All Groups/Africa/Miscellaneous accident\",\"All Groups/Americas/Miscellaneous accident\",\"All Groups/Asia/Biological\",\"All Groups/Europe/Biological\",\"All Groups/Asia/Climatological\",\"All Groups/Europe/Climatological\",\"All Groups/Americas/Geophysical\",\"All Groups/Asia/Geophysical\",\"All Groups/Oceania/Geophysical\",\"All Groups/Africa/Hydrological\",\"All Groups/Americas/Hydrological\",\"All Groups/Asia/Hydrological\",\"All Groups/Europe/Hydrological\",\"All Groups/Africa/Meteorological\",\"All Groups/Americas/Meteorological\",\"All Groups/Asia/Meteorological\",\"All Groups/Europe/Meteorological\",\"All Groups/Africa/Miscellaneous accident\",\"All Groups/Africa/Biological\",\"All Groups/Africa/Hydrological\",\"All Groups/Americas/Hydrological\",\"All Groups/Asia/Hydrological\",\"All Groups/Africa/Meteorological\",\"All Groups/Asia/Meteorological\",\"All Groups/Europe/Meteorological\",\"All Groups/Africa/Biological\",\"All Groups/Asia/Biological\",\"All Groups/Africa/Hydrological\",\"All Groups/Americas/Hydrological\",\"All Groups/Asia/Hydrological\",\"All Groups/Oceania/Hydrological\",\"All Groups/Africa/Meteorological\",\"All Groups/Americas/Meteorological\",\"All Groups/Asia/Meteorological\",\"All Groups/Europe/Meteorological\",\"All Groups/Africa/Transport\",\"All Groups/Americas/Hydrological\",\"All Groups/Asia/Hydrological\",\"All Groups/Europe/Hydrological\",\"All Groups/Africa/Meteorological\",\"All Groups/Americas/Meteorological\",\"All Groups/Asia/Meteorological\",\"All Groups/Oceania/Biological\",\"All Groups/Europe/Climatological\",\"All Groups/Africa/Hydrological\",\"All Groups/Americas/Hydrological\",\"All Groups/Asia/Hydrological\",\"All Groups/Europe/Hydrological\",\"All Groups/Americas/Meteorological\",\"All Groups/Asia/Meteorological\",\"All Groups/Europe/Meteorological\",\"All Groups/Americas/Miscellaneous accident\",\"All Groups/Africa/Biological\",\"All Groups/Europe/Climatological\",\"All Groups/Americas/Geophysical\",\"All Groups/Asia/Geophysical\",\"All Groups/Africa/Hydrological\",\"All Groups/Americas/Hydrological\",\"All Groups/Asia/Hydrological\",\"All Groups/Europe/Hydrological\",\"All Groups/Americas/Meteorological\",\"All Groups/Europe/Meteorological\",\"All Groups/Africa/Biological\",\"All Groups/Americas/Biological\",\"All Groups/Americas/Climatological\",\"All Groups/Americas/Hydrological\",\"All Groups/Asia/Hydrological\",\"All Groups/Europe/Hydrological\",\"All Groups/Americas/Meteorological\",\"All Groups/Asia/Meteorological\",\"All Groups/Asia/Miscellaneous accident\",\"All Groups/Africa/Biological\",\"All Groups/Africa/Hydrological\",\"All Groups/Americas/Hydrological\",\"All Groups/Asia/Hydrological\",\"All Groups/Europe/Hydrological\",\"All Groups/Africa/Meteorological\",\"All Groups/Asia/Meteorological\",\"All Groups/Europe/Meteorological\",\"All Groups/Europe/Transport\",\"All Groups/Africa/Biological\",\"All Groups/Asia/Biological\",\"All Groups/Americas/Hydrological\",\"All Groups/Asia/Hydrological\",\"All Groups/Asia/Industrial accident\",\"All Groups/Asia/Meteorological\",\"All Groups/Africa/Miscellaneous accident\",\"All Groups/Americas/Miscellaneous accident\",\"All Groups/Asia/Miscellaneous accident\",\"All Groups/Europe/Miscellaneous accident\",\"All Groups/Africa/Transport\",\"All Groups/Americas/Transport\",\"All Groups/Asia/Transport\",\"All Groups/Europe/Transport\",\"All Groups/Africa/Biological\",\"All Groups/Asia/Geophysical\",\"All Groups/Africa/Hydrological\",\"All Groups/Americas/Hydrological\",\"All Groups/Asia/Hydrological\",\"All Groups/Africa/Industrial accident\",\"All Groups/Asia/Industrial accident\",\"All Groups/Americas/Meteorological\",\"All Groups/Asia/Meteorological\",\"All Groups/Asia/Miscellaneous accident\",\"All Groups/Europe/Miscellaneous accident\",\"All Groups/Africa/Transport\",\"All Groups/Americas/Transport\",\"All Groups/Asia/Transport\",\"All Groups/Europe/Transport\",\"All Groups/Africa/Biological\",\"All Groups/Asia/Biological\",\"All Groups/Americas/Hydrological\",\"All Groups/Asia/Hydrological\",\"All Groups/Asia/Industrial accident\",\"All Groups/Europe/Industrial accident\",\"All Groups/Americas/Meteorological\",\"All Groups/Asia/Meteorological\",\"All Groups/Europe/Meteorological\",\"All Groups/Americas/Miscellaneous accident\",\"All Groups/Asia/Miscellaneous accident\",\"All Groups/Africa/Transport\",\"All Groups/Americas/Transport\",\"All Groups/Asia/Transport\",\"All Groups/Africa/Biological\",\"All Groups/Asia/Biological\",\"All Groups/Africa/Hydrological\",\"All Groups/Americas/Hydrological\",\"All Groups/Asia/Hydrological\",\"All Groups/Europe/Hydrological\",\"All Groups/Europe/Meteorological\",\"All Groups/Africa/Miscellaneous accident\",\"All Groups/Asia/Miscellaneous accident\",\"All Groups/Europe/Miscellaneous accident\",\"All Groups/Africa/Transport\",\"All Groups/Americas/Transport\",\"All Groups/Asia/Transport\",\"All Groups/Europe/Transport\",\"All Groups/Africa/Biological\",\"All Groups/Asia/Biological\",\"All Groups/Americas/Climatological\",\"All Groups/Americas/Hydrological\",\"All Groups/Asia/Hydrological\",\"All Groups/Asia/Industrial accident\",\"All Groups/Americas/Meteorological\",\"All Groups/Asia/Meteorological\",\"All Groups/Europe/Meteorological\",\"All Groups/Africa/Miscellaneous accident\",\"All Groups/Africa/Transport\",\"All Groups/Americas/Transport\",\"All Groups/Asia/Transport\",\"All Groups/Africa/Biological\",\"All Groups/Asia/Biological\",\"All Groups/Africa/Hydrological\",\"All Groups/Americas/Hydrological\",\"All Groups/Asia/Hydrological\",\"All Groups/Asia/Industrial accident\",\"All Groups/Americas/Meteorological\",\"All Groups/Asia/Meteorological\",\"All Groups/Asia/Miscellaneous accident\",\"All Groups/Africa/Transport\",\"All Groups/Americas/Transport\",\"All Groups/Asia/Transport\",\"All Groups/Africa/Biological\",\"All Groups/Americas/Biological\",\"All Groups/Asia/Biological\",\"All Groups/Europe/Biological\",\"All Groups/Oceania/Biological\",\"All Groups/Africa/Climatological\",\"All Groups/Americas/Climatological\",\"All Groups/Asia/Climatological\",\"All Groups/Europe/Climatological\",\"All Groups/Oceania/Climatological\",\"All Groups/Americas/Geophysical\",\"All Groups/Asia/Geophysical\",\"All Groups/Europe/Geophysical\",\"All Groups/Africa/Hydrological\",\"All Groups/Americas/Hydrological\",\"All Groups/Asia/Hydrological\",\"All Groups/Europe/Hydrological\",\"All Groups/Oceania/Hydrological\",\"All Groups/Africa/Industrial accident\",\"All Groups/Americas/Industrial accident\",\"All Groups/Asia/Industrial accident\",\"All Groups/Europe/Industrial accident\",\"All Groups/Africa/Meteorological\",\"All Groups/Americas/Meteorological\",\"All Groups/Asia/Meteorological\",\"All Groups/Europe/Meteorological\",\"All Groups/Oceania/Meteorological\",\"All Groups/Africa/Miscellaneous accident\",\"All Groups/Americas/Miscellaneous accident\",\"All Groups/Asia/Miscellaneous accident\",\"All Groups/Europe/Miscellaneous accident\",\"All Groups/Africa/Transport\",\"All Groups/Americas/Transport\",\"All Groups/Asia/Transport\",\"All Groups/Africa/Hydrological\",\"All Groups/Africa/Industrial accident\",\"All Groups/Asia/Industrial accident\",\"All Groups/Africa/Meteorological\",\"All Groups/Americas/Miscellaneous accident\",\"All Groups/Africa/Transport\",\"All Groups/Americas/Transport\",\"All Groups/Asia/Transport\",\"All Groups/Africa/Biological\",\"All Groups/Asia/Hydrological\",\"All Groups/Africa/Industrial accident\",\"All Groups/Asia/Miscellaneous accident\",\"All Groups/Oceania/Miscellaneous accident\",\"All Groups/Africa/Transport\",\"All Groups/Americas/Transport\",\"All Groups/Asia/Transport\",\"All Groups/Africa/Biological\",\"All Groups/Asia/Biological\",\"All Groups/Oceania/Biological\",\"All Groups/Africa/Industrial accident\",\"All Groups/Asia/Meteorological\",\"All Groups/Africa/Transport\",\"All Groups/Americas/Transport\",\"All Groups/Asia/Transport\",\"All Groups/Europe/Transport\",\"All Groups/Americas/Hydrological\",\"All Groups/Asia/Hydrological\",\"All Groups/Europe/Hydrological\",\"All Groups/Asia/Meteorological\",\"All Groups/Africa/Miscellaneous accident\",\"All Groups/Americas/Miscellaneous accident\",\"All Groups/Africa/Transport\",\"All Groups/Asia/Transport\",\"All Groups/Asia/Biological\",\"All Groups/Asia/Industrial accident\",\"All Groups/Africa/Transport\",\"All Groups/Asia/Transport\",\"All Groups/Africa/Biological\",\"All Groups/Americas/Hydrological\",\"All Groups/Asia/Industrial accident\",\"All Groups/Americas/Meteorological\",\"All Groups/Africa/Transport\",\"All Groups/Americas/Transport\",\"All Groups/Asia/Transport\",\"All Groups/Europe/Transport\",\"All Groups/Africa/Meteorological\",\"All Groups/Americas/Meteorological\",\"All Groups/Africa/Transport\",\"All Groups/Asia/Transport\",\"All Groups/Africa/Biological\",\"All Groups/Americas/Biological\",\"All Groups/Asia/Meteorological\",\"All Groups/Europe/Miscellaneous accident\",\"All Groups/Africa/Transport\",\"All Groups/Asia/Transport\",\"All Groups/Europe/Transport\",\"All Groups/Europe/Hydrological\",\"All Groups/Asia/Industrial accident\",\"All Groups/Asia/Meteorological\",\"All Groups/Asia/Miscellaneous accident\",\"All Groups/Europe/Miscellaneous accident\",\"All Groups/Africa/Transport\",\"All Groups/Americas/Transport\",\"All Groups/Asia/Transport\",\"All Groups/Americas/Hydrological\",\"All Groups/Asia/Meteorological\",\"All Groups/Americas/Transport\",\"All Groups/Asia/Transport\",\"All Groups/Africa/Biological\",\"All Groups/Asia/Biological\",\"All Groups/Asia/Industrial accident\",\"All Groups/Europe/Meteorological\",\"All Groups/Africa/Transport\",\"All Groups/Americas/Transport\",\"All Groups/Asia/Transport\",\"All Groups/Europe/Transport\",\"All Groups/Africa/Biological\",\"All Groups/Africa/Hydrological\",\"All Groups/Asia/Meteorological\",\"All Groups/Africa/Transport\",\"All Groups/Asia/Miscellaneous accident\",\"All Groups/Americas/Transport\",\"All Groups/Asia/Transport\",\"All Groups/Americas/Hydrological\",\"All Groups/Africa/Transport\",\"All Groups/Asia/Transport\",\"All Groups/Asia/Geophysical\",\"All Groups/Africa/Hydrological\",\"All Groups/Asia/Hydrological\",\"All Groups/Asia/Industrial accident\",\"All Groups/Asia/Miscellaneous accident\",\"All Groups/Americas/Transport\",\"All Groups/Asia/Transport\",\"All Groups/Africa/Biological\",\"All Groups/Asia/Biological\",\"All Groups/Africa/Transport\",\"All Groups/Asia/Transport\",\"All Groups/Asia/Hydrological\",\"All Groups/Asia/Industrial accident\",\"All Groups/Asia/Meteorological\",\"All Groups/Africa/Miscellaneous accident\",\"All Groups/Asia/Biological\",\"All Groups/Americas/Hydrological\",\"All Groups/Asia/Hydrological\",\"All Groups/Africa/Transport\",\"All Groups/Asia/Transport\",\"All Groups/Americas/Meteorological\",\"All Groups/Africa/Transport\",\"All Groups/Africa/Biological\",\"All Groups/Africa/Hydrological\",\"All Groups/Asia/Hydrological\",\"All Groups/Asia/Meteorological\",\"All Groups/Asia/Transport\",\"All Groups/Africa/Transport\",\"All Groups/Americas/Transport\",\"All Groups/Africa/Biological\",\"All Groups/Asia/Hydrological\",\"All Groups/Asia/Industrial accident\",\"All Groups/Asia/Miscellaneous accident\",\"All Groups/Asia/Transport\",\"All Groups/Africa/Transport\",\"All Groups/Africa/Biological\",\"All Groups/Asia/Hydrological\",\"All Groups/Africa/Industrial accident\",\"All Groups/Europe/Meteorological\",\"All Groups/Asia/Miscellaneous accident\",\"All Groups/Africa/Transport\",\"All Groups/Americas/Transport\",\"All Groups/Asia/Transport\",\"All Groups/Africa/Transport\",\"All Groups/Asia/Transport\",\"All Groups/Americas/Transport\",\"All Groups/Asia/Transport\",\"All Groups/Asia/Hydrological\",\"All Groups/Asia/Industrial accident\",\"All Groups/Americas/Transport\",\"All Groups/Asia/Biological\",\"All Groups/Asia/Transport\",\"All Groups/Europe/Transport\",\"All Groups/Asia/Geophysical\",\"All Groups/Africa/Transport\",\"All Groups/Asia/Industrial accident\",\"All Groups/Asia/Meteorological\",\"All Groups/Africa/Transport\",\"All Groups/Asia/Transport\",\"All Groups/Africa/Biological\",\"All Groups/Asia/Hydrological\",\"All Groups/Asia/Meteorological\",\"All Groups/Asia/Meteorological\",\"All Groups/Africa/Transport\",\"All Groups/Asia/Meteorological\",\"All Groups/Asia/Hydrological\",\"All Groups/Africa/Industrial accident\",\"All Groups/Africa/Transport\",\"All Groups/Asia/Transport\",\"All Groups/Africa/Biological\",\"All Groups/Asia/Biological\",\"All Groups/Asia/Hydrological\",\"All Groups/Asia/Industrial accident\",\"All Groups/Africa/Transport\",\"All Groups/Asia/Hydrological\",\"All Groups/Asia/Transport\",\"All Groups/Africa/Biological\",\"All Groups/Asia/Hydrological\",\"All Groups/Asia/Transport\",\"All Groups/Asia/Transport\",\"All Groups/Asia/Biological\",\"All Groups/Americas/Meteorological\",\"All Groups/Africa/Transport\",\"All Groups/Asia/Transport\",\"All Groups/Asia/Hydrological\",\"All Groups/Africa/Biological\",\"All Groups/Africa/Hydrological\",\"All Groups/Americas/Hydrological\",\"All Groups/Africa/Industrial accident\",\"All Groups/Americas/Miscellaneous accident\",\"All Groups/Asia/Miscellaneous accident\",\"All Groups/Africa/Transport\",\"All Groups/Africa/Transport\",\"All Groups/Asia/Transport\",\"All Groups/Asia/Industrial accident\",\"All Groups/Americas/Meteorological\",\"All Groups/Asia/Biological\",\"All Groups/Africa/Hydrological\",\"All Groups/Asia/Hydrological\",\"All Groups/Asia/Miscellaneous accident\",\"All Groups/Asia/Meteorological\",\"All Groups/Asia/Biological\",\"All Groups/Europe/Transport\",\"All Groups/Europe/Industrial accident\",\"All Groups/Asia/Transport\",\"All Groups/Africa/Biological\",\"All Groups/Africa/Hydrological\",\"All Groups/Asia/Biological\",\"All Groups/Europe/Meteorological\",\"All Groups/Asia/Hydrological\",\"All Groups/Americas/Transport\",\"All Groups/Asia/Biological\",\"All Groups/Asia/Meteorological\",\"All Groups/Asia/Industrial accident\",\"All Groups/Africa/Biological\",\"All Groups/Asia/Meteorological\",\"All Groups/Asia/Biological\",\"All Groups/Asia/Transport\",\"All Groups/Americas/Hydrological\",\"All Groups/Asia/Hydrological\",\"All Groups/Africa/Industrial accident\",\"All Groups/Africa/Transport\",\"All Groups/Asia/Geophysical\",\"All Groups/Africa/Biological\",\"All Groups/Europe/Transport\",\"All Groups/Africa/Miscellaneous accident\",\"All Groups/Europe/Transport\",\"All Groups/Asia/Industrial accident\",\"All Groups/Americas/Hydrological\",\"All Groups/Americas/Miscellaneous accident\",\"All Groups/Africa/Transport\",\"All Groups/Asia/Hydrological\",\"All Groups/Africa/Biological\",\"All Groups/Asia/Hydrological\",\"All Groups/Africa/Meteorological\",\"All Groups/Asia/Transport\",\"All Groups/Asia/Transport\",\"All Groups/Asia/Transport\",\"All Groups/Asia/Hydrological\",\"All Groups/Africa/Industrial accident\",\"All Groups/Africa/Transport\",\"All Groups/Asia/Meteorological\",\"All Groups/Europe/Transport\",\"All Groups/Asia/Transport\",\"All Groups/Asia/Industrial accident\",\"All Groups/Africa/Biological\",\"All Groups/Oceania/Transport\",\"All Groups/Africa/Transport\",\"All Groups/Asia/Hydrological\",\"All Groups/Africa/Biological\",\"All Groups/Africa/Biological\",\"All Groups/Asia/Hydrological\",\"All Groups/Asia/Hydrological\",\"All Groups/Africa/Biological\",\"All Groups/Europe/Meteorological\",\"All Groups/Asia/Biological\",\"All Groups/Africa/Industrial accident\",\"All Groups/Asia/Meteorological\",\"All Groups/Asia/Hydrological\",\"All Groups/Africa/Biological\",\"All Groups/Africa/Biological\",\"All Groups/Asia/Miscellaneous accident\",\"All Groups/Africa/Biological\",\"All Groups/Asia/Hydrological\",\"All Groups/Africa/Biological\",\"All Groups/Asia/Hydrological\",\"All Groups/Asia/Transport\",\"All Groups/Asia/Biological\",\"All Groups/Africa/Biological\",\"All Groups/Africa/Hydrological\",\"All Groups/Asia/Hydrological\",\"All Groups/Asia/Hydrological\",\"All Groups/Africa\",\"All Groups/Americas\",\"All Groups/Asia\",\"All Groups/Europe\",\"All Groups/Oceania\",\"All Groups/Africa\",\"All Groups/Americas\",\"All Groups/Asia\",\"All Groups/Europe\",\"All Groups/Oceania\",\"All Groups/Africa\",\"All Groups/Americas\",\"All Groups/Asia\",\"All Groups/Europe\",\"All Groups/Oceania\",\"All Groups/Africa\",\"All Groups/Americas\",\"All Groups/Asia\",\"All Groups/Europe\",\"All Groups/Oceania\",\"All Groups/Africa\",\"All Groups/Americas\",\"All Groups/Asia\",\"All Groups/Europe\",\"All Groups/Africa\",\"All Groups/Americas\",\"All Groups/Asia\",\"All Groups/Europe\",\"All Groups/Oceania\",\"All Groups/Africa\",\"All Groups/Americas\",\"All Groups/Asia\",\"All Groups/Europe\",\"All Groups/Oceania\",\"All Groups/Africa\",\"All Groups/Americas\",\"All Groups/Asia\",\"All Groups/Europe\",\"All Groups/Oceania\",\"All Groups\",\"All Groups\",\"All Groups\",\"All Groups\",\"All Groups\",\"\"],\"values\":[1,1,1,6,1,3,1,6,1,2,7,1,1,1,1,4,1,1,2,1,1,1,1,6,3,2,1,1,1,1,1,2,4,2,1,1,3,1,2,1,2,2,1,1,2,1,3,4,1,1,1,1,1,1,3,1,1,1,1,1,1,1,1,2,1,1,2,1,1,2,2,1,1,2,3,2,1,1,1,1,1,2,1,1,1,2,1,1,1,1,3,1,1,4,3,1,1,2,1,1,1,4,2,7,3,6,1,2,2,1,1,2,1,1,1,5,1,1,4,3,9,1,1,1,1,1,3,1,1,1,1,1,2,5,1,2,1,1,1,2,1,1,1,1,2,1,9,1,4,2,4,1,1,2,1,1,1,1,1,1,9,1,4,2,2,2,1,2,1,1,2,1,7,2,3,7,2,5,7,1,3,12,11,10,1,4,11,4,16,9,5,22,2,2,1,5,3,4,6,14,7,3,3,4,3,4,4,2,5,1,2,2,1,1,1,5,1,1,1,2,1,2,4,1,4,1,2,1,1,1,2,3,1,2,1,1,1,1,1,1,9,5,1,1,2,5,2,1,1,1,4,2,3,1,1,1,2,1,1,1,1,1,3,2,1,1,1,1,1,1,1,1,4,1,1,2,5,2,1,1,1,2,2,1,1,1,1,1,1,1,2,1,2,4,2,1,1,1,1,1,2,1,1,1,1,1,2,1,1,1,1,1,2,1,1,1,1,1,1,1,1,1,1,1,1,1,1,1,3,1,1,2,2,1,1,4,1,1,1,2,1,2,2,1,2,1,2,1,1,1,1,1,1,1,1,1,1,1,2,1,1,1,3,2,1,1,1,1,1,1,2,1,1,1,1,1,1,1,1,1,1,1,1,1,1,1,1,1,1,1,1,1,1,1,1,1,2,1,1,2,1,1,1,1,1,1,1,1,1,1,1,1,1,1,1,1,1,1,1,1,1,1,1,1,1,1,1,1,1,1,1,1,2,1,1,1,1,1,1,1,1,1,1,1,1,1,1,1,1,1,1,1,1,1,2,1,1,1,1,1,1,1,1,1,1,1,1,59,4,36,8,3,3,14,12,16,1,1,6,24,4,1,41,45,57,38,3,15,1,30,5,15,30,56,27,4,11,12,23,10,2,106,39,100,15,1,251,151,338,123,15,878],\"type\":\"treemap\",\"root\":{\"color\":\"darkgrey\"}}],                        {\"template\":{\"data\":{\"histogram2dcontour\":[{\"type\":\"histogram2dcontour\",\"colorbar\":{\"outlinewidth\":0,\"ticks\":\"\"},\"colorscale\":[[0.0,\"#0d0887\"],[0.1111111111111111,\"#46039f\"],[0.2222222222222222,\"#7201a8\"],[0.3333333333333333,\"#9c179e\"],[0.4444444444444444,\"#bd3786\"],[0.5555555555555556,\"#d8576b\"],[0.6666666666666666,\"#ed7953\"],[0.7777777777777778,\"#fb9f3a\"],[0.8888888888888888,\"#fdca26\"],[1.0,\"#f0f921\"]]}],\"choropleth\":[{\"type\":\"choropleth\",\"colorbar\":{\"outlinewidth\":0,\"ticks\":\"\"}}],\"histogram2d\":[{\"type\":\"histogram2d\",\"colorbar\":{\"outlinewidth\":0,\"ticks\":\"\"},\"colorscale\":[[0.0,\"#0d0887\"],[0.1111111111111111,\"#46039f\"],[0.2222222222222222,\"#7201a8\"],[0.3333333333333333,\"#9c179e\"],[0.4444444444444444,\"#bd3786\"],[0.5555555555555556,\"#d8576b\"],[0.6666666666666666,\"#ed7953\"],[0.7777777777777778,\"#fb9f3a\"],[0.8888888888888888,\"#fdca26\"],[1.0,\"#f0f921\"]]}],\"heatmap\":[{\"type\":\"heatmap\",\"colorbar\":{\"outlinewidth\":0,\"ticks\":\"\"},\"colorscale\":[[0.0,\"#0d0887\"],[0.1111111111111111,\"#46039f\"],[0.2222222222222222,\"#7201a8\"],[0.3333333333333333,\"#9c179e\"],[0.4444444444444444,\"#bd3786\"],[0.5555555555555556,\"#d8576b\"],[0.6666666666666666,\"#ed7953\"],[0.7777777777777778,\"#fb9f3a\"],[0.8888888888888888,\"#fdca26\"],[1.0,\"#f0f921\"]]}],\"heatmapgl\":[{\"type\":\"heatmapgl\",\"colorbar\":{\"outlinewidth\":0,\"ticks\":\"\"},\"colorscale\":[[0.0,\"#0d0887\"],[0.1111111111111111,\"#46039f\"],[0.2222222222222222,\"#7201a8\"],[0.3333333333333333,\"#9c179e\"],[0.4444444444444444,\"#bd3786\"],[0.5555555555555556,\"#d8576b\"],[0.6666666666666666,\"#ed7953\"],[0.7777777777777778,\"#fb9f3a\"],[0.8888888888888888,\"#fdca26\"],[1.0,\"#f0f921\"]]}],\"contourcarpet\":[{\"type\":\"contourcarpet\",\"colorbar\":{\"outlinewidth\":0,\"ticks\":\"\"}}],\"contour\":[{\"type\":\"contour\",\"colorbar\":{\"outlinewidth\":0,\"ticks\":\"\"},\"colorscale\":[[0.0,\"#0d0887\"],[0.1111111111111111,\"#46039f\"],[0.2222222222222222,\"#7201a8\"],[0.3333333333333333,\"#9c179e\"],[0.4444444444444444,\"#bd3786\"],[0.5555555555555556,\"#d8576b\"],[0.6666666666666666,\"#ed7953\"],[0.7777777777777778,\"#fb9f3a\"],[0.8888888888888888,\"#fdca26\"],[1.0,\"#f0f921\"]]}],\"surface\":[{\"type\":\"surface\",\"colorbar\":{\"outlinewidth\":0,\"ticks\":\"\"},\"colorscale\":[[0.0,\"#0d0887\"],[0.1111111111111111,\"#46039f\"],[0.2222222222222222,\"#7201a8\"],[0.3333333333333333,\"#9c179e\"],[0.4444444444444444,\"#bd3786\"],[0.5555555555555556,\"#d8576b\"],[0.6666666666666666,\"#ed7953\"],[0.7777777777777778,\"#fb9f3a\"],[0.8888888888888888,\"#fdca26\"],[1.0,\"#f0f921\"]]}],\"mesh3d\":[{\"type\":\"mesh3d\",\"colorbar\":{\"outlinewidth\":0,\"ticks\":\"\"}}],\"scatter\":[{\"fillpattern\":{\"fillmode\":\"overlay\",\"size\":10,\"solidity\":0.2},\"type\":\"scatter\"}],\"parcoords\":[{\"type\":\"parcoords\",\"line\":{\"colorbar\":{\"outlinewidth\":0,\"ticks\":\"\"}}}],\"scatterpolargl\":[{\"type\":\"scatterpolargl\",\"marker\":{\"colorbar\":{\"outlinewidth\":0,\"ticks\":\"\"}}}],\"bar\":[{\"error_x\":{\"color\":\"#2a3f5f\"},\"error_y\":{\"color\":\"#2a3f5f\"},\"marker\":{\"line\":{\"color\":\"#E5ECF6\",\"width\":0.5},\"pattern\":{\"fillmode\":\"overlay\",\"size\":10,\"solidity\":0.2}},\"type\":\"bar\"}],\"scattergeo\":[{\"type\":\"scattergeo\",\"marker\":{\"colorbar\":{\"outlinewidth\":0,\"ticks\":\"\"}}}],\"scatterpolar\":[{\"type\":\"scatterpolar\",\"marker\":{\"colorbar\":{\"outlinewidth\":0,\"ticks\":\"\"}}}],\"histogram\":[{\"marker\":{\"pattern\":{\"fillmode\":\"overlay\",\"size\":10,\"solidity\":0.2}},\"type\":\"histogram\"}],\"scattergl\":[{\"type\":\"scattergl\",\"marker\":{\"colorbar\":{\"outlinewidth\":0,\"ticks\":\"\"}}}],\"scatter3d\":[{\"type\":\"scatter3d\",\"line\":{\"colorbar\":{\"outlinewidth\":0,\"ticks\":\"\"}},\"marker\":{\"colorbar\":{\"outlinewidth\":0,\"ticks\":\"\"}}}],\"scattermapbox\":[{\"type\":\"scattermapbox\",\"marker\":{\"colorbar\":{\"outlinewidth\":0,\"ticks\":\"\"}}}],\"scatterternary\":[{\"type\":\"scatterternary\",\"marker\":{\"colorbar\":{\"outlinewidth\":0,\"ticks\":\"\"}}}],\"scattercarpet\":[{\"type\":\"scattercarpet\",\"marker\":{\"colorbar\":{\"outlinewidth\":0,\"ticks\":\"\"}}}],\"carpet\":[{\"aaxis\":{\"endlinecolor\":\"#2a3f5f\",\"gridcolor\":\"white\",\"linecolor\":\"white\",\"minorgridcolor\":\"white\",\"startlinecolor\":\"#2a3f5f\"},\"baxis\":{\"endlinecolor\":\"#2a3f5f\",\"gridcolor\":\"white\",\"linecolor\":\"white\",\"minorgridcolor\":\"white\",\"startlinecolor\":\"#2a3f5f\"},\"type\":\"carpet\"}],\"table\":[{\"cells\":{\"fill\":{\"color\":\"#EBF0F8\"},\"line\":{\"color\":\"white\"}},\"header\":{\"fill\":{\"color\":\"#C8D4E3\"},\"line\":{\"color\":\"white\"}},\"type\":\"table\"}],\"barpolar\":[{\"marker\":{\"line\":{\"color\":\"#E5ECF6\",\"width\":0.5},\"pattern\":{\"fillmode\":\"overlay\",\"size\":10,\"solidity\":0.2}},\"type\":\"barpolar\"}],\"pie\":[{\"automargin\":true,\"type\":\"pie\"}]},\"layout\":{\"autotypenumbers\":\"strict\",\"colorway\":[\"#636efa\",\"#EF553B\",\"#00cc96\",\"#ab63fa\",\"#FFA15A\",\"#19d3f3\",\"#FF6692\",\"#B6E880\",\"#FF97FF\",\"#FECB52\"],\"font\":{\"color\":\"#2a3f5f\"},\"hovermode\":\"closest\",\"hoverlabel\":{\"align\":\"left\"},\"paper_bgcolor\":\"white\",\"plot_bgcolor\":\"#E5ECF6\",\"polar\":{\"bgcolor\":\"#E5ECF6\",\"angularaxis\":{\"gridcolor\":\"white\",\"linecolor\":\"white\",\"ticks\":\"\"},\"radialaxis\":{\"gridcolor\":\"white\",\"linecolor\":\"white\",\"ticks\":\"\"}},\"ternary\":{\"bgcolor\":\"#E5ECF6\",\"aaxis\":{\"gridcolor\":\"white\",\"linecolor\":\"white\",\"ticks\":\"\"},\"baxis\":{\"gridcolor\":\"white\",\"linecolor\":\"white\",\"ticks\":\"\"},\"caxis\":{\"gridcolor\":\"white\",\"linecolor\":\"white\",\"ticks\":\"\"}},\"coloraxis\":{\"colorbar\":{\"outlinewidth\":0,\"ticks\":\"\"}},\"colorscale\":{\"sequential\":[[0.0,\"#0d0887\"],[0.1111111111111111,\"#46039f\"],[0.2222222222222222,\"#7201a8\"],[0.3333333333333333,\"#9c179e\"],[0.4444444444444444,\"#bd3786\"],[0.5555555555555556,\"#d8576b\"],[0.6666666666666666,\"#ed7953\"],[0.7777777777777778,\"#fb9f3a\"],[0.8888888888888888,\"#fdca26\"],[1.0,\"#f0f921\"]],\"sequentialminus\":[[0.0,\"#0d0887\"],[0.1111111111111111,\"#46039f\"],[0.2222222222222222,\"#7201a8\"],[0.3333333333333333,\"#9c179e\"],[0.4444444444444444,\"#bd3786\"],[0.5555555555555556,\"#d8576b\"],[0.6666666666666666,\"#ed7953\"],[0.7777777777777778,\"#fb9f3a\"],[0.8888888888888888,\"#fdca26\"],[1.0,\"#f0f921\"]],\"diverging\":[[0,\"#8e0152\"],[0.1,\"#c51b7d\"],[0.2,\"#de77ae\"],[0.3,\"#f1b6da\"],[0.4,\"#fde0ef\"],[0.5,\"#f7f7f7\"],[0.6,\"#e6f5d0\"],[0.7,\"#b8e186\"],[0.8,\"#7fbc41\"],[0.9,\"#4d9221\"],[1,\"#276419\"]]},\"xaxis\":{\"gridcolor\":\"white\",\"linecolor\":\"white\",\"ticks\":\"\",\"title\":{\"standoff\":15},\"zerolinecolor\":\"white\",\"automargin\":true,\"zerolinewidth\":2},\"yaxis\":{\"gridcolor\":\"white\",\"linecolor\":\"white\",\"ticks\":\"\",\"title\":{\"standoff\":15},\"zerolinecolor\":\"white\",\"automargin\":true,\"zerolinewidth\":2},\"scene\":{\"xaxis\":{\"backgroundcolor\":\"#E5ECF6\",\"gridcolor\":\"white\",\"linecolor\":\"white\",\"showbackground\":true,\"ticks\":\"\",\"zerolinecolor\":\"white\",\"gridwidth\":2},\"yaxis\":{\"backgroundcolor\":\"#E5ECF6\",\"gridcolor\":\"white\",\"linecolor\":\"white\",\"showbackground\":true,\"ticks\":\"\",\"zerolinecolor\":\"white\",\"gridwidth\":2},\"zaxis\":{\"backgroundcolor\":\"#E5ECF6\",\"gridcolor\":\"white\",\"linecolor\":\"white\",\"showbackground\":true,\"ticks\":\"\",\"zerolinecolor\":\"white\",\"gridwidth\":2}},\"shapedefaults\":{\"line\":{\"color\":\"#2a3f5f\"}},\"annotationdefaults\":{\"arrowcolor\":\"#2a3f5f\",\"arrowhead\":0,\"arrowwidth\":1},\"geo\":{\"bgcolor\":\"white\",\"landcolor\":\"#E5ECF6\",\"subunitcolor\":\"white\",\"showland\":true,\"showlakes\":true,\"lakecolor\":\"white\"},\"title\":{\"x\":0.05},\"mapbox\":{\"style\":\"light\"}}},\"legend\":{\"tracegroupgap\":0},\"margin\":{\"t\":50,\"l\":25,\"r\":25,\"b\":25},\"font\":{\"color\":\"white\"},\"treemapcolorway\":[\"lightblue\",\"lightgreen\"]},                        {\"responsive\": true}                    ).then(function(){\n",
       "                            \n",
       "var gd = document.getElementById('43220a4e-7c5f-4842-ab70-f5cf99a87487');\n",
       "var x = new MutationObserver(function (mutations, observer) {{\n",
       "        var display = window.getComputedStyle(gd).display;\n",
       "        if (!display || display === 'none') {{\n",
       "            console.log([gd, 'removed!']);\n",
       "            Plotly.purge(gd);\n",
       "            observer.disconnect();\n",
       "        }}\n",
       "}});\n",
       "\n",
       "// Listen for the removal of the full notebook cells\n",
       "var notebookContainer = gd.closest('#notebook-container');\n",
       "if (notebookContainer) {{\n",
       "    x.observe(notebookContainer, {childList: true});\n",
       "}}\n",
       "\n",
       "// Listen for the clearing of the current output cell\n",
       "var outputEl = gd.closest('.output');\n",
       "if (outputEl) {{\n",
       "    x.observe(outputEl, {childList: true});\n",
       "}}\n",
       "\n",
       "                        })                };                });            </script>        </div>"
      ]
     },
     "metadata": {},
     "output_type": "display_data"
    }
   ],
   "source": [
    "treemap = px.treemap(year_filter_grouped, \n",
    "                     path = [px.Constant(\"All Groups\"), \"Region\", \"Disaster Subgroup\", \"Total Deaths\"],\n",
    "                     values = \"Group_Count\")\n",
    "\n",
    "treemap.update_traces(root_color = \"darkgrey\")\n",
    "treemap.update_layout(\n",
    "    treemapcolorway = [\"lightblue\", \"lightgreen\"],\n",
    "    margin = dict(t = 50, l = 25, r = 25, b = 25),\n",
    "    font_color = \"white\")\n",
    "treemap.show()"
   ]
  },
  {
   "cell_type": "markdown",
   "id": "edee8eb0-ef6c-42c9-a3ff-4edbe1387649",
   "metadata": {},
   "source": [
    "Comment: Hierarchy shows that Asia suffers most death, where most deaths are caused by transport. This is applicable for all groups in order"
   ]
  },
  {
   "cell_type": "markdown",
   "id": "1bfbbbb4-aa33-4716-822a-f6c89be90727",
   "metadata": {},
   "source": [
    "##### Create a stacked area chart of columns of your choosing"
   ]
  },
  {
   "cell_type": "code",
   "execution_count": 131,
   "id": "b8b931e9-3632-4747-b7fc-a0143dfd4981",
   "metadata": {},
   "outputs": [
    {
     "data": {
      "text/html": [
       "<div>\n",
       "<style scoped>\n",
       "    .dataframe tbody tr th:only-of-type {\n",
       "        vertical-align: middle;\n",
       "    }\n",
       "\n",
       "    .dataframe tbody tr th {\n",
       "        vertical-align: top;\n",
       "    }\n",
       "\n",
       "    .dataframe thead th {\n",
       "        text-align: right;\n",
       "    }\n",
       "</style>\n",
       "<table border=\"1\" class=\"dataframe\">\n",
       "  <thead>\n",
       "    <tr style=\"text-align: right;\">\n",
       "      <th></th>\n",
       "      <th>Disaster Subgroup</th>\n",
       "      <th>Start Year</th>\n",
       "      <th>Count_Disaster</th>\n",
       "    </tr>\n",
       "  </thead>\n",
       "  <tbody>\n",
       "    <tr>\n",
       "      <th>0</th>\n",
       "      <td>Transport</td>\n",
       "      <td>2024-01-01</td>\n",
       "      <td>23</td>\n",
       "    </tr>\n",
       "    <tr>\n",
       "      <th>1</th>\n",
       "      <td>Meteorological</td>\n",
       "      <td>2024-01-01</td>\n",
       "      <td>37</td>\n",
       "    </tr>\n",
       "    <tr>\n",
       "      <th>2</th>\n",
       "      <td>Climatological</td>\n",
       "      <td>2024-01-01</td>\n",
       "      <td>12</td>\n",
       "    </tr>\n",
       "    <tr>\n",
       "      <th>3</th>\n",
       "      <td>Geophysical</td>\n",
       "      <td>2024-01-01</td>\n",
       "      <td>8</td>\n",
       "    </tr>\n",
       "    <tr>\n",
       "      <th>4</th>\n",
       "      <td>Industrial accident</td>\n",
       "      <td>2024-01-01</td>\n",
       "      <td>3</td>\n",
       "    </tr>\n",
       "    <tr>\n",
       "      <th>...</th>\n",
       "      <td>...</td>\n",
       "      <td>...</td>\n",
       "      <td>...</td>\n",
       "    </tr>\n",
       "    <tr>\n",
       "      <th>195</th>\n",
       "      <td>Meteorological</td>\n",
       "      <td>2000-01-01</td>\n",
       "      <td>132</td>\n",
       "    </tr>\n",
       "    <tr>\n",
       "      <th>196</th>\n",
       "      <td>Hydrological</td>\n",
       "      <td>2000-01-01</td>\n",
       "      <td>184</td>\n",
       "    </tr>\n",
       "    <tr>\n",
       "      <th>197</th>\n",
       "      <td>Geophysical</td>\n",
       "      <td>2000-01-01</td>\n",
       "      <td>36</td>\n",
       "    </tr>\n",
       "    <tr>\n",
       "      <th>198</th>\n",
       "      <td>Climatological</td>\n",
       "      <td>2000-01-01</td>\n",
       "      <td>57</td>\n",
       "    </tr>\n",
       "    <tr>\n",
       "      <th>199</th>\n",
       "      <td>Industrial accident</td>\n",
       "      <td>2000-01-01</td>\n",
       "      <td>51</td>\n",
       "    </tr>\n",
       "  </tbody>\n",
       "</table>\n",
       "<p>200 rows × 3 columns</p>\n",
       "</div>"
      ],
      "text/plain": [
       "       Disaster Subgroup Start Year  Count_Disaster\n",
       "0              Transport 2024-01-01              23\n",
       "1         Meteorological 2024-01-01              37\n",
       "2         Climatological 2024-01-01              12\n",
       "3            Geophysical 2024-01-01               8\n",
       "4    Industrial accident 2024-01-01               3\n",
       "..                   ...        ...             ...\n",
       "195       Meteorological 2000-01-01             132\n",
       "196         Hydrological 2000-01-01             184\n",
       "197          Geophysical 2000-01-01              36\n",
       "198       Climatological 2000-01-01              57\n",
       "199  Industrial accident 2000-01-01              51\n",
       "\n",
       "[200 rows x 3 columns]"
      ]
     },
     "execution_count": 131,
     "metadata": {},
     "output_type": "execute_result"
    }
   ],
   "source": [
    "country_grouped = df.groupby([\"Disaster Subgroup\", \"Start Year\"]).agg(Count_Disaster = pd.NamedAgg(\"Country\", \"size\")).sort_values(\"Start Year\", ascending = False).reset_index(drop = False)\n",
    "country_grouped"
   ]
  },
  {
   "cell_type": "code",
   "execution_count": 130,
   "id": "8e73e00f-1d52-4ede-ad2a-2ed2f7e29bcd",
   "metadata": {},
   "outputs": [
    {
     "data": {
      "application/vnd.plotly.v1+json": {
       "config": {
        "plotlyServerURL": "https://plot.ly"
       },
       "data": [
        {
         "fillpattern": {
          "shape": ""
         },
         "hovertemplate": "Disaster Subgroup=Biological<br>Start Year=%{x}<br>Count_Disaster=%{y}<extra></extra>",
         "legendgroup": "Biological",
         "line": {
          "color": "#636efa"
         },
         "marker": {
          "symbol": "circle"
         },
         "mode": "lines",
         "name": "Biological",
         "orientation": "v",
         "showlegend": true,
         "stackgroup": "1",
         "type": "scatter",
         "x": [
          "2000-01-01T00:00:00",
          "2001-01-01T00:00:00",
          "2002-01-01T00:00:00",
          "2003-01-01T00:00:00",
          "2004-01-01T00:00:00",
          "2005-01-01T00:00:00",
          "2006-01-01T00:00:00",
          "2007-01-01T00:00:00",
          "2008-01-01T00:00:00",
          "2009-01-01T00:00:00",
          "2010-01-01T00:00:00",
          "2011-01-01T00:00:00",
          "2012-01-01T00:00:00",
          "2013-01-01T00:00:00",
          "2014-01-01T00:00:00",
          "2015-01-01T00:00:00",
          "2016-01-01T00:00:00",
          "2017-01-01T00:00:00",
          "2018-01-01T00:00:00",
          "2019-01-01T00:00:00",
          "2020-01-01T00:00:00",
          "2021-01-01T00:00:00",
          "2022-01-01T00:00:00",
          "2023-01-01T00:00:00"
         ],
         "xaxis": "x",
         "y": [
          115,
          71,
          84,
          60,
          46,
          53,
          58,
          35,
          41,
          45,
          42,
          27,
          25,
          23,
          22,
          16,
          25,
          27,
          17,
          39,
          15,
          7,
          18,
          13
         ],
         "yaxis": "y"
        },
        {
         "fillpattern": {
          "shape": ""
         },
         "hovertemplate": "Disaster Subgroup=Meteorological<br>Start Year=%{x}<br>Count_Disaster=%{y}<extra></extra>",
         "legendgroup": "Meteorological",
         "line": {
          "color": "#EF553B"
         },
         "marker": {
          "symbol": "circle"
         },
         "mode": "lines",
         "name": "Meteorological",
         "orientation": "v",
         "showlegend": true,
         "stackgroup": "1",
         "type": "scatter",
         "x": [
          "2000-01-01T00:00:00",
          "2001-01-01T00:00:00",
          "2002-01-01T00:00:00",
          "2003-01-01T00:00:00",
          "2004-01-01T00:00:00",
          "2005-01-01T00:00:00",
          "2006-01-01T00:00:00",
          "2007-01-01T00:00:00",
          "2008-01-01T00:00:00",
          "2009-01-01T00:00:00",
          "2010-01-01T00:00:00",
          "2011-01-01T00:00:00",
          "2012-01-01T00:00:00",
          "2013-01-01T00:00:00",
          "2014-01-01T00:00:00",
          "2015-01-01T00:00:00",
          "2016-01-01T00:00:00",
          "2017-01-01T00:00:00",
          "2018-01-01T00:00:00",
          "2019-01-01T00:00:00",
          "2020-01-01T00:00:00",
          "2021-01-01T00:00:00",
          "2022-01-01T00:00:00",
          "2023-01-01T00:00:00",
          "2024-01-01T00:00:00"
         ],
         "xaxis": "x",
         "y": [
          132,
          128,
          138,
          111,
          140,
          160,
          100,
          129,
          122,
          112,
          123,
          99,
          142,
          119,
          116,
          133,
          98,
          140,
          122,
          113,
          131,
          124,
          149,
          149,
          37
         ],
         "yaxis": "y"
        },
        {
         "fillpattern": {
          "shape": ""
         },
         "hovertemplate": "Disaster Subgroup=Geophysical<br>Start Year=%{x}<br>Count_Disaster=%{y}<extra></extra>",
         "legendgroup": "Geophysical",
         "line": {
          "color": "#00cc96"
         },
         "marker": {
          "symbol": "circle"
         },
         "mode": "lines",
         "name": "Geophysical",
         "orientation": "v",
         "showlegend": true,
         "stackgroup": "1",
         "type": "scatter",
         "x": [
          "2000-01-01T00:00:00",
          "2001-01-01T00:00:00",
          "2002-01-01T00:00:00",
          "2003-01-01T00:00:00",
          "2004-01-01T00:00:00",
          "2005-01-01T00:00:00",
          "2006-01-01T00:00:00",
          "2007-01-01T00:00:00",
          "2008-01-01T00:00:00",
          "2009-01-01T00:00:00",
          "2010-01-01T00:00:00",
          "2011-01-01T00:00:00",
          "2012-01-01T00:00:00",
          "2013-01-01T00:00:00",
          "2014-01-01T00:00:00",
          "2015-01-01T00:00:00",
          "2016-01-01T00:00:00",
          "2017-01-01T00:00:00",
          "2018-01-01T00:00:00",
          "2019-01-01T00:00:00",
          "2020-01-01T00:00:00",
          "2021-01-01T00:00:00",
          "2022-01-01T00:00:00",
          "2023-01-01T00:00:00",
          "2024-01-01T00:00:00"
         ],
         "xaxis": "x",
         "y": [
          36,
          31,
          45,
          42,
          48,
          33,
          37,
          27,
          33,
          25,
          30,
          36,
          29,
          33,
          32,
          30,
          30,
          25,
          30,
          35,
          20,
          37,
          36,
          36,
          8
         ],
         "yaxis": "y"
        },
        {
         "fillpattern": {
          "shape": ""
         },
         "hovertemplate": "Disaster Subgroup=Miscellaneous accident<br>Start Year=%{x}<br>Count_Disaster=%{y}<extra></extra>",
         "legendgroup": "Miscellaneous accident",
         "line": {
          "color": "#ab63fa"
         },
         "marker": {
          "symbol": "circle"
         },
         "mode": "lines",
         "name": "Miscellaneous accident",
         "orientation": "v",
         "showlegend": true,
         "stackgroup": "1",
         "type": "scatter",
         "x": [
          "2000-01-01T00:00:00",
          "2001-01-01T00:00:00",
          "2002-01-01T00:00:00",
          "2003-01-01T00:00:00",
          "2004-01-01T00:00:00",
          "2005-01-01T00:00:00",
          "2006-01-01T00:00:00",
          "2007-01-01T00:00:00",
          "2008-01-01T00:00:00",
          "2009-01-01T00:00:00",
          "2010-01-01T00:00:00",
          "2011-01-01T00:00:00",
          "2012-01-01T00:00:00",
          "2013-01-01T00:00:00",
          "2014-01-01T00:00:00",
          "2015-01-01T00:00:00",
          "2016-01-01T00:00:00",
          "2017-01-01T00:00:00",
          "2018-01-01T00:00:00",
          "2019-01-01T00:00:00",
          "2020-01-01T00:00:00",
          "2021-01-01T00:00:00",
          "2022-01-01T00:00:00",
          "2023-01-01T00:00:00",
          "2024-01-01T00:00:00"
         ],
         "xaxis": "x",
         "y": [
          58,
          50,
          52,
          45,
          62,
          66,
          33,
          43,
          30,
          28,
          45,
          34,
          27,
          32,
          32,
          39,
          35,
          31,
          23,
          22,
          24,
          30,
          38,
          35,
          10
         ],
         "yaxis": "y"
        },
        {
         "fillpattern": {
          "shape": ""
         },
         "hovertemplate": "Disaster Subgroup=Transport<br>Start Year=%{x}<br>Count_Disaster=%{y}<extra></extra>",
         "legendgroup": "Transport",
         "line": {
          "color": "#FFA15A"
         },
         "marker": {
          "symbol": "circle"
         },
         "mode": "lines",
         "name": "Transport",
         "orientation": "v",
         "showlegend": true,
         "stackgroup": "1",
         "type": "scatter",
         "x": [
          "2000-01-01T00:00:00",
          "2001-01-01T00:00:00",
          "2002-01-01T00:00:00",
          "2003-01-01T00:00:00",
          "2004-01-01T00:00:00",
          "2005-01-01T00:00:00",
          "2006-01-01T00:00:00",
          "2007-01-01T00:00:00",
          "2008-01-01T00:00:00",
          "2009-01-01T00:00:00",
          "2010-01-01T00:00:00",
          "2011-01-01T00:00:00",
          "2012-01-01T00:00:00",
          "2013-01-01T00:00:00",
          "2014-01-01T00:00:00",
          "2015-01-01T00:00:00",
          "2016-01-01T00:00:00",
          "2017-01-01T00:00:00",
          "2018-01-01T00:00:00",
          "2019-01-01T00:00:00",
          "2020-01-01T00:00:00",
          "2021-01-01T00:00:00",
          "2022-01-01T00:00:00",
          "2023-01-01T00:00:00",
          "2024-01-01T00:00:00"
         ],
         "xaxis": "x",
         "y": [
          261,
          221,
          260,
          237,
          216,
          229,
          203,
          181,
          191,
          159,
          152,
          178,
          136,
          135,
          145,
          133,
          121,
          123,
          128,
          115,
          66,
          104,
          102,
          93,
          23
         ],
         "yaxis": "y"
        },
        {
         "fillpattern": {
          "shape": ""
         },
         "hovertemplate": "Disaster Subgroup=Hydrological<br>Start Year=%{x}<br>Count_Disaster=%{y}<extra></extra>",
         "legendgroup": "Hydrological",
         "line": {
          "color": "#19d3f3"
         },
         "marker": {
          "symbol": "circle"
         },
         "mode": "lines",
         "name": "Hydrological",
         "orientation": "v",
         "showlegend": true,
         "stackgroup": "1",
         "type": "scatter",
         "x": [
          "2000-01-01T00:00:00",
          "2001-01-01T00:00:00",
          "2002-01-01T00:00:00",
          "2003-01-01T00:00:00",
          "2004-01-01T00:00:00",
          "2005-01-01T00:00:00",
          "2006-01-01T00:00:00",
          "2007-01-01T00:00:00",
          "2008-01-01T00:00:00",
          "2009-01-01T00:00:00",
          "2010-01-01T00:00:00",
          "2011-01-01T00:00:00",
          "2012-01-01T00:00:00",
          "2013-01-01T00:00:00",
          "2014-01-01T00:00:00",
          "2015-01-01T00:00:00",
          "2016-01-01T00:00:00",
          "2017-01-01T00:00:00",
          "2018-01-01T00:00:00",
          "2019-01-01T00:00:00",
          "2020-01-01T00:00:00",
          "2021-01-01T00:00:00",
          "2022-01-01T00:00:00",
          "2023-01-01T00:00:00",
          "2024-01-01T00:00:00"
         ],
         "xaxis": "x",
         "y": [
          184,
          180,
          191,
          179,
          143,
          204,
          246,
          227,
          177,
          180,
          216,
          173,
          149,
          159,
          151,
          182,
          172,
          152,
          140,
          220,
          220,
          234,
          195,
          187,
          70
         ],
         "yaxis": "y"
        },
        {
         "fillpattern": {
          "shape": ""
         },
         "hovertemplate": "Disaster Subgroup=Climatological<br>Start Year=%{x}<br>Count_Disaster=%{y}<extra></extra>",
         "legendgroup": "Climatological",
         "line": {
          "color": "#FF6692"
         },
         "marker": {
          "symbol": "circle"
         },
         "mode": "lines",
         "name": "Climatological",
         "orientation": "v",
         "showlegend": true,
         "stackgroup": "1",
         "type": "scatter",
         "x": [
          "2000-01-01T00:00:00",
          "2001-01-01T00:00:00",
          "2002-01-01T00:00:00",
          "2003-01-01T00:00:00",
          "2004-01-01T00:00:00",
          "2005-01-01T00:00:00",
          "2006-01-01T00:00:00",
          "2007-01-01T00:00:00",
          "2008-01-01T00:00:00",
          "2009-01-01T00:00:00",
          "2010-01-01T00:00:00",
          "2011-01-01T00:00:00",
          "2012-01-01T00:00:00",
          "2013-01-01T00:00:00",
          "2014-01-01T00:00:00",
          "2015-01-01T00:00:00",
          "2016-01-01T00:00:00",
          "2017-01-01T00:00:00",
          "2018-01-01T00:00:00",
          "2019-01-01T00:00:00",
          "2020-01-01T00:00:00",
          "2021-01-01T00:00:00",
          "2022-01-01T00:00:00",
          "2023-01-01T00:00:00",
          "2024-01-01T00:00:00"
         ],
         "xaxis": "x",
         "y": [
          57,
          36,
          47,
          28,
          19,
          33,
          19,
          29,
          21,
          27,
          24,
          25,
          27,
          19,
          22,
          42,
          24,
          27,
          26,
          30,
          20,
          38,
          39,
          27,
          12
         ],
         "yaxis": "y"
        },
        {
         "fillpattern": {
          "shape": ""
         },
         "hovertemplate": "Disaster Subgroup=Industrial accident<br>Start Year=%{x}<br>Count_Disaster=%{y}<extra></extra>",
         "legendgroup": "Industrial accident",
         "line": {
          "color": "#B6E880"
         },
         "marker": {
          "symbol": "circle"
         },
         "mode": "lines",
         "name": "Industrial accident",
         "orientation": "v",
         "showlegend": true,
         "stackgroup": "1",
         "type": "scatter",
         "x": [
          "2000-01-01T00:00:00",
          "2001-01-01T00:00:00",
          "2002-01-01T00:00:00",
          "2003-01-01T00:00:00",
          "2004-01-01T00:00:00",
          "2005-01-01T00:00:00",
          "2006-01-01T00:00:00",
          "2007-01-01T00:00:00",
          "2008-01-01T00:00:00",
          "2009-01-01T00:00:00",
          "2010-01-01T00:00:00",
          "2011-01-01T00:00:00",
          "2012-01-01T00:00:00",
          "2013-01-01T00:00:00",
          "2014-01-01T00:00:00",
          "2015-01-01T00:00:00",
          "2016-01-01T00:00:00",
          "2017-01-01T00:00:00",
          "2018-01-01T00:00:00",
          "2019-01-01T00:00:00",
          "2020-01-01T00:00:00",
          "2021-01-01T00:00:00",
          "2022-01-01T00:00:00",
          "2023-01-01T00:00:00",
          "2024-01-01T00:00:00"
         ],
         "xaxis": "x",
         "y": [
          51,
          54,
          48,
          52,
          81,
          76,
          64,
          53,
          39,
          44,
          38,
          32,
          26,
          24,
          28,
          31,
          29,
          17,
          11,
          33,
          11,
          17,
          18,
          23,
          3
         ],
         "yaxis": "y"
        },
        {
         "fillpattern": {
          "shape": ""
         },
         "hovertemplate": "Disaster Subgroup=Extra-terrestrial<br>Start Year=%{x}<br>Count_Disaster=%{y}<extra></extra>",
         "legendgroup": "Extra-terrestrial",
         "line": {
          "color": "#FF97FF"
         },
         "marker": {
          "symbol": "circle"
         },
         "mode": "lines",
         "name": "Extra-terrestrial",
         "orientation": "v",
         "showlegend": true,
         "stackgroup": "1",
         "type": "scatter",
         "x": [
          "2013-01-01T00:00:00"
         ],
         "xaxis": "x",
         "y": [
          1
         ],
         "yaxis": "y"
        }
       ],
       "layout": {
        "height": 500,
        "legend": {
         "title": {
          "text": "Disaster Subgroup"
         },
         "tracegroupgap": 0
        },
        "margin": {
         "t": 60
        },
        "template": {
         "data": {
          "bar": [
           {
            "error_x": {
             "color": "#2a3f5f"
            },
            "error_y": {
             "color": "#2a3f5f"
            },
            "marker": {
             "line": {
              "color": "#E5ECF6",
              "width": 0.5
             },
             "pattern": {
              "fillmode": "overlay",
              "size": 10,
              "solidity": 0.2
             }
            },
            "type": "bar"
           }
          ],
          "barpolar": [
           {
            "marker": {
             "line": {
              "color": "#E5ECF6",
              "width": 0.5
             },
             "pattern": {
              "fillmode": "overlay",
              "size": 10,
              "solidity": 0.2
             }
            },
            "type": "barpolar"
           }
          ],
          "carpet": [
           {
            "aaxis": {
             "endlinecolor": "#2a3f5f",
             "gridcolor": "white",
             "linecolor": "white",
             "minorgridcolor": "white",
             "startlinecolor": "#2a3f5f"
            },
            "baxis": {
             "endlinecolor": "#2a3f5f",
             "gridcolor": "white",
             "linecolor": "white",
             "minorgridcolor": "white",
             "startlinecolor": "#2a3f5f"
            },
            "type": "carpet"
           }
          ],
          "choropleth": [
           {
            "colorbar": {
             "outlinewidth": 0,
             "ticks": ""
            },
            "type": "choropleth"
           }
          ],
          "contour": [
           {
            "colorbar": {
             "outlinewidth": 0,
             "ticks": ""
            },
            "colorscale": [
             [
              0,
              "#0d0887"
             ],
             [
              0.1111111111111111,
              "#46039f"
             ],
             [
              0.2222222222222222,
              "#7201a8"
             ],
             [
              0.3333333333333333,
              "#9c179e"
             ],
             [
              0.4444444444444444,
              "#bd3786"
             ],
             [
              0.5555555555555556,
              "#d8576b"
             ],
             [
              0.6666666666666666,
              "#ed7953"
             ],
             [
              0.7777777777777778,
              "#fb9f3a"
             ],
             [
              0.8888888888888888,
              "#fdca26"
             ],
             [
              1,
              "#f0f921"
             ]
            ],
            "type": "contour"
           }
          ],
          "contourcarpet": [
           {
            "colorbar": {
             "outlinewidth": 0,
             "ticks": ""
            },
            "type": "contourcarpet"
           }
          ],
          "heatmap": [
           {
            "colorbar": {
             "outlinewidth": 0,
             "ticks": ""
            },
            "colorscale": [
             [
              0,
              "#0d0887"
             ],
             [
              0.1111111111111111,
              "#46039f"
             ],
             [
              0.2222222222222222,
              "#7201a8"
             ],
             [
              0.3333333333333333,
              "#9c179e"
             ],
             [
              0.4444444444444444,
              "#bd3786"
             ],
             [
              0.5555555555555556,
              "#d8576b"
             ],
             [
              0.6666666666666666,
              "#ed7953"
             ],
             [
              0.7777777777777778,
              "#fb9f3a"
             ],
             [
              0.8888888888888888,
              "#fdca26"
             ],
             [
              1,
              "#f0f921"
             ]
            ],
            "type": "heatmap"
           }
          ],
          "heatmapgl": [
           {
            "colorbar": {
             "outlinewidth": 0,
             "ticks": ""
            },
            "colorscale": [
             [
              0,
              "#0d0887"
             ],
             [
              0.1111111111111111,
              "#46039f"
             ],
             [
              0.2222222222222222,
              "#7201a8"
             ],
             [
              0.3333333333333333,
              "#9c179e"
             ],
             [
              0.4444444444444444,
              "#bd3786"
             ],
             [
              0.5555555555555556,
              "#d8576b"
             ],
             [
              0.6666666666666666,
              "#ed7953"
             ],
             [
              0.7777777777777778,
              "#fb9f3a"
             ],
             [
              0.8888888888888888,
              "#fdca26"
             ],
             [
              1,
              "#f0f921"
             ]
            ],
            "type": "heatmapgl"
           }
          ],
          "histogram": [
           {
            "marker": {
             "pattern": {
              "fillmode": "overlay",
              "size": 10,
              "solidity": 0.2
             }
            },
            "type": "histogram"
           }
          ],
          "histogram2d": [
           {
            "colorbar": {
             "outlinewidth": 0,
             "ticks": ""
            },
            "colorscale": [
             [
              0,
              "#0d0887"
             ],
             [
              0.1111111111111111,
              "#46039f"
             ],
             [
              0.2222222222222222,
              "#7201a8"
             ],
             [
              0.3333333333333333,
              "#9c179e"
             ],
             [
              0.4444444444444444,
              "#bd3786"
             ],
             [
              0.5555555555555556,
              "#d8576b"
             ],
             [
              0.6666666666666666,
              "#ed7953"
             ],
             [
              0.7777777777777778,
              "#fb9f3a"
             ],
             [
              0.8888888888888888,
              "#fdca26"
             ],
             [
              1,
              "#f0f921"
             ]
            ],
            "type": "histogram2d"
           }
          ],
          "histogram2dcontour": [
           {
            "colorbar": {
             "outlinewidth": 0,
             "ticks": ""
            },
            "colorscale": [
             [
              0,
              "#0d0887"
             ],
             [
              0.1111111111111111,
              "#46039f"
             ],
             [
              0.2222222222222222,
              "#7201a8"
             ],
             [
              0.3333333333333333,
              "#9c179e"
             ],
             [
              0.4444444444444444,
              "#bd3786"
             ],
             [
              0.5555555555555556,
              "#d8576b"
             ],
             [
              0.6666666666666666,
              "#ed7953"
             ],
             [
              0.7777777777777778,
              "#fb9f3a"
             ],
             [
              0.8888888888888888,
              "#fdca26"
             ],
             [
              1,
              "#f0f921"
             ]
            ],
            "type": "histogram2dcontour"
           }
          ],
          "mesh3d": [
           {
            "colorbar": {
             "outlinewidth": 0,
             "ticks": ""
            },
            "type": "mesh3d"
           }
          ],
          "parcoords": [
           {
            "line": {
             "colorbar": {
              "outlinewidth": 0,
              "ticks": ""
             }
            },
            "type": "parcoords"
           }
          ],
          "pie": [
           {
            "automargin": true,
            "type": "pie"
           }
          ],
          "scatter": [
           {
            "fillpattern": {
             "fillmode": "overlay",
             "size": 10,
             "solidity": 0.2
            },
            "type": "scatter"
           }
          ],
          "scatter3d": [
           {
            "line": {
             "colorbar": {
              "outlinewidth": 0,
              "ticks": ""
             }
            },
            "marker": {
             "colorbar": {
              "outlinewidth": 0,
              "ticks": ""
             }
            },
            "type": "scatter3d"
           }
          ],
          "scattercarpet": [
           {
            "marker": {
             "colorbar": {
              "outlinewidth": 0,
              "ticks": ""
             }
            },
            "type": "scattercarpet"
           }
          ],
          "scattergeo": [
           {
            "marker": {
             "colorbar": {
              "outlinewidth": 0,
              "ticks": ""
             }
            },
            "type": "scattergeo"
           }
          ],
          "scattergl": [
           {
            "marker": {
             "colorbar": {
              "outlinewidth": 0,
              "ticks": ""
             }
            },
            "type": "scattergl"
           }
          ],
          "scattermapbox": [
           {
            "marker": {
             "colorbar": {
              "outlinewidth": 0,
              "ticks": ""
             }
            },
            "type": "scattermapbox"
           }
          ],
          "scatterpolar": [
           {
            "marker": {
             "colorbar": {
              "outlinewidth": 0,
              "ticks": ""
             }
            },
            "type": "scatterpolar"
           }
          ],
          "scatterpolargl": [
           {
            "marker": {
             "colorbar": {
              "outlinewidth": 0,
              "ticks": ""
             }
            },
            "type": "scatterpolargl"
           }
          ],
          "scatterternary": [
           {
            "marker": {
             "colorbar": {
              "outlinewidth": 0,
              "ticks": ""
             }
            },
            "type": "scatterternary"
           }
          ],
          "surface": [
           {
            "colorbar": {
             "outlinewidth": 0,
             "ticks": ""
            },
            "colorscale": [
             [
              0,
              "#0d0887"
             ],
             [
              0.1111111111111111,
              "#46039f"
             ],
             [
              0.2222222222222222,
              "#7201a8"
             ],
             [
              0.3333333333333333,
              "#9c179e"
             ],
             [
              0.4444444444444444,
              "#bd3786"
             ],
             [
              0.5555555555555556,
              "#d8576b"
             ],
             [
              0.6666666666666666,
              "#ed7953"
             ],
             [
              0.7777777777777778,
              "#fb9f3a"
             ],
             [
              0.8888888888888888,
              "#fdca26"
             ],
             [
              1,
              "#f0f921"
             ]
            ],
            "type": "surface"
           }
          ],
          "table": [
           {
            "cells": {
             "fill": {
              "color": "#EBF0F8"
             },
             "line": {
              "color": "white"
             }
            },
            "header": {
             "fill": {
              "color": "#C8D4E3"
             },
             "line": {
              "color": "white"
             }
            },
            "type": "table"
           }
          ]
         },
         "layout": {
          "annotationdefaults": {
           "arrowcolor": "#2a3f5f",
           "arrowhead": 0,
           "arrowwidth": 1
          },
          "autotypenumbers": "strict",
          "coloraxis": {
           "colorbar": {
            "outlinewidth": 0,
            "ticks": ""
           }
          },
          "colorscale": {
           "diverging": [
            [
             0,
             "#8e0152"
            ],
            [
             0.1,
             "#c51b7d"
            ],
            [
             0.2,
             "#de77ae"
            ],
            [
             0.3,
             "#f1b6da"
            ],
            [
             0.4,
             "#fde0ef"
            ],
            [
             0.5,
             "#f7f7f7"
            ],
            [
             0.6,
             "#e6f5d0"
            ],
            [
             0.7,
             "#b8e186"
            ],
            [
             0.8,
             "#7fbc41"
            ],
            [
             0.9,
             "#4d9221"
            ],
            [
             1,
             "#276419"
            ]
           ],
           "sequential": [
            [
             0,
             "#0d0887"
            ],
            [
             0.1111111111111111,
             "#46039f"
            ],
            [
             0.2222222222222222,
             "#7201a8"
            ],
            [
             0.3333333333333333,
             "#9c179e"
            ],
            [
             0.4444444444444444,
             "#bd3786"
            ],
            [
             0.5555555555555556,
             "#d8576b"
            ],
            [
             0.6666666666666666,
             "#ed7953"
            ],
            [
             0.7777777777777778,
             "#fb9f3a"
            ],
            [
             0.8888888888888888,
             "#fdca26"
            ],
            [
             1,
             "#f0f921"
            ]
           ],
           "sequentialminus": [
            [
             0,
             "#0d0887"
            ],
            [
             0.1111111111111111,
             "#46039f"
            ],
            [
             0.2222222222222222,
             "#7201a8"
            ],
            [
             0.3333333333333333,
             "#9c179e"
            ],
            [
             0.4444444444444444,
             "#bd3786"
            ],
            [
             0.5555555555555556,
             "#d8576b"
            ],
            [
             0.6666666666666666,
             "#ed7953"
            ],
            [
             0.7777777777777778,
             "#fb9f3a"
            ],
            [
             0.8888888888888888,
             "#fdca26"
            ],
            [
             1,
             "#f0f921"
            ]
           ]
          },
          "colorway": [
           "#636efa",
           "#EF553B",
           "#00cc96",
           "#ab63fa",
           "#FFA15A",
           "#19d3f3",
           "#FF6692",
           "#B6E880",
           "#FF97FF",
           "#FECB52"
          ],
          "font": {
           "color": "#2a3f5f"
          },
          "geo": {
           "bgcolor": "white",
           "lakecolor": "white",
           "landcolor": "#E5ECF6",
           "showlakes": true,
           "showland": true,
           "subunitcolor": "white"
          },
          "hoverlabel": {
           "align": "left"
          },
          "hovermode": "closest",
          "mapbox": {
           "style": "light"
          },
          "paper_bgcolor": "white",
          "plot_bgcolor": "#E5ECF6",
          "polar": {
           "angularaxis": {
            "gridcolor": "white",
            "linecolor": "white",
            "ticks": ""
           },
           "bgcolor": "#E5ECF6",
           "radialaxis": {
            "gridcolor": "white",
            "linecolor": "white",
            "ticks": ""
           }
          },
          "scene": {
           "xaxis": {
            "backgroundcolor": "#E5ECF6",
            "gridcolor": "white",
            "gridwidth": 2,
            "linecolor": "white",
            "showbackground": true,
            "ticks": "",
            "zerolinecolor": "white"
           },
           "yaxis": {
            "backgroundcolor": "#E5ECF6",
            "gridcolor": "white",
            "gridwidth": 2,
            "linecolor": "white",
            "showbackground": true,
            "ticks": "",
            "zerolinecolor": "white"
           },
           "zaxis": {
            "backgroundcolor": "#E5ECF6",
            "gridcolor": "white",
            "gridwidth": 2,
            "linecolor": "white",
            "showbackground": true,
            "ticks": "",
            "zerolinecolor": "white"
           }
          },
          "shapedefaults": {
           "line": {
            "color": "#2a3f5f"
           }
          },
          "ternary": {
           "aaxis": {
            "gridcolor": "white",
            "linecolor": "white",
            "ticks": ""
           },
           "baxis": {
            "gridcolor": "white",
            "linecolor": "white",
            "ticks": ""
           },
           "bgcolor": "#E5ECF6",
           "caxis": {
            "gridcolor": "white",
            "linecolor": "white",
            "ticks": ""
           }
          },
          "title": {
           "x": 0.05
          },
          "xaxis": {
           "automargin": true,
           "gridcolor": "white",
           "linecolor": "white",
           "ticks": "",
           "title": {
            "standoff": 15
           },
           "zerolinecolor": "white",
           "zerolinewidth": 2
          },
          "yaxis": {
           "automargin": true,
           "gridcolor": "white",
           "linecolor": "white",
           "ticks": "",
           "title": {
            "standoff": 15
           },
           "zerolinecolor": "white",
           "zerolinewidth": 2
          }
         }
        },
        "title": {
         "text": "Disaster Count by Region and Time using a Stacked Area Chart",
         "x": 0.5,
         "xanchor": "center",
         "y": 0.95,
         "yanchor": "top"
        },
        "width": 500,
        "xaxis": {
         "anchor": "y",
         "autorange": true,
         "domain": [
          0,
          1
         ],
         "range": [
          "2000-01-01",
          "2024-01-01"
         ],
         "title": {
          "text": "Start Year"
         },
         "type": "date"
        },
        "yaxis": {
         "anchor": "x",
         "autorange": true,
         "domain": [
          0,
          1
         ],
         "range": [
          0,
          941.0526315789474
         ],
         "title": {
          "text": "Count_Disaster"
         },
         "type": "linear"
        }
       }
      },
      "image/png": "[encoded data removed]",
      "text/html": [
       "<div>                            <div id=\"b765dce8-96e5-4f6e-908c-964ed0dc33d0\" class=\"plotly-graph-div\" style=\"height:500px; width:500px;\"></div>            <script type=\"text/javascript\">                require([\"plotly\"], function(Plotly) {                    window.PLOTLYENV=window.PLOTLYENV || {};                                    if (document.getElementById(\"b765dce8-96e5-4f6e-908c-964ed0dc33d0\")) {                    Plotly.newPlot(                        \"b765dce8-96e5-4f6e-908c-964ed0dc33d0\",                        [{\"fillpattern\":{\"shape\":\"\"},\"hovertemplate\":\"Disaster Subgroup=Biological<br>Start Year=%{x}<br>Count_Disaster=%{y}<extra></extra>\",\"legendgroup\":\"Biological\",\"line\":{\"color\":\"#636efa\"},\"marker\":{\"symbol\":\"circle\"},\"mode\":\"lines\",\"name\":\"Biological\",\"orientation\":\"v\",\"showlegend\":true,\"stackgroup\":\"1\",\"x\":[\"2000-01-01T00:00:00\",\"2001-01-01T00:00:00\",\"2002-01-01T00:00:00\",\"2003-01-01T00:00:00\",\"2004-01-01T00:00:00\",\"2005-01-01T00:00:00\",\"2006-01-01T00:00:00\",\"2007-01-01T00:00:00\",\"2008-01-01T00:00:00\",\"2009-01-01T00:00:00\",\"2010-01-01T00:00:00\",\"2011-01-01T00:00:00\",\"2012-01-01T00:00:00\",\"2013-01-01T00:00:00\",\"2014-01-01T00:00:00\",\"2015-01-01T00:00:00\",\"2016-01-01T00:00:00\",\"2017-01-01T00:00:00\",\"2018-01-01T00:00:00\",\"2019-01-01T00:00:00\",\"2020-01-01T00:00:00\",\"2021-01-01T00:00:00\",\"2022-01-01T00:00:00\",\"2023-01-01T00:00:00\"],\"xaxis\":\"x\",\"y\":[115,71,84,60,46,53,58,35,41,45,42,27,25,23,22,16,25,27,17,39,15,7,18,13],\"yaxis\":\"y\",\"type\":\"scatter\"},{\"fillpattern\":{\"shape\":\"\"},\"hovertemplate\":\"Disaster Subgroup=Meteorological<br>Start Year=%{x}<br>Count_Disaster=%{y}<extra></extra>\",\"legendgroup\":\"Meteorological\",\"line\":{\"color\":\"#EF553B\"},\"marker\":{\"symbol\":\"circle\"},\"mode\":\"lines\",\"name\":\"Meteorological\",\"orientation\":\"v\",\"showlegend\":true,\"stackgroup\":\"1\",\"x\":[\"2000-01-01T00:00:00\",\"2001-01-01T00:00:00\",\"2002-01-01T00:00:00\",\"2003-01-01T00:00:00\",\"2004-01-01T00:00:00\",\"2005-01-01T00:00:00\",\"2006-01-01T00:00:00\",\"2007-01-01T00:00:00\",\"2008-01-01T00:00:00\",\"2009-01-01T00:00:00\",\"2010-01-01T00:00:00\",\"2011-01-01T00:00:00\",\"2012-01-01T00:00:00\",\"2013-01-01T00:00:00\",\"2014-01-01T00:00:00\",\"2015-01-01T00:00:00\",\"2016-01-01T00:00:00\",\"2017-01-01T00:00:00\",\"2018-01-01T00:00:00\",\"2019-01-01T00:00:00\",\"2020-01-01T00:00:00\",\"2021-01-01T00:00:00\",\"2022-01-01T00:00:00\",\"2023-01-01T00:00:00\",\"2024-01-01T00:00:00\"],\"xaxis\":\"x\",\"y\":[132,128,138,111,140,160,100,129,122,112,123,99,142,119,116,133,98,140,122,113,131,124,149,149,37],\"yaxis\":\"y\",\"type\":\"scatter\"},{\"fillpattern\":{\"shape\":\"\"},\"hovertemplate\":\"Disaster Subgroup=Geophysical<br>Start Year=%{x}<br>Count_Disaster=%{y}<extra></extra>\",\"legendgroup\":\"Geophysical\",\"line\":{\"color\":\"#00cc96\"},\"marker\":{\"symbol\":\"circle\"},\"mode\":\"lines\",\"name\":\"Geophysical\",\"orientation\":\"v\",\"showlegend\":true,\"stackgroup\":\"1\",\"x\":[\"2000-01-01T00:00:00\",\"2001-01-01T00:00:00\",\"2002-01-01T00:00:00\",\"2003-01-01T00:00:00\",\"2004-01-01T00:00:00\",\"2005-01-01T00:00:00\",\"2006-01-01T00:00:00\",\"2007-01-01T00:00:00\",\"2008-01-01T00:00:00\",\"2009-01-01T00:00:00\",\"2010-01-01T00:00:00\",\"2011-01-01T00:00:00\",\"2012-01-01T00:00:00\",\"2013-01-01T00:00:00\",\"2014-01-01T00:00:00\",\"2015-01-01T00:00:00\",\"2016-01-01T00:00:00\",\"2017-01-01T00:00:00\",\"2018-01-01T00:00:00\",\"2019-01-01T00:00:00\",\"2020-01-01T00:00:00\",\"2021-01-01T00:00:00\",\"2022-01-01T00:00:00\",\"2023-01-01T00:00:00\",\"2024-01-01T00:00:00\"],\"xaxis\":\"x\",\"y\":[36,31,45,42,48,33,37,27,33,25,30,36,29,33,32,30,30,25,30,35,20,37,36,36,8],\"yaxis\":\"y\",\"type\":\"scatter\"},{\"fillpattern\":{\"shape\":\"\"},\"hovertemplate\":\"Disaster Subgroup=Miscellaneous accident<br>Start Year=%{x}<br>Count_Disaster=%{y}<extra></extra>\",\"legendgroup\":\"Miscellaneous accident\",\"line\":{\"color\":\"#ab63fa\"},\"marker\":{\"symbol\":\"circle\"},\"mode\":\"lines\",\"name\":\"Miscellaneous accident\",\"orientation\":\"v\",\"showlegend\":true,\"stackgroup\":\"1\",\"x\":[\"2000-01-01T00:00:00\",\"2001-01-01T00:00:00\",\"2002-01-01T00:00:00\",\"2003-01-01T00:00:00\",\"2004-01-01T00:00:00\",\"2005-01-01T00:00:00\",\"2006-01-01T00:00:00\",\"2007-01-01T00:00:00\",\"2008-01-01T00:00:00\",\"2009-01-01T00:00:00\",\"2010-01-01T00:00:00\",\"2011-01-01T00:00:00\",\"2012-01-01T00:00:00\",\"2013-01-01T00:00:00\",\"2014-01-01T00:00:00\",\"2015-01-01T00:00:00\",\"2016-01-01T00:00:00\",\"2017-01-01T00:00:00\",\"2018-01-01T00:00:00\",\"2019-01-01T00:00:00\",\"2020-01-01T00:00:00\",\"2021-01-01T00:00:00\",\"2022-01-01T00:00:00\",\"2023-01-01T00:00:00\",\"2024-01-01T00:00:00\"],\"xaxis\":\"x\",\"y\":[58,50,52,45,62,66,33,43,30,28,45,34,27,32,32,39,35,31,23,22,24,30,38,35,10],\"yaxis\":\"y\",\"type\":\"scatter\"},{\"fillpattern\":{\"shape\":\"\"},\"hovertemplate\":\"Disaster Subgroup=Transport<br>Start Year=%{x}<br>Count_Disaster=%{y}<extra></extra>\",\"legendgroup\":\"Transport\",\"line\":{\"color\":\"#FFA15A\"},\"marker\":{\"symbol\":\"circle\"},\"mode\":\"lines\",\"name\":\"Transport\",\"orientation\":\"v\",\"showlegend\":true,\"stackgroup\":\"1\",\"x\":[\"2000-01-01T00:00:00\",\"2001-01-01T00:00:00\",\"2002-01-01T00:00:00\",\"2003-01-01T00:00:00\",\"2004-01-01T00:00:00\",\"2005-01-01T00:00:00\",\"2006-01-01T00:00:00\",\"2007-01-01T00:00:00\",\"2008-01-01T00:00:00\",\"2009-01-01T00:00:00\",\"2010-01-01T00:00:00\",\"2011-01-01T00:00:00\",\"2012-01-01T00:00:00\",\"2013-01-01T00:00:00\",\"2014-01-01T00:00:00\",\"2015-01-01T00:00:00\",\"2016-01-01T00:00:00\",\"2017-01-01T00:00:00\",\"2018-01-01T00:00:00\",\"2019-01-01T00:00:00\",\"2020-01-01T00:00:00\",\"2021-01-01T00:00:00\",\"2022-01-01T00:00:00\",\"2023-01-01T00:00:00\",\"2024-01-01T00:00:00\"],\"xaxis\":\"x\",\"y\":[261,221,260,237,216,229,203,181,191,159,152,178,136,135,145,133,121,123,128,115,66,104,102,93,23],\"yaxis\":\"y\",\"type\":\"scatter\"},{\"fillpattern\":{\"shape\":\"\"},\"hovertemplate\":\"Disaster Subgroup=Hydrological<br>Start Year=%{x}<br>Count_Disaster=%{y}<extra></extra>\",\"legendgroup\":\"Hydrological\",\"line\":{\"color\":\"#19d3f3\"},\"marker\":{\"symbol\":\"circle\"},\"mode\":\"lines\",\"name\":\"Hydrological\",\"orientation\":\"v\",\"showlegend\":true,\"stackgroup\":\"1\",\"x\":[\"2000-01-01T00:00:00\",\"2001-01-01T00:00:00\",\"2002-01-01T00:00:00\",\"2003-01-01T00:00:00\",\"2004-01-01T00:00:00\",\"2005-01-01T00:00:00\",\"2006-01-01T00:00:00\",\"2007-01-01T00:00:00\",\"2008-01-01T00:00:00\",\"2009-01-01T00:00:00\",\"2010-01-01T00:00:00\",\"2011-01-01T00:00:00\",\"2012-01-01T00:00:00\",\"2013-01-01T00:00:00\",\"2014-01-01T00:00:00\",\"2015-01-01T00:00:00\",\"2016-01-01T00:00:00\",\"2017-01-01T00:00:00\",\"2018-01-01T00:00:00\",\"2019-01-01T00:00:00\",\"2020-01-01T00:00:00\",\"2021-01-01T00:00:00\",\"2022-01-01T00:00:00\",\"2023-01-01T00:00:00\",\"2024-01-01T00:00:00\"],\"xaxis\":\"x\",\"y\":[184,180,191,179,143,204,246,227,177,180,216,173,149,159,151,182,172,152,140,220,220,234,195,187,70],\"yaxis\":\"y\",\"type\":\"scatter\"},{\"fillpattern\":{\"shape\":\"\"},\"hovertemplate\":\"Disaster Subgroup=Climatological<br>Start Year=%{x}<br>Count_Disaster=%{y}<extra></extra>\",\"legendgroup\":\"Climatological\",\"line\":{\"color\":\"#FF6692\"},\"marker\":{\"symbol\":\"circle\"},\"mode\":\"lines\",\"name\":\"Climatological\",\"orientation\":\"v\",\"showlegend\":true,\"stackgroup\":\"1\",\"x\":[\"2000-01-01T00:00:00\",\"2001-01-01T00:00:00\",\"2002-01-01T00:00:00\",\"2003-01-01T00:00:00\",\"2004-01-01T00:00:00\",\"2005-01-01T00:00:00\",\"2006-01-01T00:00:00\",\"2007-01-01T00:00:00\",\"2008-01-01T00:00:00\",\"2009-01-01T00:00:00\",\"2010-01-01T00:00:00\",\"2011-01-01T00:00:00\",\"2012-01-01T00:00:00\",\"2013-01-01T00:00:00\",\"2014-01-01T00:00:00\",\"2015-01-01T00:00:00\",\"2016-01-01T00:00:00\",\"2017-01-01T00:00:00\",\"2018-01-01T00:00:00\",\"2019-01-01T00:00:00\",\"2020-01-01T00:00:00\",\"2021-01-01T00:00:00\",\"2022-01-01T00:00:00\",\"2023-01-01T00:00:00\",\"2024-01-01T00:00:00\"],\"xaxis\":\"x\",\"y\":[57,36,47,28,19,33,19,29,21,27,24,25,27,19,22,42,24,27,26,30,20,38,39,27,12],\"yaxis\":\"y\",\"type\":\"scatter\"},{\"fillpattern\":{\"shape\":\"\"},\"hovertemplate\":\"Disaster Subgroup=Industrial accident<br>Start Year=%{x}<br>Count_Disaster=%{y}<extra></extra>\",\"legendgroup\":\"Industrial accident\",\"line\":{\"color\":\"#B6E880\"},\"marker\":{\"symbol\":\"circle\"},\"mode\":\"lines\",\"name\":\"Industrial accident\",\"orientation\":\"v\",\"showlegend\":true,\"stackgroup\":\"1\",\"x\":[\"2000-01-01T00:00:00\",\"2001-01-01T00:00:00\",\"2002-01-01T00:00:00\",\"2003-01-01T00:00:00\",\"2004-01-01T00:00:00\",\"2005-01-01T00:00:00\",\"2006-01-01T00:00:00\",\"2007-01-01T00:00:00\",\"2008-01-01T00:00:00\",\"2009-01-01T00:00:00\",\"2010-01-01T00:00:00\",\"2011-01-01T00:00:00\",\"2012-01-01T00:00:00\",\"2013-01-01T00:00:00\",\"2014-01-01T00:00:00\",\"2015-01-01T00:00:00\",\"2016-01-01T00:00:00\",\"2017-01-01T00:00:00\",\"2018-01-01T00:00:00\",\"2019-01-01T00:00:00\",\"2020-01-01T00:00:00\",\"2021-01-01T00:00:00\",\"2022-01-01T00:00:00\",\"2023-01-01T00:00:00\",\"2024-01-01T00:00:00\"],\"xaxis\":\"x\",\"y\":[51,54,48,52,81,76,64,53,39,44,38,32,26,24,28,31,29,17,11,33,11,17,18,23,3],\"yaxis\":\"y\",\"type\":\"scatter\"},{\"fillpattern\":{\"shape\":\"\"},\"hovertemplate\":\"Disaster Subgroup=Extra-terrestrial<br>Start Year=%{x}<br>Count_Disaster=%{y}<extra></extra>\",\"legendgroup\":\"Extra-terrestrial\",\"line\":{\"color\":\"#FF97FF\"},\"marker\":{\"symbol\":\"circle\"},\"mode\":\"lines\",\"name\":\"Extra-terrestrial\",\"orientation\":\"v\",\"showlegend\":true,\"stackgroup\":\"1\",\"x\":[\"2013-01-01T00:00:00\"],\"xaxis\":\"x\",\"y\":[1],\"yaxis\":\"y\",\"type\":\"scatter\"}],                        {\"template\":{\"data\":{\"histogram2dcontour\":[{\"type\":\"histogram2dcontour\",\"colorbar\":{\"outlinewidth\":0,\"ticks\":\"\"},\"colorscale\":[[0.0,\"#0d0887\"],[0.1111111111111111,\"#46039f\"],[0.2222222222222222,\"#7201a8\"],[0.3333333333333333,\"#9c179e\"],[0.4444444444444444,\"#bd3786\"],[0.5555555555555556,\"#d8576b\"],[0.6666666666666666,\"#ed7953\"],[0.7777777777777778,\"#fb9f3a\"],[0.8888888888888888,\"#fdca26\"],[1.0,\"#f0f921\"]]}],\"choropleth\":[{\"type\":\"choropleth\",\"colorbar\":{\"outlinewidth\":0,\"ticks\":\"\"}}],\"histogram2d\":[{\"type\":\"histogram2d\",\"colorbar\":{\"outlinewidth\":0,\"ticks\":\"\"},\"colorscale\":[[0.0,\"#0d0887\"],[0.1111111111111111,\"#46039f\"],[0.2222222222222222,\"#7201a8\"],[0.3333333333333333,\"#9c179e\"],[0.4444444444444444,\"#bd3786\"],[0.5555555555555556,\"#d8576b\"],[0.6666666666666666,\"#ed7953\"],[0.7777777777777778,\"#fb9f3a\"],[0.8888888888888888,\"#fdca26\"],[1.0,\"#f0f921\"]]}],\"heatmap\":[{\"type\":\"heatmap\",\"colorbar\":{\"outlinewidth\":0,\"ticks\":\"\"},\"colorscale\":[[0.0,\"#0d0887\"],[0.1111111111111111,\"#46039f\"],[0.2222222222222222,\"#7201a8\"],[0.3333333333333333,\"#9c179e\"],[0.4444444444444444,\"#bd3786\"],[0.5555555555555556,\"#d8576b\"],[0.6666666666666666,\"#ed7953\"],[0.7777777777777778,\"#fb9f3a\"],[0.8888888888888888,\"#fdca26\"],[1.0,\"#f0f921\"]]}],\"heatmapgl\":[{\"type\":\"heatmapgl\",\"colorbar\":{\"outlinewidth\":0,\"ticks\":\"\"},\"colorscale\":[[0.0,\"#0d0887\"],[0.1111111111111111,\"#46039f\"],[0.2222222222222222,\"#7201a8\"],[0.3333333333333333,\"#9c179e\"],[0.4444444444444444,\"#bd3786\"],[0.5555555555555556,\"#d8576b\"],[0.6666666666666666,\"#ed7953\"],[0.7777777777777778,\"#fb9f3a\"],[0.8888888888888888,\"#fdca26\"],[1.0,\"#f0f921\"]]}],\"contourcarpet\":[{\"type\":\"contourcarpet\",\"colorbar\":{\"outlinewidth\":0,\"ticks\":\"\"}}],\"contour\":[{\"type\":\"contour\",\"colorbar\":{\"outlinewidth\":0,\"ticks\":\"\"},\"colorscale\":[[0.0,\"#0d0887\"],[0.1111111111111111,\"#46039f\"],[0.2222222222222222,\"#7201a8\"],[0.3333333333333333,\"#9c179e\"],[0.4444444444444444,\"#bd3786\"],[0.5555555555555556,\"#d8576b\"],[0.6666666666666666,\"#ed7953\"],[0.7777777777777778,\"#fb9f3a\"],[0.8888888888888888,\"#fdca26\"],[1.0,\"#f0f921\"]]}],\"surface\":[{\"type\":\"surface\",\"colorbar\":{\"outlinewidth\":0,\"ticks\":\"\"},\"colorscale\":[[0.0,\"#0d0887\"],[0.1111111111111111,\"#46039f\"],[0.2222222222222222,\"#7201a8\"],[0.3333333333333333,\"#9c179e\"],[0.4444444444444444,\"#bd3786\"],[0.5555555555555556,\"#d8576b\"],[0.6666666666666666,\"#ed7953\"],[0.7777777777777778,\"#fb9f3a\"],[0.8888888888888888,\"#fdca26\"],[1.0,\"#f0f921\"]]}],\"mesh3d\":[{\"type\":\"mesh3d\",\"colorbar\":{\"outlinewidth\":0,\"ticks\":\"\"}}],\"scatter\":[{\"fillpattern\":{\"fillmode\":\"overlay\",\"size\":10,\"solidity\":0.2},\"type\":\"scatter\"}],\"parcoords\":[{\"type\":\"parcoords\",\"line\":{\"colorbar\":{\"outlinewidth\":0,\"ticks\":\"\"}}}],\"scatterpolargl\":[{\"type\":\"scatterpolargl\",\"marker\":{\"colorbar\":{\"outlinewidth\":0,\"ticks\":\"\"}}}],\"bar\":[{\"error_x\":{\"color\":\"#2a3f5f\"},\"error_y\":{\"color\":\"#2a3f5f\"},\"marker\":{\"line\":{\"color\":\"#E5ECF6\",\"width\":0.5},\"pattern\":{\"fillmode\":\"overlay\",\"size\":10,\"solidity\":0.2}},\"type\":\"bar\"}],\"scattergeo\":[{\"type\":\"scattergeo\",\"marker\":{\"colorbar\":{\"outlinewidth\":0,\"ticks\":\"\"}}}],\"scatterpolar\":[{\"type\":\"scatterpolar\",\"marker\":{\"colorbar\":{\"outlinewidth\":0,\"ticks\":\"\"}}}],\"histogram\":[{\"marker\":{\"pattern\":{\"fillmode\":\"overlay\",\"size\":10,\"solidity\":0.2}},\"type\":\"histogram\"}],\"scattergl\":[{\"type\":\"scattergl\",\"marker\":{\"colorbar\":{\"outlinewidth\":0,\"ticks\":\"\"}}}],\"scatter3d\":[{\"type\":\"scatter3d\",\"line\":{\"colorbar\":{\"outlinewidth\":0,\"ticks\":\"\"}},\"marker\":{\"colorbar\":{\"outlinewidth\":0,\"ticks\":\"\"}}}],\"scattermapbox\":[{\"type\":\"scattermapbox\",\"marker\":{\"colorbar\":{\"outlinewidth\":0,\"ticks\":\"\"}}}],\"scatterternary\":[{\"type\":\"scatterternary\",\"marker\":{\"colorbar\":{\"outlinewidth\":0,\"ticks\":\"\"}}}],\"scattercarpet\":[{\"type\":\"scattercarpet\",\"marker\":{\"colorbar\":{\"outlinewidth\":0,\"ticks\":\"\"}}}],\"carpet\":[{\"aaxis\":{\"endlinecolor\":\"#2a3f5f\",\"gridcolor\":\"white\",\"linecolor\":\"white\",\"minorgridcolor\":\"white\",\"startlinecolor\":\"#2a3f5f\"},\"baxis\":{\"endlinecolor\":\"#2a3f5f\",\"gridcolor\":\"white\",\"linecolor\":\"white\",\"minorgridcolor\":\"white\",\"startlinecolor\":\"#2a3f5f\"},\"type\":\"carpet\"}],\"table\":[{\"cells\":{\"fill\":{\"color\":\"#EBF0F8\"},\"line\":{\"color\":\"white\"}},\"header\":{\"fill\":{\"color\":\"#C8D4E3\"},\"line\":{\"color\":\"white\"}},\"type\":\"table\"}],\"barpolar\":[{\"marker\":{\"line\":{\"color\":\"#E5ECF6\",\"width\":0.5},\"pattern\":{\"fillmode\":\"overlay\",\"size\":10,\"solidity\":0.2}},\"type\":\"barpolar\"}],\"pie\":[{\"automargin\":true,\"type\":\"pie\"}]},\"layout\":{\"autotypenumbers\":\"strict\",\"colorway\":[\"#636efa\",\"#EF553B\",\"#00cc96\",\"#ab63fa\",\"#FFA15A\",\"#19d3f3\",\"#FF6692\",\"#B6E880\",\"#FF97FF\",\"#FECB52\"],\"font\":{\"color\":\"#2a3f5f\"},\"hovermode\":\"closest\",\"hoverlabel\":{\"align\":\"left\"},\"paper_bgcolor\":\"white\",\"plot_bgcolor\":\"#E5ECF6\",\"polar\":{\"bgcolor\":\"#E5ECF6\",\"angularaxis\":{\"gridcolor\":\"white\",\"linecolor\":\"white\",\"ticks\":\"\"},\"radialaxis\":{\"gridcolor\":\"white\",\"linecolor\":\"white\",\"ticks\":\"\"}},\"ternary\":{\"bgcolor\":\"#E5ECF6\",\"aaxis\":{\"gridcolor\":\"white\",\"linecolor\":\"white\",\"ticks\":\"\"},\"baxis\":{\"gridcolor\":\"white\",\"linecolor\":\"white\",\"ticks\":\"\"},\"caxis\":{\"gridcolor\":\"white\",\"linecolor\":\"white\",\"ticks\":\"\"}},\"coloraxis\":{\"colorbar\":{\"outlinewidth\":0,\"ticks\":\"\"}},\"colorscale\":{\"sequential\":[[0.0,\"#0d0887\"],[0.1111111111111111,\"#46039f\"],[0.2222222222222222,\"#7201a8\"],[0.3333333333333333,\"#9c179e\"],[0.4444444444444444,\"#bd3786\"],[0.5555555555555556,\"#d8576b\"],[0.6666666666666666,\"#ed7953\"],[0.7777777777777778,\"#fb9f3a\"],[0.8888888888888888,\"#fdca26\"],[1.0,\"#f0f921\"]],\"sequentialminus\":[[0.0,\"#0d0887\"],[0.1111111111111111,\"#46039f\"],[0.2222222222222222,\"#7201a8\"],[0.3333333333333333,\"#9c179e\"],[0.4444444444444444,\"#bd3786\"],[0.5555555555555556,\"#d8576b\"],[0.6666666666666666,\"#ed7953\"],[0.7777777777777778,\"#fb9f3a\"],[0.8888888888888888,\"#fdca26\"],[1.0,\"#f0f921\"]],\"diverging\":[[0,\"#8e0152\"],[0.1,\"#c51b7d\"],[0.2,\"#de77ae\"],[0.3,\"#f1b6da\"],[0.4,\"#fde0ef\"],[0.5,\"#f7f7f7\"],[0.6,\"#e6f5d0\"],[0.7,\"#b8e186\"],[0.8,\"#7fbc41\"],[0.9,\"#4d9221\"],[1,\"#276419\"]]},\"xaxis\":{\"gridcolor\":\"white\",\"linecolor\":\"white\",\"ticks\":\"\",\"title\":{\"standoff\":15},\"zerolinecolor\":\"white\",\"automargin\":true,\"zerolinewidth\":2},\"yaxis\":{\"gridcolor\":\"white\",\"linecolor\":\"white\",\"ticks\":\"\",\"title\":{\"standoff\":15},\"zerolinecolor\":\"white\",\"automargin\":true,\"zerolinewidth\":2},\"scene\":{\"xaxis\":{\"backgroundcolor\":\"#E5ECF6\",\"gridcolor\":\"white\",\"linecolor\":\"white\",\"showbackground\":true,\"ticks\":\"\",\"zerolinecolor\":\"white\",\"gridwidth\":2},\"yaxis\":{\"backgroundcolor\":\"#E5ECF6\",\"gridcolor\":\"white\",\"linecolor\":\"white\",\"showbackground\":true,\"ticks\":\"\",\"zerolinecolor\":\"white\",\"gridwidth\":2},\"zaxis\":{\"backgroundcolor\":\"#E5ECF6\",\"gridcolor\":\"white\",\"linecolor\":\"white\",\"showbackground\":true,\"ticks\":\"\",\"zerolinecolor\":\"white\",\"gridwidth\":2}},\"shapedefaults\":{\"line\":{\"color\":\"#2a3f5f\"}},\"annotationdefaults\":{\"arrowcolor\":\"#2a3f5f\",\"arrowhead\":0,\"arrowwidth\":1},\"geo\":{\"bgcolor\":\"white\",\"landcolor\":\"#E5ECF6\",\"subunitcolor\":\"white\",\"showland\":true,\"showlakes\":true,\"lakecolor\":\"white\"},\"title\":{\"x\":0.05},\"mapbox\":{\"style\":\"light\"}}},\"xaxis\":{\"anchor\":\"y\",\"domain\":[0.0,1.0],\"title\":{\"text\":\"Start Year\"}},\"yaxis\":{\"anchor\":\"x\",\"domain\":[0.0,1.0],\"title\":{\"text\":\"Count_Disaster\"}},\"legend\":{\"title\":{\"text\":\"Disaster Subgroup\"},\"tracegroupgap\":0},\"margin\":{\"t\":60},\"height\":500,\"width\":500,\"title\":{\"text\":\"Disaster Count by Region and Time using a Stacked Area Chart\",\"y\":0.95,\"x\":0.5,\"xanchor\":\"center\",\"yanchor\":\"top\"}},                        {\"responsive\": true}                    ).then(function(){\n",
       "                            \n",
       "var gd = document.getElementById('b765dce8-96e5-4f6e-908c-964ed0dc33d0');\n",
       "var x = new MutationObserver(function (mutations, observer) {{\n",
       "        var display = window.getComputedStyle(gd).display;\n",
       "        if (!display || display === 'none') {{\n",
       "            console.log([gd, 'removed!']);\n",
       "            Plotly.purge(gd);\n",
       "            observer.disconnect();\n",
       "        }}\n",
       "}});\n",
       "\n",
       "// Listen for the removal of the full notebook cells\n",
       "var notebookContainer = gd.closest('#notebook-container');\n",
       "if (notebookContainer) {{\n",
       "    x.observe(notebookContainer, {childList: true});\n",
       "}}\n",
       "\n",
       "// Listen for the clearing of the current output cell\n",
       "var outputEl = gd.closest('.output');\n",
       "if (outputEl) {{\n",
       "    x.observe(outputEl, {childList: true});\n",
       "}}\n",
       "\n",
       "                        })                };                });            </script>        </div>"
      ]
     },
     "metadata": {},
     "output_type": "display_data"
    }
   ],
   "source": [
    "# Create stacked area chart\n",
    "area_chart = px.area(country_grouped, color = \"Disaster Subgroup\", x = \"Start Year\", y = \"Count_Disaster\", line_group = \"Disaster Subgroup\", width = 500, height = 500)\n",
    "area_chart.update_layout(title = {\"text\": \"Disaster Count by Region and Time using a Stacked Area Chart\", \"y\": 0.95, \"x\": 0.5, \"xanchor\": \"center\", \"yanchor\": \"top\"})\n",
    "area_chart.show()"
   ]
  },
  {
   "cell_type": "markdown",
   "id": "78ee1581-351c-47cb-b730-735a87d5a7e9",
   "metadata": {},
   "source": [
    "1. Decline in disascount overtime.\n",
    "2. Hydrological and Meteorological events, consistently represent the largest share of disasters over time"
   ]
  },
  {
   "cell_type": "markdown",
   "id": "8db55a0d-3b66-47b8-9f24-6cfcbdbc8af4",
   "metadata": {},
   "source": [
    "## Data encoding "
   ]
  },
  {
   "cell_type": "markdown",
   "id": "cc814c00-c412-4fa0-93ae-e83df6f04aeb",
   "metadata": {},
   "source": [
    "##### Encode 3 different categorical columns in this dataset using scikit-learn techniques, OneHotEncoding and OrdinalEncoding"
   ]
  },
  {
   "cell_type": "code",
   "execution_count": 103,
   "id": "cc82fd98-6646-4985-a43f-0141e6b396b9",
   "metadata": {},
   "outputs": [
    {
     "data": {
      "text/html": [
       "<div>\n",
       "<style scoped>\n",
       "    .dataframe tbody tr th:only-of-type {\n",
       "        vertical-align: middle;\n",
       "    }\n",
       "\n",
       "    .dataframe tbody tr th {\n",
       "        vertical-align: top;\n",
       "    }\n",
       "\n",
       "    .dataframe thead th {\n",
       "        text-align: right;\n",
       "    }\n",
       "</style>\n",
       "<table border=\"1\" class=\"dataframe\">\n",
       "  <thead>\n",
       "    <tr style=\"text-align: right;\">\n",
       "      <th></th>\n",
       "      <th>Region</th>\n",
       "      <th>Region Code</th>\n",
       "      <th>Disaster Subgroup</th>\n",
       "      <th>Disaster Subgroup Code</th>\n",
       "      <th>Disaster Type</th>\n",
       "      <th>Disaster Type Code</th>\n",
       "    </tr>\n",
       "  </thead>\n",
       "  <tbody>\n",
       "    <tr>\n",
       "      <th>0</th>\n",
       "      <td>Africa</td>\n",
       "      <td>0.000</td>\n",
       "      <td>Climatological</td>\n",
       "      <td>1.000</td>\n",
       "      <td>Drought</td>\n",
       "      <td>5.000</td>\n",
       "    </tr>\n",
       "    <tr>\n",
       "      <th>1</th>\n",
       "      <td>Africa</td>\n",
       "      <td>0.000</td>\n",
       "      <td>Climatological</td>\n",
       "      <td>1.000</td>\n",
       "      <td>Drought</td>\n",
       "      <td>5.000</td>\n",
       "    </tr>\n",
       "    <tr>\n",
       "      <th>2</th>\n",
       "      <td>Africa</td>\n",
       "      <td>0.000</td>\n",
       "      <td>Climatological</td>\n",
       "      <td>1.000</td>\n",
       "      <td>Drought</td>\n",
       "      <td>5.000</td>\n",
       "    </tr>\n",
       "    <tr>\n",
       "      <th>3</th>\n",
       "      <td>Africa</td>\n",
       "      <td>0.000</td>\n",
       "      <td>Transport</td>\n",
       "      <td>8.000</td>\n",
       "      <td>Road</td>\n",
       "      <td>26.000</td>\n",
       "    </tr>\n",
       "    <tr>\n",
       "      <th>4</th>\n",
       "      <td>Africa</td>\n",
       "      <td>0.000</td>\n",
       "      <td>Hydrological</td>\n",
       "      <td>4.000</td>\n",
       "      <td>Flood</td>\n",
       "      <td>13.000</td>\n",
       "    </tr>\n",
       "    <tr>\n",
       "      <th>5</th>\n",
       "      <td>Asia</td>\n",
       "      <td>2.000</td>\n",
       "      <td>Meteorological</td>\n",
       "      <td>6.000</td>\n",
       "      <td>Extreme temperature</td>\n",
       "      <td>10.000</td>\n",
       "    </tr>\n",
       "    <tr>\n",
       "      <th>6</th>\n",
       "      <td>Americas</td>\n",
       "      <td>1.000</td>\n",
       "      <td>Transport</td>\n",
       "      <td>8.000</td>\n",
       "      <td>Road</td>\n",
       "      <td>26.000</td>\n",
       "    </tr>\n",
       "    <tr>\n",
       "      <th>7</th>\n",
       "      <td>Asia</td>\n",
       "      <td>2.000</td>\n",
       "      <td>Transport</td>\n",
       "      <td>8.000</td>\n",
       "      <td>Road</td>\n",
       "      <td>26.000</td>\n",
       "    </tr>\n",
       "    <tr>\n",
       "      <th>8</th>\n",
       "      <td>Asia</td>\n",
       "      <td>2.000</td>\n",
       "      <td>Miscellaneous accident</td>\n",
       "      <td>7.000</td>\n",
       "      <td>Fire (Miscellaneous)</td>\n",
       "      <td>12.000</td>\n",
       "    </tr>\n",
       "    <tr>\n",
       "      <th>9</th>\n",
       "      <td>Africa</td>\n",
       "      <td>0.000</td>\n",
       "      <td>Transport</td>\n",
       "      <td>8.000</td>\n",
       "      <td>Road</td>\n",
       "      <td>26.000</td>\n",
       "    </tr>\n",
       "  </tbody>\n",
       "</table>\n",
       "</div>"
      ],
      "text/plain": [
       "     Region  Region Code       Disaster Subgroup  Disaster Subgroup Code  \\\n",
       "0    Africa        0.000          Climatological                   1.000   \n",
       "1    Africa        0.000          Climatological                   1.000   \n",
       "2    Africa        0.000          Climatological                   1.000   \n",
       "3    Africa        0.000               Transport                   8.000   \n",
       "4    Africa        0.000            Hydrological                   4.000   \n",
       "5      Asia        2.000          Meteorological                   6.000   \n",
       "6  Americas        1.000               Transport                   8.000   \n",
       "7      Asia        2.000               Transport                   8.000   \n",
       "8      Asia        2.000  Miscellaneous accident                   7.000   \n",
       "9    Africa        0.000               Transport                   8.000   \n",
       "\n",
       "          Disaster Type  Disaster Type Code  \n",
       "0               Drought               5.000  \n",
       "1               Drought               5.000  \n",
       "2               Drought               5.000  \n",
       "3                  Road              26.000  \n",
       "4                 Flood              13.000  \n",
       "5   Extreme temperature              10.000  \n",
       "6                  Road              26.000  \n",
       "7                  Road              26.000  \n",
       "8  Fire (Miscellaneous)              12.000  \n",
       "9                  Road              26.000  "
      ]
     },
     "execution_count": 103,
     "metadata": {},
     "output_type": "execute_result"
    }
   ],
   "source": [
    "# OrdinalEncoding \n",
    "ord_encoder = OrdinalEncoder()\n",
    "df[[\"Region Code\", \"Disaster Subgroup Code\", \"Disaster Type Code\"]] = ord_encoder.fit_transform(df[[\"Region\",\"Disaster Subgroup\", \"Disaster Type\"]])\n",
    "df[[\"Region\", \"Region Code\", \"Disaster Subgroup\", \"Disaster Subgroup Code\", \"Disaster Type\", \"Disaster Type Code\"]].head(10)"
   ]
  },
  {
   "cell_type": "code",
   "execution_count": 109,
   "id": "0b5c0365-fd95-41f7-9ccd-180672301379",
   "metadata": {},
   "outputs": [],
   "source": [
    "# OneHotEncoding \n",
    "onehot_encode_copy = df.copy()\n",
    "onehot_encoder = OneHotEncoder()\n",
    "onehot_results = onehot_encoder.fit_transform(onehot_encode_copy[[\"Region\", \"Disaster Subgroup\", \"Disaster Type\"]])\n",
    "\n",
    "onehot_df = pd.DataFrame(onehot_results.toarray(), columns=onehot_encoder.get_feature_names_out())"
   ]
  },
  {
   "cell_type": "code",
   "execution_count": 111,
   "id": "c3f38fba-a217-440f-a216-793a896aa537",
   "metadata": {},
   "outputs": [
    {
     "data": {
      "text/html": [
       "<div>\n",
       "<style scoped>\n",
       "    .dataframe tbody tr th:only-of-type {\n",
       "        vertical-align: middle;\n",
       "    }\n",
       "\n",
       "    .dataframe tbody tr th {\n",
       "        vertical-align: top;\n",
       "    }\n",
       "\n",
       "    .dataframe thead th {\n",
       "        text-align: right;\n",
       "    }\n",
       "</style>\n",
       "<table border=\"1\" class=\"dataframe\">\n",
       "  <thead>\n",
       "    <tr style=\"text-align: right;\">\n",
       "      <th></th>\n",
       "      <th>Region_Africa</th>\n",
       "      <th>Region_Americas</th>\n",
       "      <th>Region_Asia</th>\n",
       "      <th>Region_Europe</th>\n",
       "      <th>Region_Oceania</th>\n",
       "      <th>Disaster Subgroup_Biological</th>\n",
       "      <th>Disaster Subgroup_Climatological</th>\n",
       "      <th>Disaster Subgroup_Extra-terrestrial</th>\n",
       "      <th>Disaster Subgroup_Geophysical</th>\n",
       "      <th>Disaster Subgroup_Hydrological</th>\n",
       "      <th>...</th>\n",
       "      <th>Disaster Type_Miscellaneous accident (General)</th>\n",
       "      <th>Disaster Type_Oil spill</th>\n",
       "      <th>Disaster Type_Poisoning</th>\n",
       "      <th>Disaster Type_Radiation</th>\n",
       "      <th>Disaster Type_Rail</th>\n",
       "      <th>Disaster Type_Road</th>\n",
       "      <th>Disaster Type_Storm</th>\n",
       "      <th>Disaster Type_Volcanic activity</th>\n",
       "      <th>Disaster Type_Water</th>\n",
       "      <th>Disaster Type_Wildfire</th>\n",
       "    </tr>\n",
       "  </thead>\n",
       "  <tbody>\n",
       "    <tr>\n",
       "      <th>0</th>\n",
       "      <td>1.000</td>\n",
       "      <td>0.000</td>\n",
       "      <td>0.000</td>\n",
       "      <td>0.000</td>\n",
       "      <td>0.000</td>\n",
       "      <td>0.000</td>\n",
       "      <td>1.000</td>\n",
       "      <td>0.000</td>\n",
       "      <td>0.000</td>\n",
       "      <td>0.000</td>\n",
       "      <td>...</td>\n",
       "      <td>0.000</td>\n",
       "      <td>0.000</td>\n",
       "      <td>0.000</td>\n",
       "      <td>0.000</td>\n",
       "      <td>0.000</td>\n",
       "      <td>0.000</td>\n",
       "      <td>0.000</td>\n",
       "      <td>0.000</td>\n",
       "      <td>0.000</td>\n",
       "      <td>0.000</td>\n",
       "    </tr>\n",
       "    <tr>\n",
       "      <th>1</th>\n",
       "      <td>1.000</td>\n",
       "      <td>0.000</td>\n",
       "      <td>0.000</td>\n",
       "      <td>0.000</td>\n",
       "      <td>0.000</td>\n",
       "      <td>0.000</td>\n",
       "      <td>1.000</td>\n",
       "      <td>0.000</td>\n",
       "      <td>0.000</td>\n",
       "      <td>0.000</td>\n",
       "      <td>...</td>\n",
       "      <td>0.000</td>\n",
       "      <td>0.000</td>\n",
       "      <td>0.000</td>\n",
       "      <td>0.000</td>\n",
       "      <td>0.000</td>\n",
       "      <td>0.000</td>\n",
       "      <td>0.000</td>\n",
       "      <td>0.000</td>\n",
       "      <td>0.000</td>\n",
       "      <td>0.000</td>\n",
       "    </tr>\n",
       "    <tr>\n",
       "      <th>2</th>\n",
       "      <td>1.000</td>\n",
       "      <td>0.000</td>\n",
       "      <td>0.000</td>\n",
       "      <td>0.000</td>\n",
       "      <td>0.000</td>\n",
       "      <td>0.000</td>\n",
       "      <td>1.000</td>\n",
       "      <td>0.000</td>\n",
       "      <td>0.000</td>\n",
       "      <td>0.000</td>\n",
       "      <td>...</td>\n",
       "      <td>0.000</td>\n",
       "      <td>0.000</td>\n",
       "      <td>0.000</td>\n",
       "      <td>0.000</td>\n",
       "      <td>0.000</td>\n",
       "      <td>0.000</td>\n",
       "      <td>0.000</td>\n",
       "      <td>0.000</td>\n",
       "      <td>0.000</td>\n",
       "      <td>0.000</td>\n",
       "    </tr>\n",
       "    <tr>\n",
       "      <th>3</th>\n",
       "      <td>1.000</td>\n",
       "      <td>0.000</td>\n",
       "      <td>0.000</td>\n",
       "      <td>0.000</td>\n",
       "      <td>0.000</td>\n",
       "      <td>0.000</td>\n",
       "      <td>0.000</td>\n",
       "      <td>0.000</td>\n",
       "      <td>0.000</td>\n",
       "      <td>0.000</td>\n",
       "      <td>...</td>\n",
       "      <td>0.000</td>\n",
       "      <td>0.000</td>\n",
       "      <td>0.000</td>\n",
       "      <td>0.000</td>\n",
       "      <td>0.000</td>\n",
       "      <td>1.000</td>\n",
       "      <td>0.000</td>\n",
       "      <td>0.000</td>\n",
       "      <td>0.000</td>\n",
       "      <td>0.000</td>\n",
       "    </tr>\n",
       "    <tr>\n",
       "      <th>4</th>\n",
       "      <td>1.000</td>\n",
       "      <td>0.000</td>\n",
       "      <td>0.000</td>\n",
       "      <td>0.000</td>\n",
       "      <td>0.000</td>\n",
       "      <td>0.000</td>\n",
       "      <td>0.000</td>\n",
       "      <td>0.000</td>\n",
       "      <td>0.000</td>\n",
       "      <td>1.000</td>\n",
       "      <td>...</td>\n",
       "      <td>0.000</td>\n",
       "      <td>0.000</td>\n",
       "      <td>0.000</td>\n",
       "      <td>0.000</td>\n",
       "      <td>0.000</td>\n",
       "      <td>0.000</td>\n",
       "      <td>0.000</td>\n",
       "      <td>0.000</td>\n",
       "      <td>0.000</td>\n",
       "      <td>0.000</td>\n",
       "    </tr>\n",
       "    <tr>\n",
       "      <th>...</th>\n",
       "      <td>...</td>\n",
       "      <td>...</td>\n",
       "      <td>...</td>\n",
       "      <td>...</td>\n",
       "      <td>...</td>\n",
       "      <td>...</td>\n",
       "      <td>...</td>\n",
       "      <td>...</td>\n",
       "      <td>...</td>\n",
       "      <td>...</td>\n",
       "      <td>...</td>\n",
       "      <td>...</td>\n",
       "      <td>...</td>\n",
       "      <td>...</td>\n",
       "      <td>...</td>\n",
       "      <td>...</td>\n",
       "      <td>...</td>\n",
       "      <td>...</td>\n",
       "      <td>...</td>\n",
       "      <td>...</td>\n",
       "      <td>...</td>\n",
       "    </tr>\n",
       "    <tr>\n",
       "      <th>15779</th>\n",
       "      <td>0.000</td>\n",
       "      <td>1.000</td>\n",
       "      <td>0.000</td>\n",
       "      <td>0.000</td>\n",
       "      <td>0.000</td>\n",
       "      <td>0.000</td>\n",
       "      <td>1.000</td>\n",
       "      <td>0.000</td>\n",
       "      <td>0.000</td>\n",
       "      <td>0.000</td>\n",
       "      <td>...</td>\n",
       "      <td>0.000</td>\n",
       "      <td>0.000</td>\n",
       "      <td>0.000</td>\n",
       "      <td>0.000</td>\n",
       "      <td>0.000</td>\n",
       "      <td>0.000</td>\n",
       "      <td>0.000</td>\n",
       "      <td>0.000</td>\n",
       "      <td>0.000</td>\n",
       "      <td>0.000</td>\n",
       "    </tr>\n",
       "    <tr>\n",
       "      <th>15780</th>\n",
       "      <td>1.000</td>\n",
       "      <td>0.000</td>\n",
       "      <td>0.000</td>\n",
       "      <td>0.000</td>\n",
       "      <td>0.000</td>\n",
       "      <td>0.000</td>\n",
       "      <td>1.000</td>\n",
       "      <td>0.000</td>\n",
       "      <td>0.000</td>\n",
       "      <td>0.000</td>\n",
       "      <td>...</td>\n",
       "      <td>0.000</td>\n",
       "      <td>0.000</td>\n",
       "      <td>0.000</td>\n",
       "      <td>0.000</td>\n",
       "      <td>0.000</td>\n",
       "      <td>0.000</td>\n",
       "      <td>0.000</td>\n",
       "      <td>0.000</td>\n",
       "      <td>0.000</td>\n",
       "      <td>0.000</td>\n",
       "    </tr>\n",
       "    <tr>\n",
       "      <th>15781</th>\n",
       "      <td>0.000</td>\n",
       "      <td>0.000</td>\n",
       "      <td>0.000</td>\n",
       "      <td>0.000</td>\n",
       "      <td>1.000</td>\n",
       "      <td>0.000</td>\n",
       "      <td>1.000</td>\n",
       "      <td>0.000</td>\n",
       "      <td>0.000</td>\n",
       "      <td>0.000</td>\n",
       "      <td>...</td>\n",
       "      <td>0.000</td>\n",
       "      <td>0.000</td>\n",
       "      <td>0.000</td>\n",
       "      <td>0.000</td>\n",
       "      <td>0.000</td>\n",
       "      <td>0.000</td>\n",
       "      <td>0.000</td>\n",
       "      <td>0.000</td>\n",
       "      <td>0.000</td>\n",
       "      <td>0.000</td>\n",
       "    </tr>\n",
       "    <tr>\n",
       "      <th>15782</th>\n",
       "      <td>1.000</td>\n",
       "      <td>0.000</td>\n",
       "      <td>0.000</td>\n",
       "      <td>0.000</td>\n",
       "      <td>0.000</td>\n",
       "      <td>0.000</td>\n",
       "      <td>1.000</td>\n",
       "      <td>0.000</td>\n",
       "      <td>0.000</td>\n",
       "      <td>0.000</td>\n",
       "      <td>...</td>\n",
       "      <td>0.000</td>\n",
       "      <td>0.000</td>\n",
       "      <td>0.000</td>\n",
       "      <td>0.000</td>\n",
       "      <td>0.000</td>\n",
       "      <td>0.000</td>\n",
       "      <td>0.000</td>\n",
       "      <td>0.000</td>\n",
       "      <td>0.000</td>\n",
       "      <td>0.000</td>\n",
       "    </tr>\n",
       "    <tr>\n",
       "      <th>15783</th>\n",
       "      <td>1.000</td>\n",
       "      <td>0.000</td>\n",
       "      <td>0.000</td>\n",
       "      <td>0.000</td>\n",
       "      <td>0.000</td>\n",
       "      <td>0.000</td>\n",
       "      <td>1.000</td>\n",
       "      <td>0.000</td>\n",
       "      <td>0.000</td>\n",
       "      <td>0.000</td>\n",
       "      <td>...</td>\n",
       "      <td>0.000</td>\n",
       "      <td>0.000</td>\n",
       "      <td>0.000</td>\n",
       "      <td>0.000</td>\n",
       "      <td>0.000</td>\n",
       "      <td>0.000</td>\n",
       "      <td>0.000</td>\n",
       "      <td>0.000</td>\n",
       "      <td>0.000</td>\n",
       "      <td>0.000</td>\n",
       "    </tr>\n",
       "  </tbody>\n",
       "</table>\n",
       "<p>15784 rows × 45 columns</p>\n",
       "</div>"
      ],
      "text/plain": [
       "       Region_Africa  Region_Americas  Region_Asia  Region_Europe  \\\n",
       "0              1.000            0.000        0.000          0.000   \n",
       "1              1.000            0.000        0.000          0.000   \n",
       "2              1.000            0.000        0.000          0.000   \n",
       "3              1.000            0.000        0.000          0.000   \n",
       "4              1.000            0.000        0.000          0.000   \n",
       "...              ...              ...          ...            ...   \n",
       "15779          0.000            1.000        0.000          0.000   \n",
       "15780          1.000            0.000        0.000          0.000   \n",
       "15781          0.000            0.000        0.000          0.000   \n",
       "15782          1.000            0.000        0.000          0.000   \n",
       "15783          1.000            0.000        0.000          0.000   \n",
       "\n",
       "       Region_Oceania  Disaster Subgroup_Biological  \\\n",
       "0               0.000                         0.000   \n",
       "1               0.000                         0.000   \n",
       "2               0.000                         0.000   \n",
       "3               0.000                         0.000   \n",
       "4               0.000                         0.000   \n",
       "...               ...                           ...   \n",
       "15779           0.000                         0.000   \n",
       "15780           0.000                         0.000   \n",
       "15781           1.000                         0.000   \n",
       "15782           0.000                         0.000   \n",
       "15783           0.000                         0.000   \n",
       "\n",
       "       Disaster Subgroup_Climatological  Disaster Subgroup_Extra-terrestrial  \\\n",
       "0                                 1.000                                0.000   \n",
       "1                                 1.000                                0.000   \n",
       "2                                 1.000                                0.000   \n",
       "3                                 0.000                                0.000   \n",
       "4                                 0.000                                0.000   \n",
       "...                                 ...                                  ...   \n",
       "15779                             1.000                                0.000   \n",
       "15780                             1.000                                0.000   \n",
       "15781                             1.000                                0.000   \n",
       "15782                             1.000                                0.000   \n",
       "15783                             1.000                                0.000   \n",
       "\n",
       "       Disaster Subgroup_Geophysical  Disaster Subgroup_Hydrological  ...  \\\n",
       "0                              0.000                           0.000  ...   \n",
       "1                              0.000                           0.000  ...   \n",
       "2                              0.000                           0.000  ...   \n",
       "3                              0.000                           0.000  ...   \n",
       "4                              0.000                           1.000  ...   \n",
       "...                              ...                             ...  ...   \n",
       "15779                          0.000                           0.000  ...   \n",
       "15780                          0.000                           0.000  ...   \n",
       "15781                          0.000                           0.000  ...   \n",
       "15782                          0.000                           0.000  ...   \n",
       "15783                          0.000                           0.000  ...   \n",
       "\n",
       "       Disaster Type_Miscellaneous accident (General)  \\\n",
       "0                                               0.000   \n",
       "1                                               0.000   \n",
       "2                                               0.000   \n",
       "3                                               0.000   \n",
       "4                                               0.000   \n",
       "...                                               ...   \n",
       "15779                                           0.000   \n",
       "15780                                           0.000   \n",
       "15781                                           0.000   \n",
       "15782                                           0.000   \n",
       "15783                                           0.000   \n",
       "\n",
       "       Disaster Type_Oil spill  Disaster Type_Poisoning  \\\n",
       "0                        0.000                    0.000   \n",
       "1                        0.000                    0.000   \n",
       "2                        0.000                    0.000   \n",
       "3                        0.000                    0.000   \n",
       "4                        0.000                    0.000   \n",
       "...                        ...                      ...   \n",
       "15779                    0.000                    0.000   \n",
       "15780                    0.000                    0.000   \n",
       "15781                    0.000                    0.000   \n",
       "15782                    0.000                    0.000   \n",
       "15783                    0.000                    0.000   \n",
       "\n",
       "       Disaster Type_Radiation  Disaster Type_Rail  Disaster Type_Road  \\\n",
       "0                        0.000               0.000               0.000   \n",
       "1                        0.000               0.000               0.000   \n",
       "2                        0.000               0.000               0.000   \n",
       "3                        0.000               0.000               1.000   \n",
       "4                        0.000               0.000               0.000   \n",
       "...                        ...                 ...                 ...   \n",
       "15779                    0.000               0.000               0.000   \n",
       "15780                    0.000               0.000               0.000   \n",
       "15781                    0.000               0.000               0.000   \n",
       "15782                    0.000               0.000               0.000   \n",
       "15783                    0.000               0.000               0.000   \n",
       "\n",
       "       Disaster Type_Storm  Disaster Type_Volcanic activity  \\\n",
       "0                    0.000                            0.000   \n",
       "1                    0.000                            0.000   \n",
       "2                    0.000                            0.000   \n",
       "3                    0.000                            0.000   \n",
       "4                    0.000                            0.000   \n",
       "...                    ...                              ...   \n",
       "15779                0.000                            0.000   \n",
       "15780                0.000                            0.000   \n",
       "15781                0.000                            0.000   \n",
       "15782                0.000                            0.000   \n",
       "15783                0.000                            0.000   \n",
       "\n",
       "       Disaster Type_Water  Disaster Type_Wildfire  \n",
       "0                    0.000                   0.000  \n",
       "1                    0.000                   0.000  \n",
       "2                    0.000                   0.000  \n",
       "3                    0.000                   0.000  \n",
       "4                    0.000                   0.000  \n",
       "...                    ...                     ...  \n",
       "15779                0.000                   0.000  \n",
       "15780                0.000                   0.000  \n",
       "15781                0.000                   0.000  \n",
       "15782                0.000                   0.000  \n",
       "15783                0.000                   0.000  \n",
       "\n",
       "[15784 rows x 45 columns]"
      ]
     },
     "execution_count": 111,
     "metadata": {},
     "output_type": "execute_result"
    }
   ],
   "source": [
    "onehot_df"
   ]
  },
  {
   "cell_type": "code",
   "execution_count": null,
   "id": "66a0ca08-ac1e-4513-ad02-059ccf6ea2e4",
   "metadata": {},
   "outputs": [],
   "source": []
  }
 ],
 "metadata": {
  "kernelspec": {
   "display_name": "Python 3 (ipykernel)",
   "language": "python",
   "name": "python3"
  },
  "language_info": {
   "codemirror_mode": {
    "name": "ipython",
    "version": 3
   },
   "file_extension": ".py",
   "mimetype": "text/x-python",
   "name": "python",
   "nbconvert_exporter": "python",
   "pygments_lexer": "ipython3",
   "version": "3.9.13"
  }
 },
 "nbformat": 4,
 "nbformat_minor": 5
}
